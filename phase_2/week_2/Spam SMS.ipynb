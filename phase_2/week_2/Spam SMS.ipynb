{
 "cells": [
  {
   "cell_type": "markdown",
   "metadata": {},
   "source": [
    "# SMS Spam"
   ]
  },
  {
   "cell_type": "code",
   "execution_count": 92,
   "metadata": {},
   "outputs": [],
   "source": [
    "from sklearn.naive_bayes import MultinomialNB\n",
    "from sklearn.pipeline import make_pipeline\n",
    "from sklearn.model_selection import train_test_split\n",
    "from sklearn.metrics import classification_report\n",
    "from sklearn.feature_extraction.text import TfidfVectorizer\n",
    "from Sastrawi.StopWordRemover.StopWordRemoverFactory import StopWordRemoverFactory\n",
    "import matplotlib.pyplot as plt"
   ]
  },
  {
   "cell_type": "code",
   "execution_count": 88,
   "metadata": {},
   "outputs": [
    {
     "data": {
      "text/html": [
       "<div>\n",
       "<style scoped>\n",
       "    .dataframe tbody tr th:only-of-type {\n",
       "        vertical-align: middle;\n",
       "    }\n",
       "\n",
       "    .dataframe tbody tr th {\n",
       "        vertical-align: top;\n",
       "    }\n",
       "\n",
       "    .dataframe thead th {\n",
       "        text-align: right;\n",
       "    }\n",
       "</style>\n",
       "<table border=\"1\" class=\"dataframe\">\n",
       "  <thead>\n",
       "    <tr style=\"text-align: right;\">\n",
       "      <th></th>\n",
       "      <th>Teks</th>\n",
       "      <th>label</th>\n",
       "    </tr>\n",
       "  </thead>\n",
       "  <tbody>\n",
       "    <tr>\n",
       "      <th>0</th>\n",
       "      <td>[PROMO] Beli paket Flash mulai 1GB di MY TELKO...</td>\n",
       "      <td>2</td>\n",
       "    </tr>\n",
       "    <tr>\n",
       "      <th>1</th>\n",
       "      <td>2.5 GB/30 hari hanya Rp 35 Ribu Spesial buat A...</td>\n",
       "      <td>2</td>\n",
       "    </tr>\n",
       "    <tr>\n",
       "      <th>2</th>\n",
       "      <td>2016-07-08 11:47:11.Plg Yth, sisa kuota Flash ...</td>\n",
       "      <td>2</td>\n",
       "    </tr>\n",
       "    <tr>\n",
       "      <th>3</th>\n",
       "      <td>2016-08-07 11:29:47.Plg Yth, sisa kuota Flash ...</td>\n",
       "      <td>2</td>\n",
       "    </tr>\n",
       "    <tr>\n",
       "      <th>4</th>\n",
       "      <td>4.5GB/30 hari hanya Rp 55 Ribu Spesial buat an...</td>\n",
       "      <td>2</td>\n",
       "    </tr>\n",
       "  </tbody>\n",
       "</table>\n",
       "</div>"
      ],
      "text/plain": [
       "                                                Teks  label\n",
       "0  [PROMO] Beli paket Flash mulai 1GB di MY TELKO...      2\n",
       "1  2.5 GB/30 hari hanya Rp 35 Ribu Spesial buat A...      2\n",
       "2  2016-07-08 11:47:11.Plg Yth, sisa kuota Flash ...      2\n",
       "3  2016-08-07 11:29:47.Plg Yth, sisa kuota Flash ...      2\n",
       "4  4.5GB/30 hari hanya Rp 55 Ribu Spesial buat an...      2"
      ]
     },
     "execution_count": 88,
     "metadata": {},
     "output_type": "execute_result"
    }
   ],
   "source": [
    "df = pd.read_csv('https://raw.githubusercontent.com/afifai/hacktiv8-trial-class-spamdetector/main/data/dataset_sms_spam%20_v1.csv')\n",
    "df.head()"
   ]
  },
  {
   "cell_type": "code",
   "execution_count": 93,
   "metadata": {},
   "outputs": [
    {
     "data": {
      "text/plain": [
       "<AxesSubplot:>"
      ]
     },
     "execution_count": 93,
     "metadata": {},
     "output_type": "execute_result"
    },
    {
     "data": {
      "image/png": "[encoded data removed]",
      "text/plain": [
       "<Figure size 432x288 with 1 Axes>"
      ]
     },
     "metadata": {
      "needs_background": "light"
     },
     "output_type": "display_data"
    }
   ],
   "source": [
    "df.label = df.label.map({0: 'SMS Biasa',\n",
    "                         1: 'SMS Spam',\n",
    "                         2: 'SMS Operator'})\n",
    "df.label.value_counts().plot(kind='bar')"
   ]
  },
  {
   "cell_type": "code",
   "execution_count": 94,
   "metadata": {},
   "outputs": [],
   "source": [
    "X_train, X_test, y_train, y_test = train_test_split(df.Teks, df.label, random_state=46)"
   ]
  },
  {
   "cell_type": "code",
   "execution_count": 95,
   "metadata": {},
   "outputs": [
    {
     "data": {
      "text/plain": [
       "357    Maaf‟ Cuma ingatkan soal kontrakan kalau mau d...\n",
       "463    PT.TRI No.V11-3/16 Slamat No.SimCARD Anda mrai...\n",
       "89     HOT PROMO: Internetan kuota 1,2GB/30hr HANYA R...\n",
       "31     Beli 2 Gratis 1 atau beli 1 Diskon 25% tiket K...\n",
       "210    Spesial untuk Anda! Paket Internet Hemat Kuota...\n",
       "                             ...                        \n",
       "411    Pesan resmi dari 3care Bahwa saya mendapatkan ...\n",
       "658    bebas nama1, terus nanti kalau ada tgl libur, ...\n",
       "403    Pelanggan Yth. TRI CARE No.XV/2015 PIN_PEMENAN...\n",
       "442    Plg Yth: Simcard anda mendptkan bonus poin plu...\n",
       "837           Jauh amat jemput di poskamling cilimus dee\n",
       "Name: Teks, Length: 857, dtype: object"
      ]
     },
     "execution_count": 95,
     "metadata": {},
     "output_type": "execute_result"
    }
   ],
   "source": [
    "X_train"
   ]
  },
  {
   "cell_type": "code",
   "execution_count": 97,
   "metadata": {},
   "outputs": [],
   "source": [
    "factory = StopWordRemoverFactory()\n",
    "stopwords = factory.get_stop_words()"
   ]
  },
  {
   "cell_type": "code",
   "execution_count": 104,
   "metadata": {},
   "outputs": [
    {
     "data": {
      "text/plain": [
       "(<857x4098 sparse matrix of type '<class 'numpy.float64'>'\n",
       " \twith 14259 stored elements in Compressed Sparse Row format>,\n",
       " <286x4098 sparse matrix of type '<class 'numpy.float64'>'\n",
       " \twith 4025 stored elements in Compressed Sparse Row format>)"
      ]
     },
     "execution_count": 104,
     "metadata": {},
     "output_type": "execute_result"
    }
   ],
   "source": [
    "vect = TfidfVectorizer()\n",
    "vect.fit(X_train)\n",
    "X_train_vect = vect.transform(X_train)\n",
    "X_test_vect = vect.transform(X_test)\n",
    "\n",
    "X_train_vect, X_test_vect"
   ]
  },
  {
   "cell_type": "code",
   "execution_count": 106,
   "metadata": {},
   "outputs": [
    {
     "data": {
      "text/plain": [
       "MultinomialNB()"
      ]
     },
     "execution_count": 106,
     "metadata": {},
     "output_type": "execute_result"
    }
   ],
   "source": [
    "mnb = MultinomialNB()\n",
    "mnb.fit(X_train_vect,y_train)"
   ]
  },
  {
   "cell_type": "code",
   "execution_count": 108,
   "metadata": {},
   "outputs": [
    {
     "name": "stdout",
     "output_type": "stream",
     "text": [
      "              precision    recall  f1-score   support\n",
      "\n",
      "   SMS Biasa       0.95      0.95      0.95       138\n",
      "SMS Operator       0.87      0.86      0.87        64\n",
      "    SMS Spam       0.86      0.87      0.86        84\n",
      "\n",
      "    accuracy                           0.91       286\n",
      "   macro avg       0.89      0.89      0.89       286\n",
      "weighted avg       0.91      0.91      0.91       286\n",
      "\n"
     ]
    }
   ],
   "source": [
    "y_pred = mnb.predict(X_test_vect)\n",
    "print(classification_report(y_test, y_pred))"
   ]
  },
  {
   "cell_type": "code",
   "execution_count": 109,
   "metadata": {},
   "outputs": [
    {
     "data": {
      "text/plain": [
       "(<857x4010 sparse matrix of type '<class 'numpy.float64'>'\n",
       " \twith 12378 stored elements in Compressed Sparse Row format>,\n",
       " <286x4010 sparse matrix of type '<class 'numpy.float64'>'\n",
       " \twith 3397 stored elements in Compressed Sparse Row format>)"
      ]
     },
     "execution_count": 109,
     "metadata": {},
     "output_type": "execute_result"
    }
   ],
   "source": [
    "vect = TfidfVectorizer(stop_words=stopwords)\n",
    "vect.fit(X_train)\n",
    "X_train_vect = vect.transform(X_train)\n",
    "X_test_vect = vect.transform(X_test)\n",
    "\n",
    "X_train_vect, X_test_vect"
   ]
  },
  {
   "cell_type": "code",
   "execution_count": 110,
   "metadata": {},
   "outputs": [
    {
     "name": "stdout",
     "output_type": "stream",
     "text": [
      "              precision    recall  f1-score   support\n",
      "\n",
      "   SMS Biasa       0.97      0.96      0.97       138\n",
      "SMS Operator       0.89      0.86      0.87        64\n",
      "    SMS Spam       0.89      0.92      0.90        84\n",
      "\n",
      "    accuracy                           0.93       286\n",
      "   macro avg       0.91      0.91      0.91       286\n",
      "weighted avg       0.93      0.93      0.93       286\n",
      "\n"
     ]
    }
   ],
   "source": [
    "mnb = MultinomialNB()\n",
    "mnb.fit(X_train_vect,y_train)\n",
    "y_pred = mnb.predict(X_test_vect)\n",
    "print(classification_report(y_test, y_pred))"
   ]
  },
  {
   "cell_type": "code",
   "execution_count": 113,
   "metadata": {},
   "outputs": [
    {
     "data": {
      "text/plain": [
       "(<857x519 sparse matrix of type '<class 'numpy.float64'>'\n",
       " \twith 7403 stored elements in Compressed Sparse Row format>,\n",
       " <286x519 sparse matrix of type '<class 'numpy.float64'>'\n",
       " \twith 2372 stored elements in Compressed Sparse Row format>)"
      ]
     },
     "execution_count": 113,
     "metadata": {},
     "output_type": "execute_result"
    }
   ],
   "source": [
    "vect = TfidfVectorizer(stop_words=stopwords, min_df=0.005, max_df=0.99)\n",
    "vect.fit(X_train)\n",
    "X_train_vect = vect.transform(X_train)\n",
    "X_test_vect = vect.transform(X_test)\n",
    "\n",
    "X_train_vect, X_test_vect"
   ]
  },
  {
   "cell_type": "code",
   "execution_count": 114,
   "metadata": {},
   "outputs": [
    {
     "name": "stdout",
     "output_type": "stream",
     "text": [
      "              precision    recall  f1-score   support\n",
      "\n",
      "   SMS Biasa       0.95      0.95      0.95       138\n",
      "SMS Operator       0.85      0.86      0.85        64\n",
      "    SMS Spam       0.86      0.85      0.85        84\n",
      "\n",
      "    accuracy                           0.90       286\n",
      "   macro avg       0.88      0.88      0.88       286\n",
      "weighted avg       0.90      0.90      0.90       286\n",
      "\n"
     ]
    }
   ],
   "source": [
    "mnb = MultinomialNB()\n",
    "mnb.fit(X_train_vect,y_train)\n",
    "y_pred = mnb.predict(X_test_vect)\n",
    "print(classification_report(y_test, y_pred))"
   ]
  },
  {
   "cell_type": "code",
   "execution_count": 115,
   "metadata": {},
   "outputs": [],
   "source": [
    "pipeline = make_pipeline(vect, mnb)"
   ]
  },
  {
   "cell_type": "code",
   "execution_count": 116,
   "metadata": {},
   "outputs": [
    {
     "data": {
      "text/plain": [
       "Pipeline(steps=[('tfidfvectorizer',\n",
       "                 TfidfVectorizer(max_df=0.99, min_df=0.005,\n",
       "                                 stop_words=['yang', 'untuk', 'pada', 'ke',\n",
       "                                             'para', 'namun', 'menurut',\n",
       "                                             'antara', 'dia', 'dua', 'ia',\n",
       "                                             'seperti', 'jika', 'jika',\n",
       "                                             'sehingga', 'kembali', 'dan',\n",
       "                                             'tidak', 'ini', 'karena', 'kepada',\n",
       "                                             'oleh', 'saat', 'harus',\n",
       "                                             'sementara', 'setelah', 'belum',\n",
       "                                             'kami', 'sekitar', 'bagi', ...])),\n",
       "                ('multinomialnb', MultinomialNB())])"
      ]
     },
     "execution_count": 116,
     "metadata": {},
     "output_type": "execute_result"
    }
   ],
   "source": [
    "pipeline.fit(X_train,y_train)"
   ]
  },
  {
   "cell_type": "code",
   "execution_count": 117,
   "metadata": {},
   "outputs": [
    {
     "name": "stdout",
     "output_type": "stream",
     "text": [
      "              precision    recall  f1-score   support\n",
      "\n",
      "   SMS Biasa       0.95      0.95      0.95       138\n",
      "SMS Operator       0.85      0.86      0.85        64\n",
      "    SMS Spam       0.86      0.85      0.85        84\n",
      "\n",
      "    accuracy                           0.90       286\n",
      "   macro avg       0.88      0.88      0.88       286\n",
      "weighted avg       0.90      0.90      0.90       286\n",
      "\n"
     ]
    }
   ],
   "source": [
    "y_pred = pipeline.predict(X_test)\n",
    "print(classification_report(y_test, y_pred))"
   ]
  },
  {
   "cell_type": "code",
   "execution_count": 118,
   "metadata": {},
   "outputs": [],
   "source": [
    "new_sms = [\n",
    "    'hai bro, apa kabar?',\n",
    "    'kuota 1 GB hanya 10.000 rupiah, dapatkan di aplikasi MyGSM',\n",
    "    'pesugihan halal, lipatgandakan uang anda bersama ki anu'\n",
    "]"
   ]
  },
  {
   "cell_type": "code",
   "execution_count": 119,
   "metadata": {},
   "outputs": [
    {
     "data": {
      "text/plain": [
       "array(['SMS Biasa', 'SMS Operator', 'SMS Biasa'], dtype='<U12')"
      ]
     },
     "execution_count": 119,
     "metadata": {},
     "output_type": "execute_result"
    }
   ],
   "source": [
    "pipeline.predict(new_sms)"
   ]
  },
  {
   "cell_type": "code",
   "execution_count": 120,
   "metadata": {},
   "outputs": [
    {
     "data": {
      "text/plain": [
       "array(['SMS Biasa', 'SMS Biasa', 'SMS Biasa'], dtype='<U12')"
      ]
     },
     "execution_count": 120,
     "metadata": {},
     "output_type": "execute_result"
    }
   ],
   "source": [
    "pipeline.predict(corpus)"
   ]
  }
 ],
 "metadata": {
  "interpreter": {
   "hash": "c524142758e41ff8da72ba142ad7f8c770fa04ceb078ed7556ced5f6ce4ae027"
  },
  "kernelspec": {
   "display_name": "Python 3.9.12 64-bit",
   "language": "python",
   "name": "python3"
  },
  "language_info": {
   "codemirror_mode": {
    "name": "ipython",
    "version": 3
   },
   "file_extension": ".py",
   "mimetype": "text/x-python",
   "name": "python",
   "nbconvert_exporter": "python",
   "pygments_lexer": "ipython3",
   "version": "3.9.12"
  },
  "orig_nbformat": 4
 },
 "nbformat": 4,
 "nbformat_minor": 2
}
