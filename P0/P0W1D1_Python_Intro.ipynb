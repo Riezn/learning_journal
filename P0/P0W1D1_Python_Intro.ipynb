{
 "cells": [
  {
   "cell_type": "markdown",
   "metadata": {},
   "source": [
    "Hello"
   ]
  },
  {
   "cell_type": "code",
   "execution_count": 4,
   "metadata": {},
   "outputs": [
    {
     "name": "stdout",
     "output_type": "stream",
     "text": [
      "Hello\n"
     ]
    }
   ],
   "source": [
    "print(\"Hello\")"
   ]
  },
  {
   "cell_type": "markdown",
   "metadata": {},
   "source": [
    "Dot (.)"
   ]
  },
  {
   "cell_type": "code",
   "execution_count": 1,
   "metadata": {},
   "outputs": [
    {
     "name": "stdout",
     "output_type": "stream",
     "text": [
      "4.2\n",
      "<class 'float'>\n",
      "4\n",
      "<class 'int'>\n",
      "4.0\n",
      "0.4\n",
      "4000.0\n",
      "400.0\n",
      "0.004\n",
      "0.0004\n"
     ]
    }
   ],
   "source": [
    "print(4.2)\n",
    "print(type(4.2))\n",
    "print(4)\n",
    "print(type(4))\n",
    "print(4.)\n",
    "print(.4)\n",
    "print(4e3)\n",
    "print(.4e3)\n",
    "print(4e-3)\n",
    "print(.4e-3)"
   ]
  },
  {
   "cell_type": "markdown",
   "metadata": {},
   "source": [
    "Quote"
   ]
  },
  {
   "cell_type": "code",
   "execution_count": 10,
   "metadata": {},
   "outputs": [
    {
     "name": "stdout",
     "output_type": "stream",
     "text": [
      "Hello\n",
      "'Hello'\n",
      "\"Hello\"\n"
     ]
    }
   ],
   "source": [
    "print(\"Hello\")\n",
    "print(\"'Hello'\")\n",
    "print('\"Hello\"')"
   ]
  },
  {
   "cell_type": "markdown",
   "metadata": {},
   "source": [
    "Linebreak Quote"
   ]
  },
  {
   "cell_type": "code",
   "execution_count": 8,
   "metadata": {},
   "outputs": [
    {
     "name": "stdout",
     "output_type": "stream",
     "text": [
      "1Hello\n",
      "World\n",
      "2Hello\n",
      "World\n",
      "3Hello\n",
      "World\n",
      "4\"\"Hello\n",
      "World\n",
      "Hello\n",
      "World\n"
     ]
    }
   ],
   "source": [
    "print(\"\"\"1Hello\n",
    "World\"\"\")\n",
    "print('''2Hello\n",
    "World''')\n",
    "print(\"3Hello\\nWorld\")\n",
    "print(\"\"\"4\"\"Hello\n",
    "World\"\"\")\n",
    "print('''Hello\n",
    "World''')"
   ]
  },
  {
   "cell_type": "markdown",
   "metadata": {},
   "source": [
    "Type"
   ]
  },
  {
   "cell_type": "code",
   "execution_count": 15,
   "metadata": {},
   "outputs": [
    {
     "name": "stdout",
     "output_type": "stream",
     "text": [
      "2 4\n",
      "<class 'str'>\n",
      "True\n",
      "<class 'int'>\n",
      "False\n"
     ]
    }
   ],
   "source": [
    "print('2',4)\n",
    "print(type('2'))\n",
    "print(type('2')==str)\n",
    "print(type(2))\n",
    "print(type(2)==str)"
   ]
  },
  {
   "cell_type": "markdown",
   "metadata": {},
   "source": [
    "Casting"
   ]
  },
  {
   "cell_type": "code",
   "execution_count": 1,
   "metadata": {},
   "outputs": [
    {
     "name": "stdout",
     "output_type": "stream",
     "text": [
      "<class 'str'>\n",
      "22\n",
      "3\n",
      "5\n",
      "2 3\n"
     ]
    }
   ],
   "source": [
    "x=2\n",
    "print(type(str(x)))\n",
    "print(str(x)+'2')\n",
    "y='3'\n",
    "print(y)\n",
    "print(x+int(y))\n",
    "print(x,y)\n",
    "#print(type(x,y)) --> bakal error"
   ]
  },
  {
   "cell_type": "markdown",
   "metadata": {},
   "source": [
    "Round"
   ]
  },
  {
   "cell_type": "code",
   "execution_count": 8,
   "metadata": {},
   "outputs": [
    {
     "name": "stdout",
     "output_type": "stream",
     "text": [
      "2 4 1\n",
      "0.7272727272727273\n",
      "0.727\n",
      "<class 'float'>\n"
     ]
    }
   ],
   "source": [
    "x = round(2.5)\n",
    "y = round(3.6)\n",
    "z = round(1.4)\n",
    "print(x,y,z)\n",
    "print(x*y/11)\n",
    "print(round((x*y/11),3))\n",
    "print(type(round((x*y/11),3)))"
   ]
  },
  {
   "cell_type": "markdown",
   "metadata": {},
   "source": [
    "Operator"
   ]
  },
  {
   "cell_type": "code",
   "execution_count": 18,
   "metadata": {},
   "outputs": [
    {
     "name": "stdout",
     "output_type": "stream",
     "text": [
      "r\n",
      "Lo\n",
      "rem Ipsum Dolor Sit Amet\n",
      "Lorem Ipsum Dolor Sit A\n",
      "met\n",
      "Lorem Ipsum Dolor Sit Amet\n",
      "LrmIsmDlrStAe\n",
      "Lorem Ipsum Dolor Sit Amet\n",
      "LeIuDoS e\n"
     ]
    }
   ],
   "source": [
    "a = \"Lorem Ipsum Dolor Sit Amet\"\n",
    "print(a[2]) #Index ke-2+1 (ketiga)\n",
    "print(a[:2]) #sampai index sebelum ke-2+1\n",
    "print(a[2:]) #dari index ke-2+1 sampai akhir\n",
    "print(a[:-3]) #dari awal sampai index sebelum 3 index terakhir\n",
    "print(a[-3:]) #3 index terakhir\n",
    "print(a[:]) #semua\n",
    "print(a[::2]) #step 2\n",
    "print(a[::1]) #step 1, ga ada yang dilewat\n",
    "print(a[::3])"
   ]
  },
  {
   "cell_type": "markdown",
   "metadata": {},
   "source": [
    "Format"
   ]
  },
  {
   "cell_type": "code",
   "execution_count": 21,
   "metadata": {},
   "outputs": [
    {
     "name": "stdout",
     "output_type": "stream",
     "text": [
      "Bonus tahun ini 10 kali, jangan seperti tahun lalu 1 kali\n",
      "Bonus tahun ini 1 kali, jangan seperti tahun lalu 10 kali\n"
     ]
    }
   ],
   "source": [
    "bonus = 10\n",
    "tahun_lalu = 1\n",
    "txt = 'Bonus tahun ini {} kali, jangan seperti tahun lalu {} kali'\n",
    "print(txt.format(bonus,tahun_lalu))\n",
    "txt2 = 'Bonus tahun ini {1} kali, jangan seperti tahun lalu {0} kali' #Index 1 di awal, index 0 di belakang\n",
    "print(txt2.format(bonus,tahun_lalu))"
   ]
  },
  {
   "cell_type": "code",
   "execution_count": 22,
   "metadata": {},
   "outputs": [
    {
     "name": "stdout",
     "output_type": "stream",
     "text": [
      "Nilai ujian 10\n"
     ]
    }
   ],
   "source": [
    "print(f'Nilai ujian {bonus}')"
   ]
  },
  {
   "cell_type": "code",
   "execution_count": 24,
   "metadata": {},
   "outputs": [
    {
     "name": "stdout",
     "output_type": "stream",
     "text": [
      "harganya hanya 49000.00 rupiah!\n",
      "harganya hanya 1000.0 rupiah!\n",
      "harganya hanya 0.00 rupiah!\n"
     ]
    }
   ],
   "source": [
    "txt = \"harganya hanya {price:.2f} rupiah!\" #jadika ke float\n",
    "print(txt.format(price = 49000))\n",
    "txt = \"harganya hanya {price:.1f} rupiah!\" #jadika ke float\n",
    "print(txt.format(price = 1000))\n",
    "txt = \"harganya hanya {price:.2f} rupiah!\" #jadika ke float\n",
    "print(txt.format(price = 0.00001))"
   ]
  },
  {
   "cell_type": "code",
   "execution_count": 27,
   "metadata": {},
   "outputs": [
    {
     "name": "stdout",
     "output_type": "stream",
     "text": [
      "2\n"
     ]
    }
   ],
   "source": [
    "s = 'foo'\n",
    "t = 'bar'\n",
    "u = 'baz'\n",
    "list1 = [s,t,u]\n",
    "print(list1.index(\"baz\"))"
   ]
  },
  {
   "cell_type": "code",
   "execution_count": 30,
   "metadata": {},
   "outputs": [
    {
     "name": "stdout",
     "output_type": "stream",
     "text": [
      "[50, 65, 23, 82, 100]\n"
     ]
    }
   ],
   "source": [
    "# Customize Sort Function -> Jarak terdekat dari 50 dalam absolute\n",
    "def myfunc(n):\n",
    "   return abs(n - 50) #abs adalah nilai absolut\n",
    "\n",
    "thislist = [100, 50, 65, 82, 23]\n",
    "thislist.sort(key = myfunc)\n",
    "print(thislist)"
   ]
  },
  {
   "cell_type": "code",
   "execution_count": 31,
   "metadata": {},
   "outputs": [
    {
     "name": "stdout",
     "output_type": "stream",
     "text": [
      "19\n"
     ]
    }
   ],
   "source": [
    "print(int(19.8))"
   ]
  },
  {
   "cell_type": "code",
   "execution_count": 34,
   "metadata": {},
   "outputs": [
    {
     "name": "stdout",
     "output_type": "stream",
     "text": [
      "<class 'list'>\n",
      "<class 'int'>\n"
     ]
    }
   ],
   "source": [
    "list = [\"A\",\"b\",3]\n",
    "print(type(list))\n",
    "print(type(list[2]))"
   ]
  },
  {
   "cell_type": "code",
   "execution_count": 36,
   "metadata": {},
   "outputs": [
    {
     "name": "stdout",
     "output_type": "stream",
     "text": [
      "['foo', 'jojo', 'baba', 'baz', 'qux', 'nex']\n"
     ]
    }
   ],
   "source": [
    "list = ['foo','bar','baz','qux','nex']\n",
    "list[1:2] = [\"jojo\",\"baba\"]\n",
    "print(list)"
   ]
  },
  {
   "cell_type": "code",
   "execution_count": 38,
   "metadata": {},
   "outputs": [
    {
     "name": "stdout",
     "output_type": "stream",
     "text": [
      "['foo', 'jojo', 'baba', 'baz', 'qux', 'nex']\n",
      "['foo', 'baba', 'baz', 'qux', 'nex']\n"
     ]
    }
   ],
   "source": [
    "print(list)\n",
    "list.pop(1)\n",
    "print(list)"
   ]
  },
  {
   "cell_type": "code",
   "execution_count": 44,
   "metadata": {},
   "outputs": [
    {
     "name": "stdout",
     "output_type": "stream",
     "text": [
      "['1'] ['1']\n",
      "['3'] ['1']\n"
     ]
    }
   ],
   "source": [
    "a = [\"1\"]\n",
    "b = a\n",
    "c = a.copy()\n",
    "print(b, c)\n",
    "a[0] = \"3\"\n",
    "print(b, c)"
   ]
  }
 ],
 "metadata": {
  "interpreter": {
   "hash": "c524142758e41ff8da72ba142ad7f8c770fa04ceb078ed7556ced5f6ce4ae027"
  },
  "kernelspec": {
   "display_name": "Python 3.9.0 64-bit",
   "language": "python",
   "name": "python3"
  },
  "language_info": {
   "codemirror_mode": {
    "name": "ipython",
    "version": 3
   },
   "file_extension": ".py",
   "mimetype": "text/x-python",
   "name": "python",
   "nbconvert_exporter": "python",
   "pygments_lexer": "ipython3",
   "version": "3.10.2"
  },
  "orig_nbformat": 4
 },
 "nbformat": 4,
 "nbformat_minor": 2
}
