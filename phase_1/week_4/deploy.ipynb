{
 "cells": [
  {
   "cell_type": "code",
   "execution_count": 1,
   "metadata": {},
   "outputs": [],
   "source": [
    "import pickle\n",
    "import pandas as pd\n",
    "import numpy as np"
   ]
  },
  {
   "cell_type": "code",
   "execution_count": 2,
   "metadata": {},
   "outputs": [],
   "source": [
    "df = pd.read_csv('https://raw.githubusercontent.com/afifai/pelatihan_machinelearning/master/data/train.csv')"
   ]
  },
  {
   "cell_type": "code",
   "execution_count": 3,
   "metadata": {},
   "outputs": [],
   "source": [
    "with open(\"pipeline.pkl\", \"rb\") as f:\n",
    "    pipeline = pickle.load(f)"
   ]
  },
  {
   "cell_type": "code",
   "execution_count": 8,
   "metadata": {},
   "outputs": [],
   "source": [
    "new_data = df.iloc[0:2]\n",
    "pred = pipeline.predict(new_data)"
   ]
  },
  {
   "cell_type": "code",
   "execution_count": 10,
   "metadata": {},
   "outputs": [
    {
     "data": {
      "text/plain": [
       "array([0, 1], dtype=int64)"
      ]
     },
     "execution_count": 10,
     "metadata": {},
     "output_type": "execute_result"
    }
   ],
   "source": [
    "pred"
   ]
  },
  {
   "cell_type": "markdown",
   "metadata": {},
   "source": [
    "# Akses API"
   ]
  },
  {
   "cell_type": "code",
   "execution_count": 11,
   "metadata": {},
   "outputs": [],
   "source": [
    "import requests"
   ]
  },
  {
   "cell_type": "code",
   "execution_count": 13,
   "metadata": {},
   "outputs": [],
   "source": [
    "kota = 'jakarta'\n",
    "tanggal = '2022-04-06'\n",
    "URL = f'https://api.pray.zone/v2/times/day.json?city={kota}&date={tanggal}'\n",
    "\n",
    "r = requests.get(URL)\n",
    "\n",
    "data = r.json()"
   ]
  },
  {
   "cell_type": "code",
   "execution_count": 14,
   "metadata": {},
   "outputs": [
    {
     "data": {
      "text/plain": [
       "{'code': 200,\n",
       " 'status': 'OK',\n",
       " 'results': {'datetime': [{'times': {'Imsak': '04:35',\n",
       "     'Sunrise': '05:54',\n",
       "     'Fajr': '04:45',\n",
       "     'Dhuhr': '11:55',\n",
       "     'Asr': '15:12',\n",
       "     'Sunset': '17:56',\n",
       "     'Maghrib': '18:08',\n",
       "     'Isha': '19:01',\n",
       "     'Midnight': '23:21'},\n",
       "    'date': {'timestamp': 1649203200,\n",
       "     'gregorian': '2022-04-06',\n",
       "     'hijri': '1443-09-05'}}],\n",
       "  'location': {'latitude': -6.208763599395752,\n",
       "   'longitude': 106.84559631347656,\n",
       "   'elevation': 15.0,\n",
       "   'city': 'Jakarta',\n",
       "   'country': 'Republic of Indonesia',\n",
       "   'country_code': 'ID',\n",
       "   'timezone': 'Asia/Jakarta',\n",
       "   'local_offset': 7.0},\n",
       "  'settings': {'timeformat': 'HH:mm',\n",
       "   'school': 'Ithna Ashari',\n",
       "   'juristic': 'Shafii',\n",
       "   'highlat': 'None',\n",
       "   'fajr_angle': 18.0,\n",
       "   'isha_angle': 17.0}}}"
      ]
     },
     "execution_count": 14,
     "metadata": {},
     "output_type": "execute_result"
    }
   ],
   "source": [
    "data"
   ]
  },
  {
   "cell_type": "code",
   "execution_count": 17,
   "metadata": {},
   "outputs": [
    {
     "data": {
      "text/plain": [
       "'04:35'"
      ]
     },
     "execution_count": 17,
     "metadata": {},
     "output_type": "execute_result"
    }
   ],
   "source": [
    "data['results']['datetime'][0]['times']['Imsak']"
   ]
  },
  {
   "cell_type": "code",
   "execution_count": 1,
   "metadata": {},
   "outputs": [],
   "source": [
    "import requests\n",
    "URL = 'http://127.0.0.1:5000/modify'\n",
    "data = {'nama': 'Judan'}\n",
    "r = requests.post(URL, json=data)"
   ]
  },
  {
   "cell_type": "code",
   "execution_count": 7,
   "metadata": {},
   "outputs": [
    {
     "data": {
      "text/plain": [
       "{'code': 200,\n",
       " 'result': {'description': 'Survived', 'prediction': '1'},\n",
       " 'status': 'OK'}"
      ]
     },
     "execution_count": 7,
     "metadata": {},
     "output_type": "execute_result"
    }
   ],
   "source": [
    "import requests\n",
    "URL = 'https://tesdepljudan.herokuapp.com/predict'\n",
    "data = {'passenger_class':1,\n",
    "        'fare':1000,\n",
    "        'age':21,\n",
    "        'siblingspouse':0,\n",
    "        'parentchildren':0,\n",
    "        'gender':'male'}\n",
    "\n",
    "r = requests.post(URL, json=data)\n",
    "r.json()"
   ]
  },
  {
   "cell_type": "code",
   "execution_count": 6,
   "metadata": {},
   "outputs": [
    {
     "data": {
      "text/plain": [
       "{'code': 500, 'result': {'error_msg': \"'gender'\"}, 'status': 'ERROR'}"
      ]
     },
     "execution_count": 6,
     "metadata": {},
     "output_type": "execute_result"
    }
   ],
   "source": [
    "import requests\n",
    "URL = 'http://127.0.0.1:5000/predict'\n",
    "data = {'passenger_class':1,\n",
    "        'fare':1000,\n",
    "        'age':21,\n",
    "        'siblingspouse':0,\n",
    "        'parentchildren':0}\n",
    "\n",
    "r = requests.post(URL, json=data)\n",
    "r.json()"
   ]
  }
 ],
 "metadata": {
  "interpreter": {
   "hash": "c511a689884ea87b05d7e6308bcd3bc07b8326d80ebf1c46c0d8c6a4a82d4d0a"
  },
  "kernelspec": {
   "display_name": "Python 3.10.2 64-bit",
   "language": "python",
   "name": "python3"
  },
  "language_info": {
   "codemirror_mode": {
    "name": "ipython",
    "version": 3
   },
   "file_extension": ".py",
   "mimetype": "text/x-python",
   "name": "python",
   "nbconvert_exporter": "python",
   "pygments_lexer": "ipython3",
   "version": "3.10.2"
  },
  "orig_nbformat": 4
 },
 "nbformat": 4,
 "nbformat_minor": 2
}
