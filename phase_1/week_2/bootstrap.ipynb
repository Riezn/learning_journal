{
 "cells": [
  {
   "cell_type": "code",
   "execution_count": 6,
   "metadata": {},
   "outputs": [
    {
     "name": "stdout",
     "output_type": "stream",
     "text": [
      "No Replacement:\n",
      "['n' 'a' 'h' 'j']\n",
      "['g' 'i' 'h' 'k']\n",
      "['b' 'p' 'j' 'g']\n",
      "['n' 'm' 'p' 'j']\n",
      "\n",
      "With Replacement:\n",
      "['o' 'l' 'k' 'n']\n",
      "['n' 'a' 'k' 'k']\n",
      "['d' 'b' 'h' 'j']\n",
      "['n' 'n' 'n' 'h']\n"
     ]
    }
   ],
   "source": [
    "import numpy as np\n",
    "import string\n",
    "\n",
    "population = np.array(list(string.ascii_lowercase)[:16])\n",
    "\n",
    "print(\"No Replacement:\")\n",
    "for i in range(4):\n",
    "    print(np.random.choice(population, 4, replace=False))\n",
    "\n",
    "print(\"\\nWith Replacement:\")\n",
    "for i in range(4):\n",
    "    print(np.random.choice(population, 4, replace=True)) "
   ]
  }
 ],
 "metadata": {
  "interpreter": {
   "hash": "c511a689884ea87b05d7e6308bcd3bc07b8326d80ebf1c46c0d8c6a4a82d4d0a"
  },
  "kernelspec": {
   "display_name": "Python 3.10.2 64-bit",
   "language": "python",
   "name": "python3"
  },
  "language_info": {
   "codemirror_mode": {
    "name": "ipython",
    "version": 3
   },
   "file_extension": ".py",
   "mimetype": "text/x-python",
   "name": "python",
   "nbconvert_exporter": "python",
   "pygments_lexer": "ipython3",
   "version": "3.10.2"
  },
  "orig_nbformat": 4
 },
 "nbformat": 4,
 "nbformat_minor": 2
}
