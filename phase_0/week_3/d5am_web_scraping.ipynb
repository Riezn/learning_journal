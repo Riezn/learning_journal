{
 "cells": [
  {
   "cell_type": "code",
   "execution_count": 159,
   "metadata": {},
   "outputs": [],
   "source": [
    "import requests"
   ]
  },
  {
   "cell_type": "code",
   "execution_count": 195,
   "metadata": {},
   "outputs": [],
   "source": [
    "url = \"https://www.gramedia.com/categories/buku\" #https://www.gramedia.com/categories/buku"
   ]
  },
  {
   "cell_type": "code",
   "execution_count": 161,
   "metadata": {},
   "outputs": [
    {
     "data": {
      "text/plain": [
       "<Response [200]>"
      ]
     },
     "execution_count": 161,
     "metadata": {},
     "output_type": "execute_result"
    }
   ],
   "source": [
    "page = requests.get(url)\n",
    "page"
   ]
  },
  {
   "cell_type": "code",
   "execution_count": 162,
   "metadata": {},
   "outputs": [],
   "source": [
    "path = r'C:\\Users\\Judan Syamsul Hadad\\Downloads\\chromedriver'"
   ]
  },
  {
   "cell_type": "code",
   "execution_count": 163,
   "metadata": {},
   "outputs": [],
   "source": [
    "from bs4 import BeautifulSoup\n",
    "from selenium import webdriver"
   ]
  },
  {
   "cell_type": "code",
   "execution_count": 197,
   "metadata": {},
   "outputs": [
    {
     "name": "stderr",
     "output_type": "stream",
     "text": [
      "C:\\Users\\Judan Syamsul Hadad\\AppData\\Local\\Temp\\ipykernel_9156\\707667432.py:1: DeprecationWarning: executable_path has been deprecated, please pass in a Service object\n",
      "  driver = webdriver.Chrome(path)\n"
     ]
    },
    {
     "name": "stdout",
     "output_type": "stream",
     "text": [
      "<html class=\"\" lang=\"id\">\n",
      " <head>\n",
      "  <base href=\"/\"/>\n",
      "  <meta charset=\"utf-8\"/>\n",
      "  <meta content=\"width=device-width, initial-scale=1\" name=\"viewport\"/>\n",
      "  <meta content=\"#281e5a\" name=\"theme-color\"/>\n",
      "  <meta content=\"index, follow\" name=\"robots\"/>\n",
      "  <link href=\"/assets/favicon.ico\" rel=\"icon\" type=\"image/x-icon\"/>\n",
      "  <link href=\"manifest.json\" rel=\"manifest\"/>\n",
      "  <link href=\"/assets/favicon.ico\" rel=\"shortcut icon\" type=\"image/x-icon\"/>\n",
      "  <meta content=\"z91Vp6ZYo9UoX5D4ur6i4Lrl0l1j3DDoCH08fD3n53g\" name=\"google-site-verification\"/>\n",
      "  <meta content=\"810657685650228\" property=\"fb:app_id\"/>\n",
      "  <style>\n",
      "   .async-hide {\n",
      "        opacity: 0 !important\n",
      "    }\n",
      "  </style>\n",
      "  <script async=\"\" src=\"https://app.\n"
     ]
    }
   ],
   "source": [
    "driver = webdriver.Chrome(path)\n",
    "driver.get(url)\n",
    "html = driver.page_source\n",
    "\n",
    "soup = BeautifulSoup(html, \"html.parser\")\n",
    "print(soup.prettify()[:700])"
   ]
  },
  {
   "cell_type": "code",
   "execution_count": 203,
   "metadata": {},
   "outputs": [
    {
     "name": "stdout",
     "output_type": "stream",
     "text": [
      "/products/anak-pintar-mewarnai-si-poni-teman-teman-bonus-stiker\n",
      "/products/afganistan-negeri-yang-koyak-oleh-perang-1\n",
      "/products/tasawuf-jawa\n",
      "/products/biografi-karl-marx\n",
      "/products/aksi-massa\n",
      "/products/misteri-puasa-hemat-syukur-1\n",
      "/products/gerpolek-gerilya-politik-ekonomi\n",
      "/products/buku-baby-touch-and-feel-peternakan\n",
      "/products/buku-baby-touch-and-feel-tidur\n",
      "/products/buku-baby-touch-and-feel-bermain\n",
      "/products/buku-baby-touch-and-feel-warna\n",
      "/products/buku-baby-touch-and-feel-mandi\n",
      "/products/buku-baby-touch-and-feel-angka\n",
      "/products/buku-baby-touch-and-feel-kendaraan\n",
      "/products/buku-baby-touch-and-feel-makan\n",
      "/products/akuntansi-manajemen-untuk-hotel-restoran\n",
      "/products/arganta\n",
      "/products/transisikandasnya-konsolidasi-demokratis-pasca-soeharto\n",
      "/products/reformasi-birokrasi-era-pemerintahan-joko-widodo\n",
      "/products/excor-legacies-concealed-society\n"
     ]
    }
   ],
   "source": [
    "for tag in soup.find_all( 'div',{\"_ngcontent-web-gramedia-c26\":\"\",\"class\":\"ng-star-inserted\"}):\n",
    "        #print(tag)\n",
    "        try:\n",
    "            link = tag.find('a',{\"_ngcontent-web-gramedia-c26\":\"\"})['href']\n",
    "            print(link)\n",
    "        except:\n",
    "            pass"
   ]
  },
  {
   "cell_type": "code",
   "execution_count": 168,
   "metadata": {},
   "outputs": [
    {
     "name": "stdout",
     "output_type": "stream",
     "text": [
      "\n",
      "Jump to navigation\n",
      "Jump to search\n",
      "SSR Characters\n",
      "1 Premium Draw\n",
      "2 Event\n",
      "3 Grand Series\n",
      "4 12 Generals\n",
      "5 Valentine\n",
      "6 Summer/Yukata\n",
      "7 Halloween\n",
      "8 Holiday\n",
      "9 Jewel Resort Casino\n",
      "10 Arcarum: The World Beyond\n",
      "11 Side Stories\n",
      "12 Collaboration\n",
      "13 Promotional\n",
      "14 The Eternals\n",
      "15 Arcarum Evokers\n",
      "http://gbf.wiki/index.php?title=SSR_Characters_List&oldid=438152\n",
      "Read\n",
      "Collection Tracker\n",
      "Tier List\n",
      "Discord\n",
      "Donate\n",
      "Created by the Stars, Loved by the Skies\n",
      "Proving Grounds\n",
      "Side Stories\n",
      "Event History\n",
      "Story Archive\n",
      "Rerolling\n",
      "FAQ\n",
      "New Player Checklist\n",
      "Basic Grids\n",
      "Team Building\n",
      "Glossary\n",
      "Starting Articles\n",
      "Co-op\n",
      "Arcarum: The World Beyond\n",
      "Replicard Sandbox\n",
      "Jewel Resort Casino\n",
      "Trial Battles\n",
      "About Raids\n",
      "Omega Raids\n",
      "T1 Summons\n",
      "T2 Summons\n",
      "Primarch Raids\n",
      "Omega HL\n",
      "Omega II HL\n",
      "T1 HL Summons\n",
      "T3 HL Summons\n",
      "Dragon Raids\n",
      "Main Quests\n",
      "Six-Dragon Advent\n",
      "Primarch Trials\n",
      "Shiny Slime Search!\n",
      "Angel Halo\n",
      "All Characters\n",
      "SSR Characters\n",
      "SR Characters\n",
      "R Characters\n",
      "NPC Characters\n",
      "Main Character\n",
      "Extended Mastery\n",
      "Weapon Specialty\n",
      "Fate Episodes\n",
      "Character Skins\n",
      "About Summons\n",
      "SSR Summons\n",
      "SR Summons\n",
      "Arcarum Summons\n",
      "Weapon Lists\n",
      "Class Weapons\n",
      "Revenant Weapons\n",
      "Bahamut Weapons\n",
      "Xeno Weapons\n",
      "Seraphic Weapons\n",
      "Ultima Weapons\n",
      "Dark Opus Weapons\n",
      "Draconic Weapons\n",
      "Astral Weapons\n",
      "Ancestral Weapons\n",
      "New World Foundation Weapons\n",
      "Weapon Skills\n",
      "AX Skills\n",
      "Sword Master Skills\n",
      "About Classes\n",
      "All Classes\n",
      "Skills\n",
      "Extended Mastery\n",
      "Anime\n",
      "Granblue Fantasy: Relink\n",
      "Granblue Fantasy: Versus\n",
      "Character Mastery List\n",
      "Experience Table\n",
      "Item List\n",
      "Status Effects\n",
      "The Skydoms\n",
      "Zinkenstill\n",
      "Port Breeze\n",
      "Valtz Duchy\n",
      "Auguste Isles\n",
      "Lumacie Archipelago\n",
      "Albion Citadel\n",
      "Mist-Shrouded Isle\n",
      "Golonzo Island\n",
      "Amalthea Island\n",
      "Mephorash\n",
      "Agastia\n",
      "Dydroit Belt\n",
      "Silverwind Stretch\n",
      "Merkmal Island\n",
      "Groz Island\n",
      "Kluger Island\n",
      "Bestia Island\n",
      "Reiche Island\n",
      "Starke Island\n",
      "The Edgelands\n",
      "New Utopia\n",
      "Magmell Island\n",
      "Manual of Style\n",
      "Stubs\n",
      "Lore Stubs\n",
      "Strategy Stubs\n",
      "Anime Stubs\n",
      "Transparency\n",
      "Page values\n",
      "Creative Commons Attribution-NonCommercial-ShareAlike\n",
      "\n"
     ]
    }
   ],
   "source": [
    "for tag in soup.find_all(\"a\",{\"title\":\"\"}):\n",
    "    print(tag.get_text())"
   ]
  },
  {
   "cell_type": "code",
   "execution_count": 191,
   "metadata": {},
   "outputs": [
    {
     "name": "stdout",
     "output_type": "stream",
     "text": [
      "Abby\n",
      "Agielba\n",
      "['', 'Abby', '', '', '', 'Emiri Katō', 'Premium Draw', '', 'Agielba', '', '', '', 'Unshō Ishizuka', ' Koji Ishii ', 'Premium Draw', '', 'Aglovale', '', '', '', 'Tatsuhisa Suzuki', 'Premium Draw', '', 'Albert', '', '', '', 'Hikaru Midorikawa', 'Premium Draw', '', 'Albert (Dark)', '', '', '', 'Hikaru Midorikawa', 'Premium Draw', '', 'Aletheia', '', '', '', '', 'Chikao Ohtsuka', 'Premium Draw', '', 'Aliza', '', '', '', 'Natsumi Takamori', 'Premium Draw', '', 'Altair', '', '', '', 'Daisuke Ono', 'Premium Draw', '', 'Amira', '', '', '', 'Risa Shimizu', 'Premium Draw', '', 'Anne', '', '', '', '', 'Yōko Hikasa', 'Premium Draw', '', 'Anthuria', '', '', '', '', 'Yū Asakawa', 'Premium Draw', '', 'Aoidos', '', '', '', '', 'Kisho Taniyama', 'Premium Draw', '', 'Arriet', '', '', '', 'Chinatsu Akasaki', 'Premium Draw', '', 'Arthur', '', '', '', 'Toshiyuki Toyonaga', 'Premium Draw', '', 'Arulumaya', '', '', '', 'Maaya Sakamoto', 'Premium Draw', '', 'Arulumaya (Light)', '', '', '', 'Maaya Sakamoto', 'Premium Draw', '', 'Athena', '', '', '', 'Ayako Kawasumi', 'Premium Draw', '', 'Ayer', '', '', '', 'Kensho Ono', 'Premium Draw', '', 'Azazel', '', '', '', '', 'Masakazu Morita', 'Premium Draw', '', 'Azusa', '', '', '', 'Asami Seto', 'Premium Draw', '', 'Baal', '', '', '', '', 'Kensho Ono', 'Premium Draw', '', 'Baotorda (SSR)', '', '', '', 'Ryouta Takeuchi', 'Premium Draw', '', 'Beatrix', '', '', '', 'Aya Hirano', 'Premium Draw', '', 'Beatrix (Earth)', '', '', '', 'Aya Hirano', 'Premium Draw', '', 'Benjamin', '', '', '', '', 'Kisho Taniyama', 'Premium Draw', '', 'Cagliostro', '', '', '', 'Sakura Tange', 'Premium Draw', '', 'Cagliostro (Dark)', '', '', '', 'Sakura Tange', 'Premium Draw', '', 'Carmelina', '', '', '', 'Misato Fukuen', 'Premium Draw', '', 'Catherine', '', '', '', 'Chiaki Takahashi', 'Premium Draw', '', 'Cerberus', '', '', '', 'Eri Kitamura', 'Premium Draw', '', 'Charlotta', '', '', '', 'Kaori Nazuka', 'Premium Draw', '', 'Charlotta (Light)', '', '', '', 'Kaori Nazuka', 'Premium Draw', '', 'Chat Noir', '', '', '', '', 'Yoshitsugu Matsuoka', 'Premium Draw', '', 'Clarisse', '', '', '', 'Ayane Sakura', 'Premium Draw', '', 'Clarisse (Light)', '', '', '', 'Ayane Sakura', 'Premium Draw', '', 'Colossus', '', '', '', '', 'Premium Draw', '', 'Cucouroux (SSR)', '', '', '', 'Aya Suzaki', 'Premium Draw', '', 'Cupitan', '', '', '', 'Ayana Taketatsu', 'Premium Draw', '', 'Dante and Freiheit', '', '', '', '', 'Takanori Hoshino', 'Makoto Furukawa ', 'Premium Draw', '', 'Danua (SSR)', '', '', '', '', 'Nozomi Sasaki', 'Premium Draw', '', 'De La Fille', '', '', '', 'Chiwa Saito', 'Premium Draw', '', 'De La Fille (Earth)', '', '', '', 'Chiwa Saito', 'Premium Draw', '', 'Diantha', '', '', '', 'Inori Minase', 'Premium Draw', '', 'Dorothy and Claudia', '', '', '', '', 'Sora Amamiya', 'Miho Arakawa ', 'Premium Draw', '', 'Drang', '', '', '', 'Tomokazu Sugita', 'Premium Draw', '', 'Elmott (SSR)', '', '', '', 'Tetsuya Kakihara', 'Premium Draw', '', 'Enyo', '', '', '', 'Marika Kōno', 'Premium Draw', '', 'Eustace', '', '', '', 'Kazuya Nakai', 'Premium Draw', '', 'Eustace (Dark)', '', '', '', '', 'Kazuya Nakai', 'Premium Draw', '', 'Ewiyar', '', '', '', 'Rie Hikisaka', 'Premium Draw', '', 'Farrah and Juri', '', '', '', 'Mariya Ise', ' Makoto Furukawa ', 'Premium Draw', '', 'Feather (SSR)', '', '', '', 'Sōma Saitō', 'Premium Draw', '', 'Feena', '', '', '', 'Haruka Tomatsu', 'Premium Draw', '', 'Ferry (SSR)', '', '', '', 'Madoka Yonezawa', 'Premium Draw', '', 'Filene', '', '', '', 'Sora Amamiya', 'Premium Draw', '', 'Fiorito', '', '', '', 'Ai Fairouz', 'Premium Draw', '', 'Florence', '', '', '', 'Toa Yukinari', 'Premium Draw', '', 'Forte', '', '', '', 'Sachika Misawa', 'Premium Draw', '', 'Freezie', '', '', '', 'Yūko Kaida', 'Premium Draw', '', 'Freyr', '', '', '', 'Hikaru Midorikawa', 'Premium Draw', '', 'Gawain', '', '', '', '', 'Tomokazu Seki', 'Premium Draw', '', 'Gawain (Light)', '', '', '', '', 'Tomokazu Seki', 'Premium Draw', '', 'Ghandagoza', '', '', '', 'Yanada Kiyoyuki', 'Premium Draw', '', 'Grea', '', '', '', 'Ayaka Fukuhara', 'Premium Draw', '', 'Grea (Light)', '', '', '', 'Ayaka Fukuhara', 'Premium Draw', '', 'Hallessena', '', '', '', 'Sumire Uesaka', 'Premium Draw', '', 'Heles', '', '', '', '', 'Yumi Tōma', 'Premium Draw', '', 'Heles (Wind)', '', '', '', 'Yumi Tōma', 'Premium Draw', '', 'Herja (SSR)', '', '', '', 'Minako Kotobuki', 'Premium Draw', '', 'Illnott', '', '', '', 'Akari Kitō', 'Premium Draw', '', 'Ilsa', '', '', '', '', 'Mie Sonozaki', 'Premium Draw', '', 'Ilsa (Light)', '', '', '', '', 'Mie Sonozaki', 'Premium Draw', '', 'Ippatsu (SSR)', '', '', '', 'Norio Wakamoto', 'Premium Draw', '', 'Isaac', '', '', '', '', 'Kōsuke Toriumi', 'Premium Draw', '', 'Izmir', '', '', '', 'Aya Endo', 'Premium Draw', '', \"Jeanne d'Arc\", '', '', '', '', 'Megumi Han', 'Premium Draw', '', \"Jeanne d'Arc (Dark)\", '', '', '', 'Megumi Han', 'Premium Draw', '', 'Jin', '', '', '', 'Hiroki Yasumoto', 'Premium Draw', '', 'Juliet', '', '', '', 'Kaori Ishihara', 'Premium Draw', '', 'Juliet (Water)', '', '', '', 'Kaori Ishihara', 'Premium Draw', '', 'Kolulu', '', '', '', 'Miku Itō', 'Premium Draw', '', 'Korwa', '', '', '', 'Ayumi Fujimura', 'Premium Draw', '', 'Kou', '', '', '', '', 'Yusuke Kobayashi', 'Premium Draw', '', 'Ladiva (SSR)', '', '', '', 'Tetsu Inada', 'Premium Draw', '', 'Lady Grey', '', '', '', '', 'Ai Orikasa', 'Premium Draw', '', 'Lady Katapillar and Vira', '', '', '', '', 'Miyuki Sawashiro', ' Asami Imai ', 'Premium Draw', '', 'Lamretta (SSR)', '', '', '', 'Satomi Akesaka', 'Premium Draw', '', 'Lancelot', '', '', '', '', 'Yūki Ono', 'Premium Draw', '', 'Lancelot (Wind)', '', '', '', '', 'Yūki Ono', 'Premium Draw', '', 'Lancelot and Vane', '', '', '', '', 'Yūki Ono', ' Takuya Eguchi ', 'Premium Draw', '', 'Lecia (Water)', '', '', '', '', 'Ayako Kawasumi', 'Premium Draw', '', 'Lennah', '', '', '', 'Mamiko Noto', 'Premium Draw', '', 'Lennah (Earth)', '', '', '', 'Mamiko Noto', 'Premium Draw', '', 'Levin Sisters', '', '', '', '', 'Aoi Yūki', 'Premium Draw', '', 'Lilele', '', '', '', 'Sumire Morohoshi', 'Premium Draw', '', 'Lilele (Fire)', '', '', '', 'Sumire Morohoshi', 'Premium Draw', '', 'Lily', '', '', '', 'Yuka Iguchi', 'Premium Draw', '', 'Lucius (SSR)', '', '', '', '', 'Takehito Koyasu', 'Premium Draw', '', 'Lunalu (Light)', '', '', '', 'Rumi Okubo', 'Premium Draw', '', 'Lunalu (SSR)', '', '', '', 'Rumi Okubo', 'Premium Draw', '', 'Macula Marius', '', '', '', 'Sakura Tange', 'Premium Draw', '', 'Magisa', '', '', '', '', 'Sayaka Ohara', 'Premium Draw', '', 'Marquiares', '', '', '', 'Chafurin', 'Premium Draw', '', 'Medusa', '', '', '', 'Kaori Mizuhashi', 'Premium Draw', '', 'Melissabelle', '', '', '', '', 'Shiori Mikami', 'Premium Draw', '', 'Melleau', '', '', '', '', 'Aki Toyosaki', 'Premium Draw', '', 'Metera', '', '', '', 'Ryōka Yuzuki', 'Premium Draw', '', 'Metera (Fire)', '', '', '', 'Ryōka Yuzuki', 'Premium Draw', '', 'Milleore and Sahli Lao', '', '', '', '', 'Saori Onishi', 'Nanami Yamashita ', 'Premium Draw', '', 'Mireille and Risette', '', '', '', '', 'Aoi Koga', ' Yumiri Hanamori ', 'Premium Draw', '', 'Mishra (SSR)', '', '', '', 'Kikuko Inoue', 'Premium Draw', '', 'Morrigna', '', '', '', 'Marina Inoue', 'Sora Amamiya ', 'Premium Draw', '', 'Ms. Miranda', '', '', '', 'Kikuko Inoue', 'Premium Draw', '', 'Naoise', '', '', '', '', 'Gō Inoue', 'Premium Draw', '', 'Naoise (Fire)', '', '', '', 'Gō Inoue', 'Premium Draw', '', 'Narmaya', '', '', '', 'Mao Ichimichi', 'Premium Draw', '', 'Nectar', '', '', '', '', 'Yoshihisa Kawahara', 'Premium Draw', '', 'Nemone', '', '', '', '', 'Ayahi Takagaki', 'Premium Draw', '', 'Nezahualpilli', '', '', '', 'Jurota Kosugi', 'Premium Draw', '', 'Nezha', '', '', '', 'Daisuke Kishio', 'Premium Draw', '', 'Nicholas', '', '', '', 'Tomokazu Seki', 'Premium Draw', '', 'Nicholas (Light)', '', '', '', '', '', 'Tomokazu Seki', 'Premium Draw', '', 'Pengy (SSR)', '', '', '', '', 'Reina Ueda', 'Premium Draw', '', 'Percival', '', '', '', 'Ryōta Ōsaka', 'Premium Draw', '', 'Percival (Light)', '', '', '', 'Ryōta Ōsaka', 'Premium Draw', '', 'Petra (SSR)', '', '', '', 'Houko Kuwashima', 'Premium Draw', '', 'Predator (SSR)', '', '', '', 'Yū Asakawa', 'Premium Draw', '', 'Randall (SSR)', '', '', '', 'Wataru Hatano', 'Premium Draw', '', 'Razia', '', '', '', '', 'Nozomi Yamamoto', 'Premium Draw', '', 'Robomi', '', '', '', 'Keiko Han', 'Premium Draw', '', 'Romeo', '', '', '', '', 'Yuichi Nakamura', 'Premium Draw', '', 'Rosamia (SSR)', '', '', '', 'Yui Ishikawa', 'Premium Draw', '', 'Sara', '', '', '', 'Asuka Ōgame', 'Premium Draw', '', 'Sara (Light)', '', '', '', 'Asuka Ōgame', 'Premium Draw', '', 'Sarunan', '', '', '', 'Daisuke Namikawa', 'Premium Draw', '', 'Sarunan (Dark)', '', '', '', 'Daisuke Namikawa', 'Premium Draw', '', 'Satyr', '', '', '', '', 'Manaka Iwami', 'Premium Draw', '', 'Satyr (Earth)', '', '', '', '', 'Manaka Iwami', 'Premium Draw', '', 'Scathacha', '', '', '', 'Sachiko Kojima', 'Premium Draw', '', 'Selfira', '', '', '', 'Yōko Hikasa', 'Premium Draw', '', 'Sen (SSR)', '', '', '', 'Ryō Hirohashi', 'Premium Draw', '', 'Seruel', '', '', '', 'Toshiyuki Morikawa', 'Premium Draw', '', 'Shion', '', '', '', 'Shizuka Ishigami', 'Premium Draw', '', 'Shitori', '', '', '', '', 'Chika Anzai', 'Premium Draw', '', 'Sho', '', '', '', 'Kisho Taniyama', 'Premium Draw', '', 'Shura', '', '', '', 'Megumi Toyoguchi', 'Premium Draw', '', 'Siegfried', '', '', '', '', 'Kazuhiko Inoue', 'Premium Draw', '', 'Siegfried (Fire)', '', '', '', '', 'Kazuhiko Inoue', 'Premium Draw', '', 'Silva', '', '', '', 'Aya Hisakawa', 'Premium Draw', '', 'Silva (Light)', '', '', '', 'Aya Hisakawa', 'Premium Draw', '', 'Societte', '', '', '', '', 'Ryoko Shiraishi', 'Premium Draw', '', 'Societte (Fire)', '', '', '', '', 'Ryoko Shiraishi', 'Premium Draw', '', 'Societte (Wind)', '', '', '', '', 'Ryoko Shiraishi', 'Premium Draw', '', 'Sophia', '', '', '', 'Kaori Fukuhara', 'Premium Draw', '', 'Soriz (SSR)', '', '', '', 'Rikiya Koyama', 'Premium Draw', '', 'Stan and Aliza', '', '', '', '', '', 'Toshiki Masuda', 'Natsumi Takamori ', 'Premium Draw', '', 'Sturm', '', '', '', 'Kanae Itō', 'Premium Draw', '', 'Sutera (SSR)', '', '', '', 'Shizuka Itō', 'Premium Draw', '', 'Sylph', '', '', '', 'Satomi Moriya', 'Premium Draw', '', 'Tabina', '', '', '', '', 'Kaede Hondo', 'Premium Draw', '', 'Tanya (SSR)', '', '', '', 'Ayaka Suwa', 'Premium Draw', '', 'Therese (SSR)', '', '', '', 'Yū Kobayashi', 'Premium Draw', '', 'Tiamat', '', '', '', '', 'Premium Draw', '', 'Tikoh', '', '', '', 'Yoshino Nanjō', 'Premium Draw', '', 'Troue', '', '', '', 'Shun Horie', 'Premium Draw', '', 'Tsubasa', '', '', '', 'Yuichi Nakamura', 'Premium Draw', '', 'Vane (SSR)', '', '', '', '', 'Takuya Eguchi', 'Premium Draw', '', 'Vania', '', '', '', '', 'Rie Kugimiya', 'Premium Draw', '', 'Vania and Malinda', '', '', '', '', 'Rie Kugimiya', ' Inuko Inuyama ', 'Premium Draw', '', 'Vaseraga', '', '', '', 'Fumihiko Tachiki', 'Premium Draw', '', 'Vaseraga (Earth)', '', '', '', 'Fumihiko Tachiki', 'Premium Draw', '', 'Vaseraga (Fire)', '', '', '', 'Fumihiko Tachiki', 'Premium Draw', '', 'Veight', '', '', '', 'Yūki Kaji', 'Premium Draw', '', 'Vira (SSR)', '', '', '', 'Asami Imai', 'Premium Draw', '', 'Vira (Wind)', '', '', '', '', 'Asami Imai', 'Premium Draw', '', 'Wulf and Renie', '', '', '', '', 'Tomoaki Maeno', ' Akane Fujita ', 'Premium Draw', '', 'Yggdrasil', '', '', '', 'Premium Draw', '', 'Yggdrasil (Wind)', '', '', '', 'Premium Draw', '', 'Yngwie', '', '', '', '', 'Kazuhiro Yamaji', 'Premium Draw', '', 'Yodarha (SSR)', '', '', '', '', 'Shigeru Chiba', 'Premium Draw', '', 'Yodarha (Wind)', '', '', '', '', 'Shigeru Chiba', 'Premium Draw', '', 'Yuel', '', '', '', '', 'Kana Ueda', 'Premium Draw', '', 'Yuel (Water)', '', '', '', '', 'Kana Ueda', 'Premium Draw', '', 'Yuisis', '', '', '', '', 'Rika Tachibana', 'Premium Draw', '', 'Yuisis (Fire)', '', '', '', '', 'Rika Tachibana', 'Premium Draw', '', 'Yurius', '', '', '', '', 'Hidenobu Kiuchi', 'Premium Draw', '', 'Zahlhamelina', '', '', '', 'Yumi Hara', 'Premium Draw', '', 'Zehek (SSR)', '', '', '', '', 'KENN', 'Premium Draw', '', 'Zeta', '', '', '', 'Kana Hanazawa', 'Premium Draw', '', 'Zeta (Dark)', '', '', '', 'Kana Hanazawa', 'Premium Draw', '', 'Zeta (Water)', '', '', '', 'Kana Hanazawa', 'Premium Draw', '', 'Zooey', '', '', '', 'Ami Koshimizu', 'Premium Draw', '', 'Cassius (Event SSR)', '', '', '', '', 'Masaya Matsukaze', 'Home Sweet Moon', '', 'Seox (Event)', '', '', '', 'Nobuyuki Hiyama', 'Seeds of Redemption', '', 'Alexiel', '', '', '', '', 'Aya Hirano', 'Flash Gala', '', 'Black Knight', '', '', '', '', 'Romi Park', 'Flash Gala', '', 'Cagliostro (Grand)', '', '', '', 'Sakura Tange', 'Premium Gala', '', 'Cain (Grand)', '', '', '', 'Takuma Terashima', 'Premium Gala', '', 'Drang (Grand)', '', '', '', 'Tomokazu Sugita', 'Flash Gala', '', 'Eugen (Grand)', '', '', '', 'Keiji Fujiwara', ' Kazuhiro Yamaji ', 'Premium Gala', '', 'Europa', '', '', '', 'Mai Nakahara', 'Flash Gala', '', 'Fediel', '', '', '', '', 'Asami Tano', 'Premium Gala', '', 'Ferry (Grand)', '', '', '', 'Madoka Yonezawa', 'Premium Gala', '', 'Golden Knight', '', '', '', 'Ai Kayano', 'Flash Gala', '', 'Grimnir', '', '', '', '', 'Megumi Ogata', 'Flash Gala', '', 'Helel ben Shalem', '', '', '', '', 'Mariya Ise', 'Flash Gala', '', 'Io (Grand)', '', '', '', 'Yukari Tamura', 'Premium Gala', '', \"Jeanne d'Arc (Grand)\", '', '', '', '', 'Megumi Han', 'Flash Gala', '', 'Katalina (Grand)', '', '', '', 'Miyuki Sawashiro', 'Premium Gala', '', 'Lancelot (Grand)', '', '', '', '', 'Yūki Ono', 'Flash Gala', '', 'Lecia (Grand)', '', '', '', 'Ayako Kawasumi', 'Premium Gala', '', 'Leona (Grand)', '', '', '', 'Hibiku Yamamura', 'Premium Gala', '', 'Lich', '', '', '', 'Karin Takahashi', 'Flash Gala', '', 'Lucio', '', '', '', '', 'Takahiro Sakurai', 'Flash Gala', '', 'Monika (Grand)', '', '', '', '', 'Ayumi Tsuji', 'Premium Gala', '', 'Mugen', '', '', '', '', 'Tesshō Genda', 'Flash Gala', '', 'Narmaya (Grand)', '', '', '', 'Mao Ichimichi', 'Premium Gala', '', 'Nehan', '', '', '', '', 'Takashi Kondo', 'Flash Gala', '', 'Noa (Grand)', '', '', '', '', 'Kaito Ishikawa', 'Premium Gala', '', 'Olivia', '', '', '', 'Maaya Sakamoto', 'Flash Gala', '', 'Orchid', '', '', '', '', 'Minori Chihara', 'Flash Gala', '', 'Pholia', '', '', '', '', 'Maaya Uchida', 'Kenyu Horiuchi ', 'Premium Gala', '', 'Poseidon', '', '', '', 'Daisuke Ono', 'Premium Gala', '', 'Rackam (Grand)', '', '', '', 'Hiroaki Hirata', 'Premium Gala', '', 'Rei', '', '', '', '', 'Ai Kayano', 'Premium Gala', '', 'Reinhardtzar (Grand)', '', '', '', 'Kenichirou Matsuda', 'Premium Gala', '', 'Rosetta (Grand)', '', '', '', 'Rie Tanaka', 'Premium Gala', '', 'Sandalphon', '', '', '', '', 'Kenichi Suzumura', 'Flash Gala', '', 'Shiva', '', '', '', '', 'Shō Hayami', 'Flash Gala', '', 'Sturm (Grand)', '', '', '', 'Kanae Itō', 'Flash Gala', '', 'Vira (Grand)', '', '', '', '', 'Asami Imai', 'Flash Gala', '', 'Wilnas', '', '', '', '', 'Masaaki Mizunaka', 'Premium Gala', '', 'Zooey (Grand)', '', '', '', 'Ami Koshimizu', 'Flash Gala', '', 'Andira', '', '', '', '', 'Aya Uchida', 'Premium Gala', '', 'Anila', '', '', '', '', 'Aoi Yūki', 'Premium Gala', '', 'Catura', '', '', '', '', 'Rina Hidaka', 'Premium Gala', '', 'Cidala', '', '', '', 'Ai Kakuma', 'Premium Gala', '', 'Kumbhira', '', '', '', '', 'Yui Horie', 'Premium Gala', '', 'Mahira', '', '', '', '', 'Mai Kadowaki', 'Premium Gala', '', 'Vajra', '', '', '', '', 'Yū Serizawa', 'Premium Gala', '', 'Vikala', '', '', '', '', 'Atsumi Tanezaki', 'Premium Gala', '', 'Aglovale (Valentine)', '', '', '', 'Tatsuhisa Suzuki', 'Valentine Premium Draw', '', 'Cassius (Valentine)', '', '', '', '', 'Masaya Matsukaze', 'Valentine Premium Draw', '', 'Clarisse (Valentine)', '', '', '', 'Ayane Sakura', 'Valentine Premium Draw', '', 'Grimnir (Valentine)', '', '', '', '', 'Megumi Ogata', 'Valentine Premium Draw', '', 'Ladiva (Valentine)', '', '', '', 'Tetsu Inada', 'Valentine Premium Draw', '', 'Medusa (Valentine)', '', '', '', 'Kaori Mizuhashi', 'Valentine Premium Draw', '', 'Melissabelle (Valentine)', '', '', '', '', 'Shiori Mikami', 'Valentine Premium Draw', '', 'Monika (Valentine)', '', '', '', '', 'Ayumi Tsuji', 'Valentine Premium Draw', '', 'Scathacha (Valentine)', '', '', '', 'Sachiko Kojima', 'Valentine Premium Draw', '', 'Vira (Valentine)', '', '', '', 'Asami Imai', 'Valentine Premium Draw', '', 'Albert (Summer)', '', '', '', 'Hikaru Midorikawa', 'Summer Premium Draw', '', 'Alexiel (Summer)', '', '', '', '', 'Aya Hirano', 'Summer Premium Draw', '', 'Amira (Summer)', '', '', '', 'Risa Shimizu', 'Summer Premium Draw', '', 'Andira (Summer)', '', '', '', '', 'Aya Uchida', 'Summer Premium Draw', '', 'Anila (Summer)', '', '', '', '', 'Aoi Yūki', 'Summer Premium Draw', '', 'Anthuria (Yukata)', '', '', '', '', 'Yū Asakawa', 'Summer Premium Draw', '', 'Beatrix (Summer)', '', '', '', 'Aya Hirano', 'Summer Premium Draw', '', 'Cagliostro (Summer)', '', '', '', 'Sakura Tange', 'Summer Premium Draw', '', 'Danua (Summer)', '', '', '', 'Nozomi Sasaki', 'Summer Premium Draw', '', 'De La Fille (Summer)', '', '', '', 'Chiwa Saito', 'Summer Premium Draw', '', 'Diantha (Summer)', '', '', '', 'Inori Minase', 'Summer Premium Draw', '', 'Europa (Summer)', '', '', '', 'Mai Nakahara', 'Summer Premium Draw', '', 'Grea (Summer)', '', '', '', 'Ayaka Fukuhara', 'Summer Premium Draw', '', 'Halluel and Malluel (Summer)', '', '', '', 'Emiri Katō', 'Summer Premium Draw', '', 'Helel ben Shalem (Summer)', '', '', '', '', 'Mariya Ise', 'Summer Premium Draw', '', 'Heles (Summer)', '', '', '', 'Yumi Tōma', 'Summer Premium Draw', '', 'Illnott (Summer)', '', '', '', 'Akari Kitō', 'Summer Premium Draw', '', 'Ilsa (Summer)', '', '', '', '', 'Mie Sonozaki', 'Summer Premium Draw', '', 'Io (Summer)', '', '', '', 'Yukari Tamura', 'Summer Premium Draw', '', 'Izmir (Summer)', '', '', '', 'Aya Endo', 'Summer Premium Draw', '', 'Izmir (Yukata)', '', '', '', 'Aya Endo', 'Summer Premium Draw', '', \"Jeanne d'Arc (Summer)\", '', '', '', 'Megumi Han', 'Summer Premium Draw', '', 'Jessica (Yukata)', '', '', '', 'Asami Seto', 'Summer Premium Draw', '', 'Kolulu (Summer)', '', '', '', 'Miku Itō', 'Summer Premium Draw', '', 'Korwa (Summer)', '', '', '', 'Ayumi Fujimura', 'Summer Premium Draw', '', 'Kumbhira (Summer)', '', '', '', '', 'Yui Horie', 'Summer Premium Draw', '', 'Lucio (Summer)', '', '', '', '', 'Takahiro Sakurai', 'Summer Premium Draw', '', 'Meg (Summer)', '', '', '', '', 'Tomoyo Kurosawa', 'Summer Premium Draw', '', 'Metera (Summer)', '', '', '', 'Ryoka Yuzuki', 'Summer Premium Draw', '', 'Mimlemel (Summer)', '', '', '', '', 'Yumiko Kobayashi', 'Summer Premium Draw', '', 'Naoise (Summer)', '', '', '', 'Gō Inoue', 'Summer Premium Draw', '', 'Narmaya (Summer)', '', '', '', 'Mao Ichimichi', 'Summer Premium Draw', '', 'Percival (Summer)', '', '', '', 'Ryōta Ōsaka', 'Summer Premium Draw', '', 'Rosamia (Yukata)', '', '', '', 'Yui Ishikawa', 'Summer Premium Draw', '', 'Rosetta (Summer)', '', '', '', 'Rie Tanaka', 'Summer Premium Draw', '', 'Sandalphon (Summer)', '', '', '', '', 'Kenichi Suzumura', 'Summer Premium Draw', '', 'Shiva (Summer)', '', '', '', '', 'Shō Hayami', 'Summer Premium Draw', '', 'Siegfried (Summer)', '', '', '', 'Kazuhiko Inoue', 'Summer Premium Draw', '', 'Siegfried (Yukata)', '', '', '', '', 'Kazuhiko Inoue', 'Summer Premium Draw', '', 'Silva (Summer)', '', '', '', 'Aya Hisakawa', 'Summer Premium Draw', '', 'Tabina (Summer)', '', '', '', '', 'Kaede Hondo', 'Summer Premium Draw', '', 'Teena (Summer)', '', '', '', 'Yui Horie', 'Summer Premium Draw', '', 'Vira (Summer)', '', '', '', 'Asami Imai', 'Summer Premium Draw', '', 'Yngwie (Yukata)', '', '', '', '', 'Kazuhiro Yamaji', 'Summer Premium Draw', '', 'Yuel (Summer)', '', '', '', '', 'Kana Ueda', 'Summer Premium Draw', '', 'Zahlhamelina (Yukata)', '', '', '', 'Yumi Hara', 'Summer Premium Draw', '', 'Zeta (Summer)', '', '', '', 'Kana Hanazawa', 'Summer Premium Draw', '', 'Azazel (Halloween)', '', '', '', '', 'Masakazu Morita', 'Halloween Premium Draw', '', 'Cagliostro (Halloween)', '', '', '', 'Sakura Tange', 'Halloween Premium Draw', '', 'Charlotta (Halloween)', '', '', '', 'Kaori Nazuka', 'Halloween Premium Draw', '', 'Cucouroux (Halloween)', '', '', '', 'Aya Suzaki', 'Halloween Premium Draw', '', 'Danua (Halloween)', '', '', '', 'Nozomi Sasaki', 'Halloween Premium Draw', '', 'Eustace (Halloween)', '', '', '', 'Kazuya Nakai', 'Halloween Premium Draw', '', 'Hallessena (Halloween)', '', '', '', 'Sumire Uesaka', 'Halloween Premium Draw', '', 'Lady Grey (Halloween)', '', '', '', '', 'Ai Orikasa', 'Halloween Premium Draw', '', 'Rosetta (Halloween)', '', '', '', '', 'Rie Tanaka', 'Halloween Premium Draw', '', 'Vane (Halloween)', '', '', '', '', 'Takuya Eguchi', 'Halloween Premium Draw', '', 'Zeta and Vaseraga (Halloween)', '', '', '', '', '', 'Kana Hanazawa', ' Fumihiko Tachiki ', 'Halloween Premium Draw', '', 'Altair (Holiday)', '', '', '', 'Daisuke Ono', 'Holiday Premium Draw', '', 'Anthuria (Holiday)', '', '', '', '', 'Yū Asakawa', 'Holiday Premium Draw', '', 'Arulumaya (Holiday)', '', '', '', 'Maaya Sakamoto', 'Holiday Premium Draw', '', 'Clarisse (Holiday)', '', '', '', 'Ayane Sakura', 'Holiday Premium Draw', '', 'Lily (Holiday)', '', '', '', 'Yuka Iguchi', 'Holiday Premium Draw', '', 'Magisa (Holiday)', '', '', '', '', 'Sayaka Ohara', 'Holiday Premium Draw', '', 'Mahira (Holiday)', '', '', '', '', 'Mai Kadowaki', 'Holiday Premium Draw', '', 'Mary (Holiday)', '', '', '', 'Akiko Hasegawa', 'Holiday Premium Draw', '', 'Meteon (Holiday)', '', '', '', '', 'Masakazu Morita', 'Holiday Premium Draw', '', 'Metera (Holiday)', '', '', '', 'Ryōka Yuzuki', 'Holiday Premium Draw', '', 'Mirin (Holiday)', '', '', '', 'Miyu Takagi', 'Holiday Premium Draw', '', 'Narmaya (Holiday)', '', '', '', 'Mao Ichimichi', 'Holiday Premium Draw', '', 'Nemone (Holiday)', '', '', '', '', 'Ayahi Takagaki', 'Holiday Premium Draw', '', 'Rosetta (Holiday)', '', '', '', 'Rie Tanaka', 'Holiday Premium Draw', '', 'Seruel (Holiday)', '', '', '', '', 'Toshiyuki Morikawa', 'Holiday Premium Draw', '', 'Christina', '', '', '', '', 'Marina Inoue', 'Jewel Resort Casino', '', 'Monika', '', '', '', '', 'Ayumi Tsuji', 'Arcarum: The World Beyond', '', 'Aqours First-Years', '', '', '', 'Aika Kobayashi', 'Kanako Takatsuki ', 'Love Live! Sunshine!! Aqours Sky-High!', '', 'Aqours Second-Years', '', '', '', '', 'Rikako Aida', 'Anju Inami ', 'Love Live! Sunshine!! Aqours Sky-High!', '', 'Aqours Third-Years', '', '', '', '', 'Nanaka Suwa', 'Arisa Komiya ', 'Love Live! Sunshine!! Aqours Sky-High!', '', 'Kallen Kouzuki', '', '', '', 'Ami Koshimizu', 'Code Geass: Lelouch of the RebellionThe Blue Reckoning', '', 'Karyl', '', '', '', 'Rika Tachibana', 'Princess Connect! Re:DiveDinner at the Turned Table', '', 'Kokkoro', '', '', '', 'Miku Itō', 'Princess Connect! Re:DiveDinner at the Turned Table', '', 'Lelouch Lamperouge', '', '', '', 'Jun Fukuyama', 'Yukana ', 'Code Geass: Lelouch of the RebellionThe Blue Reckoning', '', 'Pecorine', '', '', '', 'Mao Ichimichi', 'Princess Connect! Re:DiveDinner at the Turned Table', '', 'Sandalphon (Event)', '', '', '', '', 'Kenichi Suzumura', 'What Makes the Sky Blue II: Paradise Lost', 'What Makes the Sky Blue III: 000', '', 'Suzaku Kururugi', '', '', '', '', 'Takahiro Sakurai', 'Code Geass: Lelouch of the RebellionThe Blue Reckoning', '', \"Μ's First-Years\", '', '', '', '', 'Riho Iida', 'Yurika Kubo ', 'Love Live! Door to the Skies', '', \"Μ's Second-Years\", '', '', '', '', 'Emi Nitta', 'Suzuko Mimori ', 'Love Live! Door to the Skies', '', \"Μ's Third-Years\", '', '', '', '', 'Yoshino Nanjo', 'Sora Tokui ', 'Love Live! Door to the Skies', '', 'Aqours First-Years', '', '', '', 'Aika Kobayashi', 'Kanako Takatsuki ', 'Love Live! Sunshine!! Aqours Sky-High!', '', 'Aqours Second-Years', '', '', '', '', 'Rikako Aida', 'Anju Inami ', 'Love Live! Sunshine!! Aqours Sky-High!', '', 'Aqours Third-Years', '', '', '', '', 'Nanaka Suwa', 'Arisa Komiya ', 'Love Live! Sunshine!! Aqours Sky-High!', '', 'Bobobo-bo Bo-bobo', '', '', '', '', 'Takehito Koyasu', \"Wiggin' War in the Sky World\\u200e\\u200e\", '', 'Conan Edogawa', '', '', '', '', 'Minami Takayama', 'Detective Conan: Gears of Conspiracy', '', 'Cure Black and Cure White', '', '', '', 'Yoko Honna', ' Yukana ', 'Pretty Cure: Memories of the Sky', '', 'Doraemon', '', '', '', '', 'Wasabi Mizuta', \"Doraemon: Nobita's Skyfaring Boat\", '', 'Gachapin', '', '', '', '', 'Gachapin, Mukku, and the Azure Adventure', '', 'Hiro Ryugasaki', '', '', '', 'Gakuto Kajiwara', 'Shadowverse: Beyond the Sky', '', 'Joker', '', '', '', '', 'Jun Fukuyama', 'Persona 5: Thievery in Blue', '', 'Kaede Takagaki', '', '', '', '', 'Saori Hayami', 'Cinderella Fantasy: To the Skies Once More', '', 'Kallen Kouzuki', '', '', '', 'Ami Koshimizu', 'Code Geass: Lelouch of the RebellionThe Blue Reckoning', '', 'Karyl', '', '', '', 'Rika Tachibana', 'Princess Connect! Re:DiveDinner at the Turned Table', '', 'Kokkoro', '', '', '', 'Miku Itō', 'Princess Connect! Re:DiveDinner at the Turned Table', '', 'Kyojuro Rengoku', '', '', '', 'Satoshi Hino', \"Scent of Fate at Sky's End\", '', 'Lelouch Lamperouge', '', '', '', 'Jun Fukuyama', 'Yukana ', 'Code Geass: Lelouch of the RebellionThe Blue Reckoning', '', 'Levi', '', '', '', '', 'Hiroshi Kamiya', 'Titanic Yeager', '', 'Mikazuki Munechika', '', '', '', 'Kōsuke Toriumi', 'Katsugeki Touken Ranbu: Fate Horizon', '', 'Mimori Amamiya', '', '', '', 'Kaede Hondo', 'Shadowverse: Beyond the Sky', '', 'New Generations', '', '', '', '', 'Ayaka Fukuhara', ' Ayaka Ohashi ', 'Cinderella Fantasy: To the Skies Once More', '', 'Nobita', '', '', '', 'Megumi Ohara', \"Doraemon: Nobita's Skyfaring Boat\", '', 'Pecorine', '', '', '', 'Mao Ichimichi', 'Princess Connect! Re:DiveDinner at the Turned Table', '', 'Sakura Kinomoto', '', '', '', 'Sakura Tange', 'Cardcaptor Sakura: Sakura and the Mysterious Sky Journey', '', 'Shinobu Kocho', '', '', '', 'Saori Hayami', \"Scent of Fate at Sky's End\", '', 'Shinsengumi', '', '', '', '', 'Kazuya Nakai', 'Kenichi Suzumura ', 'Gin Tama: Shonen Jump Is Best Enjoyed Cover to Cover', '', 'Special Week, Silence Suzuka, and Tokai Teio', '', '', '', 'Azumi Waki', ' Marika Kohno ', 'Umamusume: Pretty Derby - A Fanfare to Echo across the Skies', '', 'Suzaku Kururugi', '', '', '', '', 'Takahiro Sakurai', 'Code Geass: Lelouch of the RebellionThe Blue Reckoning', '', 'Tanjiro, Nezuko, Zenitsu, and Inosuke', '', '', '', 'Natsuki Hanae', ' Akari Kitō ', \"Scent of Fate at Sky's End\", '', 'Yorozuya', '', '', '', '', 'Tomokazu Sugita', ' Daisuke Sakaguchi ', 'Gin Tama: Shonen Jump Is Best Enjoyed Cover to Cover', '', \"Μ's First-Years\", '', '', '', '', 'Riho Iida', 'Yurika Kubo ', 'Love Live! Door to the Skies', '', \"Μ's Second-Years\", '', '', '', '', 'Emi Nitta', 'Suzuko Mimori ', 'Love Live! Door to the Skies', '', \"Μ's Third-Years\", '', '', '', '', 'Yoshino Nanjo', 'Sora Tokui ', 'Love Live! Door to the Skies', '', 'Black Knight and Orchis', '', '', '', 'Romi Park', ' Minori Chihara ', '', 'Charioce XVII', '', '', '', 'Yūichirō Umehara', '', 'Katalina (Promo)', '', '', '', 'Miyuki Sawashiro', '', 'Medusa (Promo)', '', '', '', 'Kaori Mizuhashi', '', 'Nina Drango', '', '', '', 'Sumire Morohoshi', '', 'Vira (Promo)', '', '', '', 'Asami Imai', '', 'Zooey (Promo)', '', '', '', 'Ami Koshimizu', '', 'Anre', '', '', '', 'Ryūsei Nakao', 'One-Rift Spear', '', 'Eahta', '', '', '', 'Banjo Ginga', 'Eight-Life Katana', '', 'Feower', '', '', '', 'Jun Fukuyama', 'Four-Sky Blade', '', 'Fif', '', '', '', 'Wasabi Mizuta', 'Five-Soul Staff', '', 'Niyon', '', '', '', 'Yukana', 'Nine-Realm Harp', '', 'Seofon', '', '', '', 'Junichi Suwabe', 'Seven-Star Sword', '', 'Seox', '', '', '', 'Nobuyuki Hiyama', 'Six-Ruin Fist', '', 'Threo', '', '', '', '', 'Minami Takayama', 'Three-Tiger Axe', '', 'Tien', '', '', '', 'Rina Satō', 'Ten-Wolf Gun', '', 'Tweyen', '', '', '', 'Yuko Minaguchi', 'Two-Crown Bow', '', 'Alanaan', '', '', '', 'Ryūzaburō Ōtomo', 'Arcarum: The World Beyond', '', 'Caim', '', '', '', '', 'Sachi Kokuryu', 'Arcarum: The World Beyond', '', 'Estarriola', '', '', '', 'Chō', 'Arcarum: The World Beyond', '', 'Fraux', '', '', '', 'Azumi Asakura', 'Arcarum: The World Beyond', '', 'Geisenborger', '', '', '', 'Masaki Terasoma', 'Arcarum: The World Beyond', '', 'Haaselia', '', '', '', '', 'Yukiyo Fujii', 'Arcarum: The World Beyond', '', 'Katzelia', '', '', '', 'Hiroki Takahashi', 'Arcarum: The World Beyond', '', 'Lobelia', '', '', '', '', 'Kenji Nojima', 'Arcarum: The World Beyond', '', 'Maria Theresa', '', '', '', '', 'Mikako Takahashi', 'Arcarum: The World Beyond', '', 'Nier', '', '', '', '', 'Noriko Shitaya', 'Arcarum: The World Beyond']\n"
     ]
    }
   ],
   "source": [
    "temp = []\n",
    "for rows in soup.find_all(\"table\",{\"class\":\"wikitable sortable jquery-tablesorter\"}):\n",
    "    #rows = rows.find_all(\"tbody\")\n",
    "    #print(rows)\n",
    "    for tag in rows.find_all(\"a\"):\n",
    "        temp.append(tag.get_text())\n",
    "\n",
    "print(temp[1])\n",
    "print(temp[8])\n",
    "print(temp)"
   ]
  },
  {
   "cell_type": "code",
   "execution_count": 189,
   "metadata": {},
   "outputs": [],
   "source": [
    "while '' in temp:\n",
    "    temp.remove('')"
   ]
  },
  {
   "cell_type": "code",
   "execution_count": 190,
   "metadata": {},
   "outputs": [
    {
     "name": "stdout",
     "output_type": "stream",
     "text": [
      "['Abby', 'Emiri Katō', 'Premium Draw', 'Agielba', 'Unshō Ishizuka', ' Koji Ishii ', 'Premium Draw', 'Aglovale', 'Tatsuhisa Suzuki', 'Premium Draw', 'Albert', 'Hikaru Midorikawa', 'Premium Draw', 'Albert (Dark)', 'Hikaru Midorikawa', 'Premium Draw', 'Aletheia', 'Chikao Ohtsuka', 'Premium Draw', 'Aliza', 'Natsumi Takamori', 'Premium Draw', 'Altair', 'Daisuke Ono', 'Premium Draw', 'Amira', 'Risa Shimizu', 'Premium Draw', 'Anne', 'Yōko Hikasa', 'Premium Draw', 'Anthuria', 'Yū Asakawa', 'Premium Draw', 'Aoidos', 'Kisho Taniyama', 'Premium Draw', 'Arriet', 'Chinatsu Akasaki', 'Premium Draw', 'Arthur', 'Toshiyuki Toyonaga', 'Premium Draw', 'Arulumaya', 'Maaya Sakamoto', 'Premium Draw', 'Arulumaya (Light)', 'Maaya Sakamoto', 'Premium Draw', 'Athena', 'Ayako Kawasumi', 'Premium Draw', 'Ayer', 'Kensho Ono', 'Premium Draw', 'Azazel', 'Masakazu Morita', 'Premium Draw', 'Azusa', 'Asami Seto', 'Premium Draw', 'Baal', 'Kensho Ono', 'Premium Draw', 'Baotorda (SSR)', 'Ryouta Takeuchi', 'Premium Draw', 'Beatrix', 'Aya Hirano', 'Premium Draw', 'Beatrix (Earth)', 'Aya Hirano', 'Premium Draw', 'Benjamin', 'Kisho Taniyama', 'Premium Draw', 'Cagliostro', 'Sakura Tange', 'Premium Draw', 'Cagliostro (Dark)', 'Sakura Tange', 'Premium Draw', 'Carmelina', 'Misato Fukuen', 'Premium Draw', 'Catherine', 'Chiaki Takahashi', 'Premium Draw', 'Cerberus', 'Eri Kitamura', 'Premium Draw', 'Charlotta', 'Kaori Nazuka', 'Premium Draw', 'Charlotta (Light)', 'Kaori Nazuka', 'Premium Draw', 'Chat Noir', 'Yoshitsugu Matsuoka', 'Premium Draw', 'Clarisse', 'Ayane Sakura', 'Premium Draw', 'Clarisse (Light)', 'Ayane Sakura', 'Premium Draw', 'Colossus', 'Premium Draw', 'Cucouroux (SSR)', 'Aya Suzaki', 'Premium Draw', 'Cupitan', 'Ayana Taketatsu', 'Premium Draw', 'Dante and Freiheit', 'Takanori Hoshino', 'Makoto Furukawa ', 'Premium Draw', 'Danua (SSR)', 'Nozomi Sasaki', 'Premium Draw', 'De La Fille', 'Chiwa Saito', 'Premium Draw', 'De La Fille (Earth)', 'Chiwa Saito', 'Premium Draw', 'Diantha', 'Inori Minase', 'Premium Draw', 'Dorothy and Claudia', 'Sora Amamiya', 'Miho Arakawa ', 'Premium Draw', 'Drang', 'Tomokazu Sugita', 'Premium Draw', 'Elmott (SSR)', 'Tetsuya Kakihara', 'Premium Draw', 'Enyo', 'Marika Kōno', 'Premium Draw', 'Eustace', 'Kazuya Nakai', 'Premium Draw', 'Eustace (Dark)', 'Kazuya Nakai', 'Premium Draw', 'Ewiyar', 'Rie Hikisaka', 'Premium Draw', 'Farrah and Juri', 'Mariya Ise', ' Makoto Furukawa ', 'Premium Draw', 'Feather (SSR)', 'Sōma Saitō', 'Premium Draw', 'Feena', 'Haruka Tomatsu', 'Premium Draw', 'Ferry (SSR)', 'Madoka Yonezawa', 'Premium Draw', 'Filene', 'Sora Amamiya', 'Premium Draw', 'Fiorito', 'Ai Fairouz', 'Premium Draw', 'Florence', 'Toa Yukinari', 'Premium Draw', 'Forte', 'Sachika Misawa', 'Premium Draw', 'Freezie', 'Yūko Kaida', 'Premium Draw', 'Freyr', 'Hikaru Midorikawa', 'Premium Draw', 'Gawain', 'Tomokazu Seki', 'Premium Draw', 'Gawain (Light)', 'Tomokazu Seki', 'Premium Draw', 'Ghandagoza', 'Yanada Kiyoyuki', 'Premium Draw', 'Grea', 'Ayaka Fukuhara', 'Premium Draw', 'Grea (Light)', 'Ayaka Fukuhara', 'Premium Draw', 'Hallessena', 'Sumire Uesaka', 'Premium Draw', 'Heles', 'Yumi Tōma', 'Premium Draw', 'Heles (Wind)', 'Yumi Tōma', 'Premium Draw', 'Herja (SSR)', 'Minako Kotobuki', 'Premium Draw', 'Illnott', 'Akari Kitō', 'Premium Draw', 'Ilsa', 'Mie Sonozaki', 'Premium Draw', 'Ilsa (Light)', 'Mie Sonozaki', 'Premium Draw', 'Ippatsu (SSR)', 'Norio Wakamoto', 'Premium Draw', 'Isaac', 'Kōsuke Toriumi', 'Premium Draw', 'Izmir', 'Aya Endo', 'Premium Draw', \"Jeanne d'Arc\", 'Megumi Han', 'Premium Draw', \"Jeanne d'Arc (Dark)\", 'Megumi Han', 'Premium Draw', 'Jin', 'Hiroki Yasumoto', 'Premium Draw', 'Juliet', 'Kaori Ishihara', 'Premium Draw', 'Juliet (Water)', 'Kaori Ishihara', 'Premium Draw', 'Kolulu', 'Miku Itō', 'Premium Draw', 'Korwa', 'Ayumi Fujimura', 'Premium Draw', 'Kou', 'Yusuke Kobayashi', 'Premium Draw', 'Ladiva (SSR)', 'Tetsu Inada', 'Premium Draw', 'Lady Grey', 'Ai Orikasa', 'Premium Draw', 'Lady Katapillar and Vira', 'Miyuki Sawashiro', ' Asami Imai ', 'Premium Draw', 'Lamretta (SSR)', 'Satomi Akesaka', 'Premium Draw', 'Lancelot', 'Yūki Ono', 'Premium Draw', 'Lancelot (Wind)', 'Yūki Ono', 'Premium Draw', 'Lancelot and Vane', 'Yūki Ono', ' Takuya Eguchi ', 'Premium Draw', 'Lecia (Water)', 'Ayako Kawasumi', 'Premium Draw', 'Lennah', 'Mamiko Noto', 'Premium Draw', 'Lennah (Earth)', 'Mamiko Noto', 'Premium Draw', 'Levin Sisters', 'Aoi Yūki', 'Premium Draw', 'Lilele', 'Sumire Morohoshi', 'Premium Draw', 'Lilele (Fire)', 'Sumire Morohoshi', 'Premium Draw', 'Lily', 'Yuka Iguchi', 'Premium Draw', 'Lucius (SSR)', 'Takehito Koyasu', 'Premium Draw', 'Lunalu (Light)', 'Rumi Okubo', 'Premium Draw', 'Lunalu (SSR)', 'Rumi Okubo', 'Premium Draw', 'Macula Marius', 'Sakura Tange', 'Premium Draw', 'Magisa', 'Sayaka Ohara', 'Premium Draw', 'Marquiares', 'Chafurin', 'Premium Draw', 'Medusa', 'Kaori Mizuhashi', 'Premium Draw', 'Melissabelle', 'Shiori Mikami', 'Premium Draw', 'Melleau', 'Aki Toyosaki', 'Premium Draw', 'Metera', 'Ryōka Yuzuki', 'Premium Draw', 'Metera (Fire)', 'Ryōka Yuzuki', 'Premium Draw', 'Milleore and Sahli Lao', 'Saori Onishi', 'Nanami Yamashita ', 'Premium Draw', 'Mireille and Risette', 'Aoi Koga', ' Yumiri Hanamori ', 'Premium Draw', 'Mishra (SSR)', 'Kikuko Inoue', 'Premium Draw', 'Morrigna', 'Marina Inoue', 'Sora Amamiya ', 'Premium Draw', 'Ms. Miranda', 'Kikuko Inoue', 'Premium Draw', 'Naoise', 'Gō Inoue', 'Premium Draw', 'Naoise (Fire)', 'Gō Inoue', 'Premium Draw', 'Narmaya', 'Mao Ichimichi', 'Premium Draw', 'Nectar', 'Yoshihisa Kawahara', 'Premium Draw', 'Nemone', 'Ayahi Takagaki', 'Premium Draw', 'Nezahualpilli', 'Jurota Kosugi', 'Premium Draw', 'Nezha', 'Daisuke Kishio', 'Premium Draw', 'Nicholas', 'Tomokazu Seki', 'Premium Draw', 'Nicholas (Light)', 'Tomokazu Seki', 'Premium Draw', 'Pengy (SSR)', 'Reina Ueda', 'Premium Draw', 'Percival', 'Ryōta Ōsaka', 'Premium Draw', 'Percival (Light)', 'Ryōta Ōsaka', 'Premium Draw', 'Petra (SSR)', 'Houko Kuwashima', 'Premium Draw', 'Predator (SSR)', 'Yū Asakawa', 'Premium Draw', 'Randall (SSR)', 'Wataru Hatano', 'Premium Draw', 'Razia', 'Nozomi Yamamoto', 'Premium Draw', 'Robomi', 'Keiko Han', 'Premium Draw', 'Romeo', 'Yuichi Nakamura', 'Premium Draw', 'Rosamia (SSR)', 'Yui Ishikawa', 'Premium Draw', 'Sara', 'Asuka Ōgame', 'Premium Draw', 'Sara (Light)', 'Asuka Ōgame', 'Premium Draw', 'Sarunan', 'Daisuke Namikawa', 'Premium Draw', 'Sarunan (Dark)', 'Daisuke Namikawa', 'Premium Draw', 'Satyr', 'Manaka Iwami', 'Premium Draw', 'Satyr (Earth)', 'Manaka Iwami', 'Premium Draw', 'Scathacha', 'Sachiko Kojima', 'Premium Draw', 'Selfira', 'Yōko Hikasa', 'Premium Draw', 'Sen (SSR)', 'Ryō Hirohashi', 'Premium Draw', 'Seruel', 'Toshiyuki Morikawa', 'Premium Draw', 'Shion', 'Shizuka Ishigami', 'Premium Draw', 'Shitori', 'Chika Anzai', 'Premium Draw', 'Sho', 'Kisho Taniyama', 'Premium Draw', 'Shura', 'Megumi Toyoguchi', 'Premium Draw', 'Siegfried', 'Kazuhiko Inoue', 'Premium Draw', 'Siegfried (Fire)', 'Kazuhiko Inoue', 'Premium Draw', 'Silva', 'Aya Hisakawa', 'Premium Draw', 'Silva (Light)', 'Aya Hisakawa', 'Premium Draw', 'Societte', 'Ryoko Shiraishi', 'Premium Draw', 'Societte (Fire)', 'Ryoko Shiraishi', 'Premium Draw', 'Societte (Wind)', 'Ryoko Shiraishi', 'Premium Draw', 'Sophia', 'Kaori Fukuhara', 'Premium Draw', 'Soriz (SSR)', 'Rikiya Koyama', 'Premium Draw', 'Stan and Aliza', 'Toshiki Masuda', 'Natsumi Takamori ', 'Premium Draw', 'Sturm', 'Kanae Itō', 'Premium Draw', 'Sutera (SSR)', 'Shizuka Itō', 'Premium Draw', 'Sylph', 'Satomi Moriya', 'Premium Draw', 'Tabina', 'Kaede Hondo', 'Premium Draw', 'Tanya (SSR)', 'Ayaka Suwa', 'Premium Draw', 'Therese (SSR)', 'Yū Kobayashi', 'Premium Draw', 'Tiamat', 'Premium Draw', 'Tikoh', 'Yoshino Nanjō', 'Premium Draw', 'Troue', 'Shun Horie', 'Premium Draw', 'Tsubasa', 'Yuichi Nakamura', 'Premium Draw', 'Vane (SSR)', 'Takuya Eguchi', 'Premium Draw', 'Vania', 'Rie Kugimiya', 'Premium Draw', 'Vania and Malinda', 'Rie Kugimiya', ' Inuko Inuyama ', 'Premium Draw', 'Vaseraga', 'Fumihiko Tachiki', 'Premium Draw', 'Vaseraga (Earth)', 'Fumihiko Tachiki', 'Premium Draw', 'Vaseraga (Fire)', 'Fumihiko Tachiki', 'Premium Draw', 'Veight', 'Yūki Kaji', 'Premium Draw', 'Vira (SSR)', 'Asami Imai', 'Premium Draw', 'Vira (Wind)', 'Asami Imai', 'Premium Draw', 'Wulf and Renie', 'Tomoaki Maeno', ' Akane Fujita ', 'Premium Draw', 'Yggdrasil', 'Premium Draw', 'Yggdrasil (Wind)', 'Premium Draw', 'Yngwie', 'Kazuhiro Yamaji', 'Premium Draw', 'Yodarha (SSR)', 'Shigeru Chiba', 'Premium Draw', 'Yodarha (Wind)', 'Shigeru Chiba', 'Premium Draw', 'Yuel', 'Kana Ueda', 'Premium Draw', 'Yuel (Water)', 'Kana Ueda', 'Premium Draw', 'Yuisis', 'Rika Tachibana', 'Premium Draw', 'Yuisis (Fire)', 'Rika Tachibana', 'Premium Draw', 'Yurius', 'Hidenobu Kiuchi', 'Premium Draw', 'Zahlhamelina', 'Yumi Hara', 'Premium Draw', 'Zehek (SSR)', 'KENN', 'Premium Draw', 'Zeta', 'Kana Hanazawa', 'Premium Draw', 'Zeta (Dark)', 'Kana Hanazawa', 'Premium Draw', 'Zeta (Water)', 'Kana Hanazawa', 'Premium Draw', 'Zooey', 'Ami Koshimizu', 'Premium Draw', 'Cassius (Event SSR)', 'Masaya Matsukaze', 'Home Sweet Moon', 'Seox (Event)', 'Nobuyuki Hiyama', 'Seeds of Redemption', 'Alexiel', 'Aya Hirano', 'Flash Gala', 'Black Knight', 'Romi Park', 'Flash Gala', 'Cagliostro (Grand)', 'Sakura Tange', 'Premium Gala', 'Cain (Grand)', 'Takuma Terashima', 'Premium Gala', 'Drang (Grand)', 'Tomokazu Sugita', 'Flash Gala', 'Eugen (Grand)', 'Keiji Fujiwara', ' Kazuhiro Yamaji ', 'Premium Gala', 'Europa', 'Mai Nakahara', 'Flash Gala', 'Fediel', 'Asami Tano', 'Premium Gala', 'Ferry (Grand)', 'Madoka Yonezawa', 'Premium Gala', 'Golden Knight', 'Ai Kayano', 'Flash Gala', 'Grimnir', 'Megumi Ogata', 'Flash Gala', 'Helel ben Shalem', 'Mariya Ise', 'Flash Gala', 'Io (Grand)', 'Yukari Tamura', 'Premium Gala', \"Jeanne d'Arc (Grand)\", 'Megumi Han', 'Flash Gala', 'Katalina (Grand)', 'Miyuki Sawashiro', 'Premium Gala', 'Lancelot (Grand)', 'Yūki Ono', 'Flash Gala', 'Lecia (Grand)', 'Ayako Kawasumi', 'Premium Gala', 'Leona (Grand)', 'Hibiku Yamamura', 'Premium Gala', 'Lich', 'Karin Takahashi', 'Flash Gala', 'Lucio', 'Takahiro Sakurai', 'Flash Gala', 'Monika (Grand)', 'Ayumi Tsuji', 'Premium Gala', 'Mugen', 'Tesshō Genda', 'Flash Gala', 'Narmaya (Grand)', 'Mao Ichimichi', 'Premium Gala', 'Nehan', 'Takashi Kondo', 'Flash Gala', 'Noa (Grand)', 'Kaito Ishikawa', 'Premium Gala', 'Olivia', 'Maaya Sakamoto', 'Flash Gala', 'Orchid', 'Minori Chihara', 'Flash Gala', 'Pholia', 'Maaya Uchida', 'Kenyu Horiuchi ', 'Premium Gala', 'Poseidon', 'Daisuke Ono', 'Premium Gala', 'Rackam (Grand)', 'Hiroaki Hirata', 'Premium Gala', 'Rei', 'Ai Kayano', 'Premium Gala', 'Reinhardtzar (Grand)', 'Kenichirou Matsuda', 'Premium Gala', 'Rosetta (Grand)', 'Rie Tanaka', 'Premium Gala', 'Sandalphon', 'Kenichi Suzumura', 'Flash Gala', 'Shiva', 'Shō Hayami', 'Flash Gala', 'Sturm (Grand)', 'Kanae Itō', 'Flash Gala', 'Vira (Grand)', 'Asami Imai', 'Flash Gala', 'Wilnas', 'Masaaki Mizunaka', 'Premium Gala', 'Zooey (Grand)', 'Ami Koshimizu', 'Flash Gala', 'Andira', 'Aya Uchida', 'Premium Gala', 'Anila', 'Aoi Yūki', 'Premium Gala', 'Catura', 'Rina Hidaka', 'Premium Gala', 'Cidala', 'Ai Kakuma', 'Premium Gala', 'Kumbhira', 'Yui Horie', 'Premium Gala', 'Mahira', 'Mai Kadowaki', 'Premium Gala', 'Vajra', 'Yū Serizawa', 'Premium Gala', 'Vikala', 'Atsumi Tanezaki', 'Premium Gala', 'Aglovale (Valentine)', 'Tatsuhisa Suzuki', 'Valentine Premium Draw', 'Cassius (Valentine)', 'Masaya Matsukaze', 'Valentine Premium Draw', 'Clarisse (Valentine)', 'Ayane Sakura', 'Valentine Premium Draw', 'Grimnir (Valentine)', 'Megumi Ogata', 'Valentine Premium Draw', 'Ladiva (Valentine)', 'Tetsu Inada', 'Valentine Premium Draw', 'Medusa (Valentine)', 'Kaori Mizuhashi', 'Valentine Premium Draw', 'Melissabelle (Valentine)', 'Shiori Mikami', 'Valentine Premium Draw', 'Monika (Valentine)', 'Ayumi Tsuji', 'Valentine Premium Draw', 'Scathacha (Valentine)', 'Sachiko Kojima', 'Valentine Premium Draw', 'Vira (Valentine)', 'Asami Imai', 'Valentine Premium Draw', 'Albert (Summer)', 'Hikaru Midorikawa', 'Summer Premium Draw', 'Alexiel (Summer)', 'Aya Hirano', 'Summer Premium Draw', 'Amira (Summer)', 'Risa Shimizu', 'Summer Premium Draw', 'Andira (Summer)', 'Aya Uchida', 'Summer Premium Draw', 'Anila (Summer)', 'Aoi Yūki', 'Summer Premium Draw', 'Anthuria (Yukata)', 'Yū Asakawa', 'Summer Premium Draw', 'Beatrix (Summer)', 'Aya Hirano', 'Summer Premium Draw', 'Cagliostro (Summer)', 'Sakura Tange', 'Summer Premium Draw', 'Danua (Summer)', 'Nozomi Sasaki', 'Summer Premium Draw', 'De La Fille (Summer)', 'Chiwa Saito', 'Summer Premium Draw', 'Diantha (Summer)', 'Inori Minase', 'Summer Premium Draw', 'Europa (Summer)', 'Mai Nakahara', 'Summer Premium Draw', 'Grea (Summer)', 'Ayaka Fukuhara', 'Summer Premium Draw', 'Halluel and Malluel (Summer)', 'Emiri Katō', 'Summer Premium Draw', 'Helel ben Shalem (Summer)', 'Mariya Ise', 'Summer Premium Draw', 'Heles (Summer)', 'Yumi Tōma', 'Summer Premium Draw', 'Illnott (Summer)', 'Akari Kitō', 'Summer Premium Draw', 'Ilsa (Summer)', 'Mie Sonozaki', 'Summer Premium Draw', 'Io (Summer)', 'Yukari Tamura', 'Summer Premium Draw', 'Izmir (Summer)', 'Aya Endo', 'Summer Premium Draw', 'Izmir (Yukata)', 'Aya Endo', 'Summer Premium Draw', \"Jeanne d'Arc (Summer)\", 'Megumi Han', 'Summer Premium Draw', 'Jessica (Yukata)', 'Asami Seto', 'Summer Premium Draw', 'Kolulu (Summer)', 'Miku Itō', 'Summer Premium Draw', 'Korwa (Summer)', 'Ayumi Fujimura', 'Summer Premium Draw', 'Kumbhira (Summer)', 'Yui Horie', 'Summer Premium Draw', 'Lucio (Summer)', 'Takahiro Sakurai', 'Summer Premium Draw', 'Meg (Summer)', 'Tomoyo Kurosawa', 'Summer Premium Draw', 'Metera (Summer)', 'Ryoka Yuzuki', 'Summer Premium Draw', 'Mimlemel (Summer)', 'Yumiko Kobayashi', 'Summer Premium Draw', 'Naoise (Summer)', 'Gō Inoue', 'Summer Premium Draw', 'Narmaya (Summer)', 'Mao Ichimichi', 'Summer Premium Draw', 'Percival (Summer)', 'Ryōta Ōsaka', 'Summer Premium Draw', 'Rosamia (Yukata)', 'Yui Ishikawa', 'Summer Premium Draw', 'Rosetta (Summer)', 'Rie Tanaka', 'Summer Premium Draw', 'Sandalphon (Summer)', 'Kenichi Suzumura', 'Summer Premium Draw', 'Shiva (Summer)', 'Shō Hayami', 'Summer Premium Draw', 'Siegfried (Summer)', 'Kazuhiko Inoue', 'Summer Premium Draw', 'Siegfried (Yukata)', 'Kazuhiko Inoue', 'Summer Premium Draw', 'Silva (Summer)', 'Aya Hisakawa', 'Summer Premium Draw', 'Tabina (Summer)', 'Kaede Hondo', 'Summer Premium Draw', 'Teena (Summer)', 'Yui Horie', 'Summer Premium Draw', 'Vira (Summer)', 'Asami Imai', 'Summer Premium Draw', 'Yngwie (Yukata)', 'Kazuhiro Yamaji', 'Summer Premium Draw', 'Yuel (Summer)', 'Kana Ueda', 'Summer Premium Draw', 'Zahlhamelina (Yukata)', 'Yumi Hara', 'Summer Premium Draw', 'Zeta (Summer)', 'Kana Hanazawa', 'Summer Premium Draw', 'Azazel (Halloween)', 'Masakazu Morita', 'Halloween Premium Draw', 'Cagliostro (Halloween)', 'Sakura Tange', 'Halloween Premium Draw', 'Charlotta (Halloween)', 'Kaori Nazuka', 'Halloween Premium Draw', 'Cucouroux (Halloween)', 'Aya Suzaki', 'Halloween Premium Draw', 'Danua (Halloween)', 'Nozomi Sasaki', 'Halloween Premium Draw', 'Eustace (Halloween)', 'Kazuya Nakai', 'Halloween Premium Draw', 'Hallessena (Halloween)', 'Sumire Uesaka', 'Halloween Premium Draw', 'Lady Grey (Halloween)', 'Ai Orikasa', 'Halloween Premium Draw', 'Rosetta (Halloween)', 'Rie Tanaka', 'Halloween Premium Draw', 'Vane (Halloween)', 'Takuya Eguchi', 'Halloween Premium Draw', 'Zeta and Vaseraga (Halloween)', 'Kana Hanazawa', ' Fumihiko Tachiki ', 'Halloween Premium Draw', 'Altair (Holiday)', 'Daisuke Ono', 'Holiday Premium Draw', 'Anthuria (Holiday)', 'Yū Asakawa', 'Holiday Premium Draw', 'Arulumaya (Holiday)', 'Maaya Sakamoto', 'Holiday Premium Draw', 'Clarisse (Holiday)', 'Ayane Sakura', 'Holiday Premium Draw', 'Lily (Holiday)', 'Yuka Iguchi', 'Holiday Premium Draw', 'Magisa (Holiday)', 'Sayaka Ohara', 'Holiday Premium Draw', 'Mahira (Holiday)', 'Mai Kadowaki', 'Holiday Premium Draw', 'Mary (Holiday)', 'Akiko Hasegawa', 'Holiday Premium Draw', 'Meteon (Holiday)', 'Masakazu Morita', 'Holiday Premium Draw', 'Metera (Holiday)', 'Ryōka Yuzuki', 'Holiday Premium Draw', 'Mirin (Holiday)', 'Miyu Takagi', 'Holiday Premium Draw', 'Narmaya (Holiday)', 'Mao Ichimichi', 'Holiday Premium Draw', 'Nemone (Holiday)', 'Ayahi Takagaki', 'Holiday Premium Draw', 'Rosetta (Holiday)', 'Rie Tanaka', 'Holiday Premium Draw', 'Seruel (Holiday)', 'Toshiyuki Morikawa', 'Holiday Premium Draw', 'Christina', 'Marina Inoue', 'Jewel Resort Casino', 'Monika', 'Ayumi Tsuji', 'Arcarum: The World Beyond', 'Aqours First-Years', 'Aika Kobayashi', 'Kanako Takatsuki ', 'Love Live! Sunshine!! Aqours Sky-High!', 'Aqours Second-Years', 'Rikako Aida', 'Anju Inami ', 'Love Live! Sunshine!! Aqours Sky-High!', 'Aqours Third-Years', 'Nanaka Suwa', 'Arisa Komiya ', 'Love Live! Sunshine!! Aqours Sky-High!', 'Kallen Kouzuki', 'Ami Koshimizu', 'Code Geass: Lelouch of the RebellionThe Blue Reckoning', 'Karyl', 'Rika Tachibana', 'Princess Connect! Re:DiveDinner at the Turned Table', 'Kokkoro', 'Miku Itō', 'Princess Connect! Re:DiveDinner at the Turned Table', 'Lelouch Lamperouge', 'Jun Fukuyama', 'Yukana ', 'Code Geass: Lelouch of the RebellionThe Blue Reckoning', 'Pecorine', 'Mao Ichimichi', 'Princess Connect! Re:DiveDinner at the Turned Table', 'Sandalphon (Event)', 'Kenichi Suzumura', 'What Makes the Sky Blue II: Paradise Lost', 'What Makes the Sky Blue III: 000', 'Suzaku Kururugi', 'Takahiro Sakurai', 'Code Geass: Lelouch of the RebellionThe Blue Reckoning', \"Μ's First-Years\", 'Riho Iida', 'Yurika Kubo ', 'Love Live! Door to the Skies', \"Μ's Second-Years\", 'Emi Nitta', 'Suzuko Mimori ', 'Love Live! Door to the Skies', \"Μ's Third-Years\", 'Yoshino Nanjo', 'Sora Tokui ', 'Love Live! Door to the Skies', 'Aqours First-Years', 'Aika Kobayashi', 'Kanako Takatsuki ', 'Love Live! Sunshine!! Aqours Sky-High!', 'Aqours Second-Years', 'Rikako Aida', 'Anju Inami ', 'Love Live! Sunshine!! Aqours Sky-High!', 'Aqours Third-Years', 'Nanaka Suwa', 'Arisa Komiya ', 'Love Live! Sunshine!! Aqours Sky-High!', 'Bobobo-bo Bo-bobo', 'Takehito Koyasu', \"Wiggin' War in the Sky World\\u200e\\u200e\", 'Conan Edogawa', 'Minami Takayama', 'Detective Conan: Gears of Conspiracy', 'Cure Black and Cure White', 'Yoko Honna', ' Yukana ', 'Pretty Cure: Memories of the Sky', 'Doraemon', 'Wasabi Mizuta', \"Doraemon: Nobita's Skyfaring Boat\", 'Gachapin', 'Gachapin, Mukku, and the Azure Adventure', 'Hiro Ryugasaki', 'Gakuto Kajiwara', 'Shadowverse: Beyond the Sky', 'Joker', 'Jun Fukuyama', 'Persona 5: Thievery in Blue', 'Kaede Takagaki', 'Saori Hayami', 'Cinderella Fantasy: To the Skies Once More', 'Kallen Kouzuki', 'Ami Koshimizu', 'Code Geass: Lelouch of the RebellionThe Blue Reckoning', 'Karyl', 'Rika Tachibana', 'Princess Connect! Re:DiveDinner at the Turned Table', 'Kokkoro', 'Miku Itō', 'Princess Connect! Re:DiveDinner at the Turned Table', 'Kyojuro Rengoku', 'Satoshi Hino', \"Scent of Fate at Sky's End\", 'Lelouch Lamperouge', 'Jun Fukuyama', 'Yukana ', 'Code Geass: Lelouch of the RebellionThe Blue Reckoning', 'Levi', 'Hiroshi Kamiya', 'Titanic Yeager', 'Mikazuki Munechika', 'Kōsuke Toriumi', 'Katsugeki Touken Ranbu: Fate Horizon', 'Mimori Amamiya', 'Kaede Hondo', 'Shadowverse: Beyond the Sky', 'New Generations', 'Ayaka Fukuhara', ' Ayaka Ohashi ', 'Cinderella Fantasy: To the Skies Once More', 'Nobita', 'Megumi Ohara', \"Doraemon: Nobita's Skyfaring Boat\", 'Pecorine', 'Mao Ichimichi', 'Princess Connect! Re:DiveDinner at the Turned Table', 'Sakura Kinomoto', 'Sakura Tange', 'Cardcaptor Sakura: Sakura and the Mysterious Sky Journey', 'Shinobu Kocho', 'Saori Hayami', \"Scent of Fate at Sky's End\", 'Shinsengumi', 'Kazuya Nakai', 'Kenichi Suzumura ', 'Gin Tama: Shonen Jump Is Best Enjoyed Cover to Cover', 'Special Week, Silence Suzuka, and Tokai Teio', 'Azumi Waki', ' Marika Kohno ', 'Umamusume: Pretty Derby - A Fanfare to Echo across the Skies', 'Suzaku Kururugi', 'Takahiro Sakurai', 'Code Geass: Lelouch of the RebellionThe Blue Reckoning', 'Tanjiro, Nezuko, Zenitsu, and Inosuke', 'Natsuki Hanae', ' Akari Kitō ', \"Scent of Fate at Sky's End\", 'Yorozuya', 'Tomokazu Sugita', ' Daisuke Sakaguchi ', 'Gin Tama: Shonen Jump Is Best Enjoyed Cover to Cover', \"Μ's First-Years\", 'Riho Iida', 'Yurika Kubo ', 'Love Live! Door to the Skies', \"Μ's Second-Years\", 'Emi Nitta', 'Suzuko Mimori ', 'Love Live! Door to the Skies', \"Μ's Third-Years\", 'Yoshino Nanjo', 'Sora Tokui ', 'Love Live! Door to the Skies', 'Black Knight and Orchis', 'Romi Park', ' Minori Chihara ', 'Charioce XVII', 'Yūichirō Umehara', 'Katalina (Promo)', 'Miyuki Sawashiro', 'Medusa (Promo)', 'Kaori Mizuhashi', 'Nina Drango', 'Sumire Morohoshi', 'Vira (Promo)', 'Asami Imai', 'Zooey (Promo)', 'Ami Koshimizu', 'Anre', 'Ryūsei Nakao', 'One-Rift Spear', 'Eahta', 'Banjo Ginga', 'Eight-Life Katana', 'Feower', 'Jun Fukuyama', 'Four-Sky Blade', 'Fif', 'Wasabi Mizuta', 'Five-Soul Staff', 'Niyon', 'Yukana', 'Nine-Realm Harp', 'Seofon', 'Junichi Suwabe', 'Seven-Star Sword', 'Seox', 'Nobuyuki Hiyama', 'Six-Ruin Fist', 'Threo', 'Minami Takayama', 'Three-Tiger Axe', 'Tien', 'Rina Satō', 'Ten-Wolf Gun', 'Tweyen', 'Yuko Minaguchi', 'Two-Crown Bow', 'Alanaan', 'Ryūzaburō Ōtomo', 'Arcarum: The World Beyond', 'Caim', 'Sachi Kokuryu', 'Arcarum: The World Beyond', 'Estarriola', 'Chō', 'Arcarum: The World Beyond', 'Fraux', 'Azumi Asakura', 'Arcarum: The World Beyond', 'Geisenborger', 'Masaki Terasoma', 'Arcarum: The World Beyond', 'Haaselia', 'Yukiyo Fujii', 'Arcarum: The World Beyond', 'Katzelia', 'Hiroki Takahashi', 'Arcarum: The World Beyond', 'Lobelia', 'Kenji Nojima', 'Arcarum: The World Beyond', 'Maria Theresa', 'Mikako Takahashi', 'Arcarum: The World Beyond', 'Nier', 'Noriko Shitaya', 'Arcarum: The World Beyond']\n"
     ]
    }
   ],
   "source": [
    "print(temp)"
   ]
  }
 ],
 "metadata": {
  "interpreter": {
   "hash": "c511a689884ea87b05d7e6308bcd3bc07b8326d80ebf1c46c0d8c6a4a82d4d0a"
  },
  "kernelspec": {
   "display_name": "Python 3.10.2 64-bit",
   "language": "python",
   "name": "python3"
  },
  "language_info": {
   "codemirror_mode": {
    "name": "ipython",
    "version": 3
   },
   "file_extension": ".py",
   "mimetype": "text/x-python",
   "name": "python",
   "nbconvert_exporter": "python",
   "pygments_lexer": "ipython3",
   "version": "3.10.2"
  },
  "orig_nbformat": 4
 },
 "nbformat": 4,
 "nbformat_minor": 2
}
