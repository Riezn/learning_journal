{
 "cells": [
  {
   "cell_type": "code",
   "execution_count": 9,
   "metadata": {},
   "outputs": [
    {
     "name": "stdout",
     "output_type": "stream",
     "text": [
      "15 lebih besar dari 10\n",
      "15 lebih besar dari 10\n"
     ]
    }
   ],
   "source": [
    "x = 15\n",
    "y = \"10\"\n",
    "txt = \"{} lebih besar dari {}\"\n",
    "print(f\"{x} lebih besar dari {y}\")\n",
    "print(txt.format(x,y))"
   ]
  },
  {
   "cell_type": "code",
   "execution_count": 4,
   "metadata": {},
   "outputs": [
    {
     "name": "stdout",
     "output_type": "stream",
     "text": [
      "2 angka genap\n"
     ]
    }
   ],
   "source": [
    "angka = 2\n",
    "if angka % 2 == 0:\n",
    "    print(f\"{angka} angka genap\")\n",
    "else:\n",
    "    print(f\"{angka} angka ganjil\")"
   ]
  }
 ],
 "metadata": {
  "interpreter": {
   "hash": "c511a689884ea87b05d7e6308bcd3bc07b8326d80ebf1c46c0d8c6a4a82d4d0a"
  },
  "kernelspec": {
   "display_name": "Python 3.10.2 64-bit",
   "language": "python",
   "name": "python3"
  },
  "language_info": {
   "codemirror_mode": {
    "name": "ipython",
    "version": 3
   },
   "file_extension": ".py",
   "mimetype": "text/x-python",
   "name": "python",
   "nbconvert_exporter": "python",
   "pygments_lexer": "ipython3",
   "version": "3.10.2"
  },
  "orig_nbformat": 4
 },
 "nbformat": 4,
 "nbformat_minor": 2
}
