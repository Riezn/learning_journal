{
 "cells": [
  {
   "cell_type": "markdown",
   "metadata": {},
   "source": [
    "Basic Function"
   ]
  },
  {
   "cell_type": "code",
   "execution_count": 4,
   "metadata": {},
   "outputs": [
    {
     "ename": "TypeError",
     "evalue": "printme() missing 1 required positional argument: 'str'",
     "output_type": "error",
     "traceback": [
      "\u001b[1;31m---------------------------------------------------------------------------\u001b[0m",
      "\u001b[1;31mTypeError\u001b[0m                                 Traceback (most recent call last)",
      "\u001b[1;32me:\\hacktiv8\\ftds009\\learning_journal\\phase_0\\week_1\\d3_function.ipynb Cell 2'\u001b[0m in \u001b[0;36m<module>\u001b[1;34m\u001b[0m\n\u001b[0;32m      <a href='vscode-notebook-cell:/e%3A/hacktiv8/ftds009/learning_journal/phase_0/week_1/d3_function.ipynb#ch0000008?line=4'>5</a>\u001b[0m     \u001b[39mreturn\u001b[39;00m\n\u001b[0;32m      <a href='vscode-notebook-cell:/e%3A/hacktiv8/ftds009/learning_journal/phase_0/week_1/d3_function.ipynb#ch0000008?line=6'>7</a>\u001b[0m \u001b[39m# Now you can call printme function\u001b[39;00m\n\u001b[1;32m----> <a href='vscode-notebook-cell:/e%3A/hacktiv8/ftds009/learning_journal/phase_0/week_1/d3_function.ipynb#ch0000008?line=7'>8</a>\u001b[0m printme()\n",
      "\u001b[1;31mTypeError\u001b[0m: printme() missing 1 required positional argument: 'str'"
     ]
    }
   ],
   "source": [
    "# Function definition is here\n",
    "def printme( str ):\n",
    "    \"This prints a passed string into this function\"\n",
    "    print(str)\n",
    "    return\n",
    "\n",
    "# Now you can call printme function\n",
    "printme()"
   ]
  },
  {
   "cell_type": "code",
   "execution_count": 2,
   "metadata": {},
   "outputs": [
    {
     "name": "stdout",
     "output_type": "stream",
     "text": [
      "I'm first call to user defined function!\n",
      "Again second call to the same function\n"
     ]
    }
   ],
   "source": [
    "# Function definition is here\n",
    "def printme( str ):\n",
    "    \"This prints a passed string into this function\"\n",
    "    print(str)\n",
    "    return\n",
    "\n",
    "# Now you can call printme function\n",
    "printme(\"I'm first call to user defined function!\")\n",
    "printme(\"Again second call to the same function\")"
   ]
  },
  {
   "cell_type": "code",
   "execution_count": 11,
   "metadata": {},
   "outputs": [
    {
     "name": "stdout",
     "output_type": "stream",
     "text": [
      "[]\n",
      "[]\n",
      "[10, 20, 30]\n",
      "Values before the function:  [10, 20, 30]\n",
      "Values after the function:  [10, 20, 30, [1, 2, 3, 4]]\n"
     ]
    }
   ],
   "source": [
    "# Function definition is here\n",
    "mylist = []\n",
    "print(mylist)\n",
    "\n",
    "def changeme( mylist ):\n",
    "    \"This changes a passed list into this function\"\n",
    "    print(\"Values before the function: \", mylist)\n",
    "    mylist.append([1,2,3,4])\n",
    "    return\n",
    "\n",
    "# Now you can call changeme function\n",
    "mylist1 = [10,20,30];\n",
    "print(mylist1)\n",
    "changeme( mylist1 );\n",
    "print(\"Values after the function: \", mylist1)"
   ]
  },
  {
   "cell_type": "markdown",
   "metadata": {},
   "source": [
    "Default Argument"
   ]
  },
  {
   "cell_type": "code",
   "execution_count": 15,
   "metadata": {},
   "outputs": [
    {
     "name": "stdout",
     "output_type": "stream",
     "text": [
      "str pertama\n",
      "15\n"
     ]
    }
   ],
   "source": [
    "# Function definition is here\n",
    "def printme( str1, str2 = \"15\" ):\n",
    "    \"This prints a passed string into this function\"\n",
    "    print(str1)\n",
    "    print(str2)\n",
    "    return\n",
    "\n",
    "# Now you can call printme function\n",
    "printme(\"str pertama\",)"
   ]
  },
  {
   "cell_type": "markdown",
   "metadata": {},
   "source": [
    "Keyword Argument\n",
    "\n",
    "Harus ada default argument kalau tidak ada variabel satunya"
   ]
  },
  {
   "cell_type": "code",
   "execution_count": 3,
   "metadata": {},
   "outputs": [
    {
     "name": "stdout",
     "output_type": "stream",
     "text": [
      "20\n",
      "h8\n"
     ]
    }
   ],
   "source": [
    "# Function definition is here\n",
    "def printme( str1 = \"20\", str2 = \"15\" ):\n",
    "    \"This prints a passed string into this function\"\n",
    "    print(str1)\n",
    "    print(str2)\n",
    "    return\n",
    "\n",
    "# Now you can call printme function\n",
    "printme(str2 = \"h8\")"
   ]
  },
  {
   "cell_type": "markdown",
   "metadata": {},
   "source": [
    "Variable-length Argument"
   ]
  },
  {
   "cell_type": "code",
   "execution_count": 4,
   "metadata": {},
   "outputs": [
    {
     "name": "stdout",
     "output_type": "stream",
     "text": [
      "Output is: \n",
      "10\n",
      "() \n",
      "\n",
      "Output is: \n",
      "70\n",
      "(60, 50) \n",
      "\n",
      "60\n",
      "50\n"
     ]
    }
   ],
   "source": [
    "#!/usr/bin/python\n",
    "# Function definition is here\n",
    "def printinfo( arg1, *vartuple ):\n",
    "    \"This prints a variable passed arguments\"\n",
    "    print(\"Output is: \")\n",
    "    print(arg1)\n",
    "    print(vartuple,\"\\n\")\n",
    "\n",
    "    ##cuma print isi vartuple\n",
    "    for var in vartuple:\n",
    "        print(var)\n",
    "    return;\n",
    "# Now you can call printinfo function\n",
    "printinfo( 10 )\n",
    "printinfo( 70, 60, 50 )"
   ]
  },
  {
   "cell_type": "markdown",
   "metadata": {},
   "source": [
    "Lambda Function"
   ]
  },
  {
   "cell_type": "code",
   "execution_count": 5,
   "metadata": {},
   "outputs": [
    {
     "name": "stdout",
     "output_type": "stream",
     "text": [
      "[4, 6, 8, 12]\n",
      "[False, False, True, True, True, False, False, True]\n"
     ]
    }
   ],
   "source": [
    "my_list = [1, 5, 4, 6, 8, 11, 3, 12]\n",
    "\n",
    "new_list_filter = list(filter(lambda x: (x%2 == 0) , my_list))\n",
    "\n",
    "new_list_map = list(map(lambda x: (x%2 == 0) , my_list))\n",
    "\n",
    "\"\"\"filter(function,argument) -> output-nya berupa argument yang bersifat true berdasarkan \n",
    "function yang didefinisikan\"\"\"\n",
    "\"\"\"map(function,argument) -> output-nya semua argument yang sudah ditransformasi function\"\"\"\n",
    "\n",
    "print(new_list_filter)\n",
    "print(new_list_map)"
   ]
  },
  {
   "cell_type": "markdown",
   "metadata": {},
   "source": [
    "Module"
   ]
  },
  {
   "cell_type": "code",
   "execution_count": 3,
   "metadata": {},
   "outputs": [
    {
     "name": "stdout",
     "output_type": "stream",
     "text": [
      "zack\n",
      "arg = Good Morning !\n"
     ]
    }
   ],
   "source": [
    "import person\n",
    "print(person.name)\n",
    "person.devices\n",
    "person.display('Good Morning !')\n",
    "\n",
    "#person.reload(name) kalau mau reload variabel name di notebook"
   ]
  },
  {
   "cell_type": "code",
   "execution_count": 1,
   "metadata": {},
   "outputs": [
    {
     "name": "stdout",
     "output_type": "stream",
     "text": [
      "zack\n",
      "arg = Good Morning !\n"
     ]
    }
   ],
   "source": [
    "from person import name, devices, display\n",
    "print(name)\n",
    "devices\n",
    "display('Good Morning !')"
   ]
  },
  {
   "cell_type": "markdown",
   "metadata": {},
   "source": [
    "Package"
   ]
  },
  {
   "cell_type": "code",
   "execution_count": 13,
   "metadata": {},
   "outputs": [
    {
     "name": "stdout",
     "output_type": "stream",
     "text": [
      "zack\n",
      "kcaz\n"
     ]
    }
   ],
   "source": [
    "import pkg.people as ppl, pkg.person as per\n",
    "\n",
    "print(per.name)\n",
    "print(ppl.name)"
   ]
  },
  {
   "cell_type": "markdown",
   "metadata": {},
   "source": [
    "Pakai from"
   ]
  },
  {
   "cell_type": "code",
   "execution_count": 8,
   "metadata": {},
   "outputs": [
    {
     "name": "stdout",
     "output_type": "stream",
     "text": [
      "zack\n",
      "zack\n",
      "kcaz\n"
     ]
    }
   ],
   "source": [
    "from pkg import people, person\n",
    "\n",
    "print(person.name)\n",
    "print(people.name)"
   ]
  },
  {
   "cell_type": "code",
   "execution_count": 12,
   "metadata": {},
   "outputs": [
    {
     "name": "stdout",
     "output_type": "stream",
     "text": [
      "zack\n",
      "kcaz\n"
     ]
    }
   ],
   "source": [
    "from pkg import *\n",
    "\n",
    "print(person.name)\n",
    "print(people.name)"
   ]
  },
  {
   "cell_type": "markdown",
   "metadata": {},
   "source": [
    "PIP\n",
    "\n",
    "#dari python -> !pip install numpy\n",
    "\n",
    "#dari cmd -> pip install numpy"
   ]
  },
  {
   "cell_type": "markdown",
   "metadata": {},
   "source": [
    "Reload module"
   ]
  },
  {
   "cell_type": "code",
   "execution_count": null,
   "metadata": {},
   "outputs": [],
   "source": [
    "import car\n",
    "import importlib\n",
    "importlib.reload(car)"
   ]
  }
 ],
 "metadata": {
  "interpreter": {
   "hash": "c511a689884ea87b05d7e6308bcd3bc07b8326d80ebf1c46c0d8c6a4a82d4d0a"
  },
  "kernelspec": {
   "display_name": "Python 3.10.2 64-bit",
   "language": "python",
   "name": "python3"
  },
  "language_info": {
   "codemirror_mode": {
    "name": "ipython",
    "version": 3
   },
   "file_extension": ".py",
   "mimetype": "text/x-python",
   "name": "python",
   "nbconvert_exporter": "python",
   "pygments_lexer": "ipython3",
   "version": "3.10.2"
  },
  "orig_nbformat": 4
 },
 "nbformat": 4,
 "nbformat_minor": 2
}
