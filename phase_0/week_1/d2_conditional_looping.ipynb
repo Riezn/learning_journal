{
 "cells": [
  {
   "cell_type": "markdown",
   "metadata": {},
   "source": [
    "Print Variabel"
   ]
  },
  {
   "cell_type": "code",
   "execution_count": 9,
   "metadata": {},
   "outputs": [
    {
     "name": "stdout",
     "output_type": "stream",
     "text": [
      "15 lebih besar dari 10\n",
      "15 lebih besar dari 10\n"
     ]
    }
   ],
   "source": [
    "x = 15\n",
    "y = \"10\"\n",
    "txt = \"{} lebih besar dari {}\"\n",
    "print(f\"{x} lebih besar dari {y}\")\n",
    "print(txt.format(x,y))"
   ]
  },
  {
   "cell_type": "markdown",
   "metadata": {},
   "source": [
    "IF"
   ]
  },
  {
   "cell_type": "code",
   "execution_count": 4,
   "metadata": {},
   "outputs": [
    {
     "name": "stdout",
     "output_type": "stream",
     "text": [
      "2 angka genap\n"
     ]
    }
   ],
   "source": [
    "angka = 2\n",
    "if angka % 2 == 0:\n",
    "    print(f\"{angka} angka genap\")\n",
    "else:\n",
    "    print(f\"{angka} angka ganjil\")"
   ]
  },
  {
   "cell_type": "markdown",
   "metadata": {},
   "source": [
    "ELIF"
   ]
  },
  {
   "cell_type": "code",
   "execution_count": 6,
   "metadata": {},
   "outputs": [
    {
     "name": "stdout",
     "output_type": "stream",
     "text": [
      "9 lebih kecil dari 10\n",
      "10 sama dengan 10\n",
      "11 lebih besar dari 10\n",
      "12 lebih besar dari 10\n"
     ]
    }
   ],
   "source": [
    "list = [9, 10, 11, 12]\n",
    "for angka in list:\n",
    "    if angka > 10:\n",
    "        print(f'{angka} lebih besar dari 10')\n",
    "    elif angka == 10:\n",
    "        print(f'{angka} sama dengan 10')\n",
    "    else:\n",
    "        print(f'{angka} lebih kecil dari 10')"
   ]
  },
  {
   "cell_type": "markdown",
   "metadata": {},
   "source": [
    "IF IN"
   ]
  },
  {
   "cell_type": "code",
   "execution_count": 8,
   "metadata": {},
   "outputs": [
    {
     "name": "stdout",
     "output_type": "stream",
     "text": [
      "8 tidak ada di dalam list\n"
     ]
    }
   ],
   "source": [
    "list = [9, 10, 11, 12]\n",
    "angka2 = 8\n",
    "if angka2 in list:\n",
    "    print(f'{angka2} ada di dalam list')\n",
    "else:\n",
    "    print(f'{angka2} tidak ada di dalam list')"
   ]
  },
  {
   "cell_type": "markdown",
   "metadata": {},
   "source": [
    "NESTED IF, LIST LEN"
   ]
  },
  {
   "cell_type": "code",
   "execution_count": 2,
   "metadata": {},
   "outputs": [
    {
     "name": "stdout",
     "output_type": "stream",
     "text": [
      "cuma lewat\n"
     ]
    }
   ],
   "source": [
    "buah = ['jeruk', 'rambutan', 'apel', 'mangga']\n",
    "\n",
    "if len(buah) > 3:\n",
    "    if 'durian' in buah:\n",
    "        print('beli durian')\n",
    "    else:\n",
    "        print('cuma lewat')\n",
    "else:\n",
    "    print('ragu')"
   ]
  },
  {
   "cell_type": "markdown",
   "metadata": {},
   "source": [
    "Exercise"
   ]
  },
  {
   "cell_type": "code",
   "execution_count": 31,
   "metadata": {},
   "outputs": [
    {
     "name": "stdout",
     "output_type": "stream",
     "text": [
      "C\n"
     ]
    }
   ],
   "source": [
    "nilai = 50\n",
    "\n",
    "if nilai > 100 or nilai < 0:\n",
    "    print(\"Invalid\")\n",
    "elif nilai >= 80:\n",
    "    print(\"A\")\n",
    "elif nilai >= 65:\n",
    "    print(\"B\")\n",
    "elif nilai >= 40:\n",
    "    print(\"C\")\n",
    "elif nilai >= 20:\n",
    "    print(\"D\")\n",
    "else:\n",
    "    print(\"E\")"
   ]
  },
  {
   "cell_type": "code",
   "execution_count": 38,
   "metadata": {},
   "outputs": [
    {
     "name": "stdout",
     "output_type": "stream",
     "text": [
      "100\n",
      "A\n"
     ]
    }
   ],
   "source": [
    "nilai = input(\"Masukkan nilai: \")\n",
    "print(nilai)\n",
    "nilai = float(nilai)\n",
    "if nilai > 100 or nilai < 0:\n",
    "    print(\"Invalid\")\n",
    "else:\n",
    "    if nilai >= 80:\n",
    "        print(\"A\")\n",
    "    elif nilai >= 65:\n",
    "        print(\"B\")\n",
    "    elif nilai >= 40:\n",
    "        print(\"C\")\n",
    "    elif nilai >= 20:\n",
    "        print(\"D\")\n",
    "    else:\n",
    "        print(\"E\")"
   ]
  },
  {
   "cell_type": "markdown",
   "metadata": {},
   "source": [
    "LOOP"
   ]
  },
  {
   "cell_type": "code",
   "execution_count": 8,
   "metadata": {},
   "outputs": [
    {
     "name": "stdout",
     "output_type": "stream",
     "text": [
      "[]\n"
     ]
    }
   ],
   "source": [
    "pesanan = []\n",
    "pesan = ''\n",
    "while pesan != 'Cukup':\n",
    "    pesan = input(\"Masukkan pesanan anda: \")\n",
    "    pesan = pesan.capitalize()\n",
    "    if pesan != 'Cukup':\n",
    "        pesanan.append(pesan)\n",
    "print(pesanan)"
   ]
  },
  {
   "cell_type": "code",
   "execution_count": 10,
   "metadata": {},
   "outputs": [
    {
     "name": "stdout",
     "output_type": "stream",
     "text": [
      "7 kali 0 = 0\n",
      "7 kali 1 = 7\n",
      "7 kali 2 = 14\n",
      "7 kali 3 = 21\n",
      "7 kali 4 = 28\n",
      "7 kali 5 = 35\n",
      "7 kali 6 = 42\n",
      "7 kali 7 = 49\n",
      "7 kali 8 = 56\n",
      "7 kali 9 = 63\n",
      "7 kali 10 = 70\n"
     ]
    }
   ],
   "source": [
    "i = 0\n",
    "while i <= 10:\n",
    "    print(f'7 kali {i} = {7*i}')\n",
    "    i+=1"
   ]
  },
  {
   "cell_type": "markdown",
   "metadata": {},
   "source": [
    "NESTED WHILE"
   ]
  },
  {
   "cell_type": "code",
   "execution_count": 16,
   "metadata": {},
   "outputs": [
    {
     "name": "stdout",
     "output_type": "stream",
     "text": [
      "0 kali 0 = 0\n",
      "0 kali 1 = 0\n",
      "0 kali 2 = 0\n",
      "0 kali 3 = 0\n",
      "0 kali 4 = 0\n",
      "0 kali 5 = 0\n",
      "0 kali 6 = 0\n",
      "0 kali 7 = 0\n",
      "0 kali 8 = 0\n",
      "0 kali 9 = 0\n",
      "0 kali 10 = 0\n",
      "\n",
      "1 kali 0 = 0\n",
      "1 kali 1 = 1\n",
      "1 kali 2 = 2\n",
      "1 kali 3 = 3\n",
      "1 kali 4 = 4\n",
      "1 kali 5 = 5\n",
      "1 kali 6 = 6\n",
      "1 kali 7 = 7\n",
      "1 kali 8 = 8\n",
      "1 kali 9 = 9\n",
      "1 kali 10 = 10\n",
      "*\n",
      "2 kali 0 = 0\n",
      "2 kali 1 = 2\n",
      "2 kali 2 = 4\n",
      "2 kali 3 = 6\n",
      "2 kali 4 = 8\n",
      "2 kali 5 = 10\n",
      "2 kali 6 = 12\n",
      "2 kali 7 = 14\n",
      "2 kali 8 = 16\n",
      "2 kali 9 = 18\n",
      "2 kali 10 = 20\n",
      "**\n",
      "3 kali 0 = 0\n",
      "3 kali 1 = 3\n",
      "3 kali 2 = 6\n",
      "3 kali 3 = 9\n",
      "3 kali 4 = 12\n",
      "3 kali 5 = 15\n",
      "3 kali 6 = 18\n",
      "3 kali 7 = 21\n",
      "3 kali 8 = 24\n",
      "3 kali 9 = 27\n",
      "3 kali 10 = 30\n",
      "***\n",
      "4 kali 0 = 0\n",
      "4 kali 1 = 4\n",
      "4 kali 2 = 8\n",
      "4 kali 3 = 12\n",
      "4 kali 4 = 16\n",
      "4 kali 5 = 20\n",
      "4 kali 6 = 24\n",
      "4 kali 7 = 28\n",
      "4 kali 8 = 32\n",
      "4 kali 9 = 36\n",
      "4 kali 10 = 40\n",
      "****\n",
      "5 kali 0 = 0\n",
      "5 kali 1 = 5\n",
      "5 kali 2 = 10\n",
      "5 kali 3 = 15\n",
      "5 kali 4 = 20\n",
      "5 kali 5 = 25\n",
      "5 kali 6 = 30\n",
      "5 kali 7 = 35\n",
      "5 kali 8 = 40\n",
      "5 kali 9 = 45\n",
      "5 kali 10 = 50\n",
      "*****\n",
      "6 kali 0 = 0\n",
      "6 kali 1 = 6\n",
      "6 kali 2 = 12\n",
      "6 kali 3 = 18\n",
      "6 kali 4 = 24\n",
      "6 kali 5 = 30\n",
      "6 kali 6 = 36\n",
      "6 kali 7 = 42\n",
      "6 kali 8 = 48\n",
      "6 kali 9 = 54\n",
      "6 kali 10 = 60\n",
      "******\n",
      "7 kali 0 = 0\n",
      "7 kali 1 = 7\n",
      "7 kali 2 = 14\n",
      "7 kali 3 = 21\n",
      "7 kali 4 = 28\n",
      "7 kali 5 = 35\n",
      "7 kali 6 = 42\n",
      "7 kali 7 = 49\n",
      "7 kali 8 = 56\n",
      "7 kali 9 = 63\n",
      "7 kali 10 = 70\n",
      "*******\n",
      "8 kali 0 = 0\n",
      "8 kali 1 = 8\n",
      "8 kali 2 = 16\n",
      "8 kali 3 = 24\n",
      "8 kali 4 = 32\n",
      "8 kali 5 = 40\n",
      "8 kali 6 = 48\n",
      "8 kali 7 = 56\n",
      "8 kali 8 = 64\n",
      "8 kali 9 = 72\n",
      "8 kali 10 = 80\n",
      "********\n",
      "9 kali 0 = 0\n",
      "9 kali 1 = 9\n",
      "9 kali 2 = 18\n",
      "9 kali 3 = 27\n",
      "9 kali 4 = 36\n",
      "9 kali 5 = 45\n",
      "9 kali 6 = 54\n",
      "9 kali 7 = 63\n",
      "9 kali 8 = 72\n",
      "9 kali 9 = 81\n",
      "9 kali 10 = 90\n",
      "*********\n",
      "10 kali 0 = 0\n",
      "10 kali 1 = 10\n",
      "10 kali 2 = 20\n",
      "10 kali 3 = 30\n",
      "10 kali 4 = 40\n",
      "10 kali 5 = 50\n",
      "10 kali 6 = 60\n",
      "10 kali 7 = 70\n",
      "10 kali 8 = 80\n",
      "10 kali 9 = 90\n",
      "10 kali 10 = 100\n",
      "**********\n"
     ]
    }
   ],
   "source": [
    "i = 0\n",
    "j = 0\n",
    "while i<= 10:\n",
    "    while j <= 10:\n",
    "        print(f'{i} kali {j} = {i*j}')\n",
    "        j+=1\n",
    "    print(\"*\"*i)\n",
    "    i+=1\n",
    "    j = 0"
   ]
  },
  {
   "cell_type": "markdown",
   "metadata": {},
   "source": [
    "FOR LOOP"
   ]
  },
  {
   "cell_type": "code",
   "execution_count": 9,
   "metadata": {},
   "outputs": [
    {
     "name": "stdout",
     "output_type": "stream",
     "text": [
      "['jeruk', 'rambutan', 'apel', 'mangga']\n",
      "jeruk\n",
      "rambutan\n",
      "apel\n",
      "mangga\n"
     ]
    }
   ],
   "source": [
    "print(buah)\n",
    "\n",
    "isi_list = [0,1,2,3]\n",
    "\n",
    "for i in isi_list:\n",
    "    print(f'{buah[i]}')"
   ]
  },
  {
   "cell_type": "markdown",
   "metadata": {},
   "source": [
    "RANGE"
   ]
  },
  {
   "cell_type": "code",
   "execution_count": 12,
   "metadata": {},
   "outputs": [
    {
     "data": {
      "text/plain": [
       "[1, 2, 3, 4, 5, 6, 7, 8, 9]"
      ]
     },
     "execution_count": 12,
     "metadata": {},
     "output_type": "execute_result"
    }
   ],
   "source": [
    "list(range(1,10,1))"
   ]
  },
  {
   "cell_type": "code",
   "execution_count": 13,
   "metadata": {},
   "outputs": [
    {
     "name": "stdout",
     "output_type": "stream",
     "text": [
      "['jeruk', 'rambutan', 'apel', 'mangga']\n",
      "jeruk\n",
      "rambutan\n",
      "apel\n",
      "mangga\n"
     ]
    }
   ],
   "source": [
    "print(buah)\n",
    "\n",
    "for i in range(len(buah)):\n",
    "    print(f'{buah[i]}')"
   ]
  },
  {
   "cell_type": "markdown",
   "metadata": {},
   "source": [
    "FOR VS WHILE"
   ]
  },
  {
   "cell_type": "code",
   "execution_count": null,
   "metadata": {},
   "outputs": [],
   "source": [
    "## While\n",
    "i = 0\n",
    "j = 0\n",
    "while i<= 10:\n",
    "    while j <= 10:\n",
    "        print(f'{i} kali {j} = {i*j}')\n",
    "        j+=1\n",
    "    print(\"*\"*i)\n",
    "    i+=1\n",
    "    j = 0"
   ]
  },
  {
   "cell_type": "code",
   "execution_count": 15,
   "metadata": {},
   "outputs": [
    {
     "name": "stdout",
     "output_type": "stream",
     "text": [
      "0 kali 0 = 0\n",
      "0 kali 1 = 0\n",
      "0 kali 2 = 0\n",
      "0 kali 3 = 0\n",
      "0 kali 4 = 0\n",
      "0 kali 5 = 0\n",
      "0 kali 6 = 0\n",
      "0 kali 7 = 0\n",
      "0 kali 8 = 0\n",
      "0 kali 9 = 0\n",
      "0 kali 10 = 0\n",
      "\n",
      "1 kali 0 = 0\n",
      "1 kali 1 = 1\n",
      "1 kali 2 = 2\n",
      "1 kali 3 = 3\n",
      "1 kali 4 = 4\n",
      "1 kali 5 = 5\n",
      "1 kali 6 = 6\n",
      "1 kali 7 = 7\n",
      "1 kali 8 = 8\n",
      "1 kali 9 = 9\n",
      "1 kali 10 = 10\n",
      "*\n",
      "2 kali 0 = 0\n",
      "2 kali 1 = 2\n",
      "2 kali 2 = 4\n",
      "2 kali 3 = 6\n",
      "2 kali 4 = 8\n",
      "2 kali 5 = 10\n",
      "2 kali 6 = 12\n",
      "2 kali 7 = 14\n",
      "2 kali 8 = 16\n",
      "2 kali 9 = 18\n",
      "2 kali 10 = 20\n",
      "**\n",
      "3 kali 0 = 0\n",
      "3 kali 1 = 3\n",
      "3 kali 2 = 6\n",
      "3 kali 3 = 9\n",
      "3 kali 4 = 12\n",
      "3 kali 5 = 15\n",
      "3 kali 6 = 18\n",
      "3 kali 7 = 21\n",
      "3 kali 8 = 24\n",
      "3 kali 9 = 27\n",
      "3 kali 10 = 30\n",
      "***\n",
      "4 kali 0 = 0\n",
      "4 kali 1 = 4\n",
      "4 kali 2 = 8\n",
      "4 kali 3 = 12\n",
      "4 kali 4 = 16\n",
      "4 kali 5 = 20\n",
      "4 kali 6 = 24\n",
      "4 kali 7 = 28\n",
      "4 kali 8 = 32\n",
      "4 kali 9 = 36\n",
      "4 kali 10 = 40\n",
      "****\n",
      "5 kali 0 = 0\n",
      "5 kali 1 = 5\n",
      "5 kali 2 = 10\n",
      "5 kali 3 = 15\n",
      "5 kali 4 = 20\n",
      "5 kali 5 = 25\n",
      "5 kali 6 = 30\n",
      "5 kali 7 = 35\n",
      "5 kali 8 = 40\n",
      "5 kali 9 = 45\n",
      "5 kali 10 = 50\n",
      "*****\n",
      "6 kali 0 = 0\n",
      "6 kali 1 = 6\n",
      "6 kali 2 = 12\n",
      "6 kali 3 = 18\n",
      "6 kali 4 = 24\n",
      "6 kali 5 = 30\n",
      "6 kali 6 = 36\n",
      "6 kali 7 = 42\n",
      "6 kali 8 = 48\n",
      "6 kali 9 = 54\n",
      "6 kali 10 = 60\n",
      "******\n",
      "7 kali 0 = 0\n",
      "7 kali 1 = 7\n",
      "7 kali 2 = 14\n",
      "7 kali 3 = 21\n",
      "7 kali 4 = 28\n",
      "7 kali 5 = 35\n",
      "7 kali 6 = 42\n",
      "7 kali 7 = 49\n",
      "7 kali 8 = 56\n",
      "7 kali 9 = 63\n",
      "7 kali 10 = 70\n",
      "*******\n",
      "8 kali 0 = 0\n",
      "8 kali 1 = 8\n",
      "8 kali 2 = 16\n",
      "8 kali 3 = 24\n",
      "8 kali 4 = 32\n",
      "8 kali 5 = 40\n",
      "8 kali 6 = 48\n",
      "8 kali 7 = 56\n",
      "8 kali 8 = 64\n",
      "8 kali 9 = 72\n",
      "8 kali 10 = 80\n",
      "********\n",
      "9 kali 0 = 0\n",
      "9 kali 1 = 9\n",
      "9 kali 2 = 18\n",
      "9 kali 3 = 27\n",
      "9 kali 4 = 36\n",
      "9 kali 5 = 45\n",
      "9 kali 6 = 54\n",
      "9 kali 7 = 63\n",
      "9 kali 8 = 72\n",
      "9 kali 9 = 81\n",
      "9 kali 10 = 90\n",
      "*********\n",
      "10 kali 0 = 0\n",
      "10 kali 1 = 10\n",
      "10 kali 2 = 20\n",
      "10 kali 3 = 30\n",
      "10 kali 4 = 40\n",
      "10 kali 5 = 50\n",
      "10 kali 6 = 60\n",
      "10 kali 7 = 70\n",
      "10 kali 8 = 80\n",
      "10 kali 9 = 90\n",
      "10 kali 10 = 100\n",
      "**********\n"
     ]
    }
   ],
   "source": [
    "## For\n",
    "i= 0\n",
    "j = 0\n",
    "for i in range(0,11):\n",
    "    for j in range(0,11):\n",
    "        print(f'{i} kali {j} = {i*j}')\n",
    "    print('*'*i)\n"
   ]
  }
 ],
 "metadata": {
  "interpreter": {
   "hash": "c511a689884ea87b05d7e6308bcd3bc07b8326d80ebf1c46c0d8c6a4a82d4d0a"
  },
  "kernelspec": {
   "display_name": "Python 3.10.2 64-bit",
   "language": "python",
   "name": "python3"
  },
  "language_info": {
   "codemirror_mode": {
    "name": "ipython",
    "version": 3
   },
   "file_extension": ".py",
   "mimetype": "text/x-python",
   "name": "python",
   "nbconvert_exporter": "python",
   "pygments_lexer": "ipython3",
   "version": "3.10.2"
  },
  "orig_nbformat": 4
 },
 "nbformat": 4,
 "nbformat_minor": 2
}
