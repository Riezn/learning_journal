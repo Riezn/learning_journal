{
 "cells": [
  {
   "cell_type": "markdown",
   "metadata": {},
   "source": [
    "Numpy"
   ]
  },
  {
   "cell_type": "code",
   "execution_count": 4,
   "metadata": {},
   "outputs": [],
   "source": [
    "import numpy as np"
   ]
  },
  {
   "cell_type": "code",
   "execution_count": 5,
   "metadata": {},
   "outputs": [
    {
     "data": {
      "text/plain": [
       "array([1, 2, 4])"
      ]
     },
     "execution_count": 5,
     "metadata": {},
     "output_type": "execute_result"
    }
   ],
   "source": [
    "a = np.array([1,2,4])\n",
    "a"
   ]
  },
  {
   "cell_type": "code",
   "execution_count": 6,
   "metadata": {},
   "outputs": [
    {
     "name": "stdout",
     "output_type": "stream",
     "text": [
      "[38.52941176 37.33333333 29.6       ]\n",
      "[38.53 37.33 29.6 ]\n",
      "[38.53 37.33 29.6 ]\n"
     ]
    }
   ],
   "source": [
    "tinggi = [1.7, 1.8, 2.0]\n",
    "berat = [65.5, 67.2, 59.2]\n",
    "np_tinggi = np.array(tinggi)\n",
    "np_berat = np.array(berat)\n",
    "\n",
    "#berat/tinggi akan error kalau belum jadi np.array\n",
    "print(np_berat/np_tinggi)\n",
    "print(np.around(np_berat/np_tinggi,decimals=2))\n",
    "print(np.round(np_berat/np_tinggi,2))\n"
   ]
  },
  {
   "cell_type": "markdown",
   "metadata": {},
   "source": [
    "Range"
   ]
  },
  {
   "cell_type": "code",
   "execution_count": 7,
   "metadata": {},
   "outputs": [
    {
     "name": "stdout",
     "output_type": "stream",
     "text": [
      "[0 1 2 2 1 0]\n"
     ]
    },
    {
     "data": {
      "text/plain": [
       "array([0, 1, 2, 2, 1, 0])"
      ]
     },
     "execution_count": 7,
     "metadata": {},
     "output_type": "execute_result"
    }
   ],
   "source": [
    "ar = np.arange(3)\n",
    "pr = list(range(1,4,1))\n",
    "arr = np.append(ar,np.flip(ar))\n",
    "print(arr)\n",
    "arr"
   ]
  },
  {
   "cell_type": "code",
   "execution_count": 8,
   "metadata": {},
   "outputs": [
    {
     "data": {
      "text/plain": [
       "array([2, 2, 1, 1, 0, 0])"
      ]
     },
     "execution_count": 8,
     "metadata": {},
     "output_type": "execute_result"
    }
   ],
   "source": [
    "np.sort(arr)\n",
    "np.flip(np.sort(arr))"
   ]
  },
  {
   "cell_type": "markdown",
   "metadata": {},
   "source": [
    "Skalar - 0 Dimensi"
   ]
  },
  {
   "cell_type": "code",
   "execution_count": 9,
   "metadata": {},
   "outputs": [
    {
     "name": "stdout",
     "output_type": "stream",
     "text": [
      "4\n",
      "()\n",
      "0\n"
     ]
    },
    {
     "data": {
      "text/plain": [
       "1"
      ]
     },
     "execution_count": 9,
     "metadata": {},
     "output_type": "execute_result"
    }
   ],
   "source": [
    "zerodim = np.array(4)\n",
    "print(zerodim)\n",
    "print(zerodim.shape)\n",
    "print(zerodim.ndim)\n",
    "zerodim.size"
   ]
  },
  {
   "cell_type": "markdown",
   "metadata": {},
   "source": [
    "Vektor - 1 Dimensi"
   ]
  },
  {
   "cell_type": "code",
   "execution_count": 10,
   "metadata": {},
   "outputs": [
    {
     "name": "stdout",
     "output_type": "stream",
     "text": [
      "[0 1 2]\n",
      "(3,)\n",
      "1\n"
     ]
    },
    {
     "data": {
      "text/plain": [
       "3"
      ]
     },
     "execution_count": 10,
     "metadata": {},
     "output_type": "execute_result"
    }
   ],
   "source": [
    "onedim = ar.copy()\n",
    "print(onedim)\n",
    "print(onedim.shape)\n",
    "print(onedim.ndim)\n",
    "onedim.size"
   ]
  },
  {
   "cell_type": "markdown",
   "metadata": {},
   "source": [
    "Matriks - 2 Dimensi"
   ]
  },
  {
   "cell_type": "code",
   "execution_count": 11,
   "metadata": {},
   "outputs": [
    {
     "name": "stdout",
     "output_type": "stream",
     "text": [
      "[[[0 1 2]]\n",
      "\n",
      " [[0 1 2]]]\n",
      "(2, 1, 3)\n",
      "3\n"
     ]
    },
    {
     "data": {
      "text/plain": [
       "6"
      ]
     },
     "execution_count": 11,
     "metadata": {},
     "output_type": "execute_result"
    }
   ],
   "source": [
    "twodim = np.array([[ar],[ar]])\n",
    "print(twodim)\n",
    "print(twodim.shape)\n",
    "print(twodim.ndim)\n",
    "twodim.size"
   ]
  },
  {
   "cell_type": "markdown",
   "metadata": {},
   "source": [
    "3 Dimensi -> 332 -> 3 baris terluar -> 3 baris di dalam -> 2 elemen di dalam"
   ]
  },
  {
   "cell_type": "code",
   "execution_count": 12,
   "metadata": {},
   "outputs": [
    {
     "name": "stdout",
     "output_type": "stream",
     "text": [
      "[[1 1]\n",
      " [1 1]\n",
      " [1 1]\n",
      " [2 2]\n",
      " [2 2]\n",
      " [2 2]\n",
      " [3 3]\n",
      " [3 3]\n",
      " [3 3]]\n"
     ]
    }
   ],
   "source": [
    "threedim = np.array([[1,1],[1,1],[1,1],[2,2],[2,2],[2,2],[3,3],[3,3],[3,3]])\n",
    "print(threedim)\n",
    "#threedim = threedim.reshape(3,2,3)\n",
    "#print(threedim)\n",
    "#print(threedim.shape)\n",
    "#print(threedim.ndim)"
   ]
  },
  {
   "cell_type": "code",
   "execution_count": 13,
   "metadata": {},
   "outputs": [
    {
     "name": "stdout",
     "output_type": "stream",
     "text": [
      "[[[1 1]\n",
      "  [1 1]\n",
      "  [1 1]]\n",
      "\n",
      " [[2 2]\n",
      "  [2 2]\n",
      "  [2 2]]\n",
      "\n",
      " [[3 3]\n",
      "  [3 3]\n",
      "  [3 3]]]\n",
      "(3, 3, 2)\n",
      "3\n"
     ]
    },
    {
     "data": {
      "text/plain": [
       "18"
      ]
     },
     "execution_count": 13,
     "metadata": {},
     "output_type": "execute_result"
    }
   ],
   "source": [
    "threedim332 = threedim.reshape(3,3,2)\n",
    "print(threedim332)\n",
    "print(threedim332.shape)\n",
    "print(threedim332.ndim)\n",
    "threedim332.size"
   ]
  },
  {
   "cell_type": "code",
   "execution_count": 14,
   "metadata": {},
   "outputs": [
    {
     "name": "stdout",
     "output_type": "stream",
     "text": [
      "[[[1 1 1]\n",
      "  [1 1 1]]\n",
      "\n",
      " [[2 2 2]\n",
      "  [2 2 2]]\n",
      "\n",
      " [[3 3 3]\n",
      "  [3 3 3]]]\n",
      "(3, 2, 3)\n",
      "3\n"
     ]
    }
   ],
   "source": [
    "threedim323 = threedim.reshape(3,2,3)\n",
    "print(threedim323)\n",
    "print(threedim323.shape)\n",
    "print(threedim323.ndim)"
   ]
  },
  {
   "cell_type": "code",
   "execution_count": 15,
   "metadata": {},
   "outputs": [
    {
     "name": "stdout",
     "output_type": "stream",
     "text": [
      "[[[1 1 1]\n",
      "  [1 1 1]\n",
      "  [2 2 2]]\n",
      "\n",
      " [[2 2 2]\n",
      "  [3 3 3]\n",
      "  [3 3 3]]]\n",
      "(2, 3, 3)\n",
      "3\n"
     ]
    }
   ],
   "source": [
    "threedim233 = threedim.reshape(2,3,3)\n",
    "print(threedim233)\n",
    "print(threedim233.shape)\n",
    "print(threedim233.ndim)"
   ]
  },
  {
   "cell_type": "markdown",
   "metadata": {},
   "source": [
    "Reshape"
   ]
  },
  {
   "cell_type": "code",
   "execution_count": 16,
   "metadata": {},
   "outputs": [
    {
     "name": "stdout",
     "output_type": "stream",
     "text": [
      "[0 1 2 3 4 5]\n"
     ]
    }
   ],
   "source": [
    "c = np.arange(6)\n",
    "print(c)"
   ]
  },
  {
   "cell_type": "code",
   "execution_count": 17,
   "metadata": {},
   "outputs": [
    {
     "name": "stdout",
     "output_type": "stream",
     "text": [
      "matriks 3x2: \n",
      "[[0 1]\n",
      " [2 3]\n",
      " [4 5]]\n",
      "matriks 2x3: \n",
      "[[0 1 2]\n",
      " [3 4 5]]\n"
     ]
    }
   ],
   "source": [
    "matriks32 = c.reshape(3,2)\n",
    "print(f'matriks 3x2: \\n{matriks32}')\n",
    "\n",
    "matriks23 = c.reshape(2,3)\n",
    "print(f'matriks 2x3: \\n{matriks23}')\n"
   ]
  },
  {
   "cell_type": "code",
   "execution_count": 18,
   "metadata": {},
   "outputs": [
    {
     "name": "stdout",
     "output_type": "stream",
     "text": [
      "[[[ 0]\n",
      "  [ 1]\n",
      "  [ 2]]\n",
      "\n",
      " [[ 3]\n",
      "  [ 4]\n",
      "  [ 5]]\n",
      "\n",
      " [[ 6]\n",
      "  [ 7]\n",
      "  [ 8]]\n",
      "\n",
      " [[ 9]\n",
      "  [10]\n",
      "  [11]]]\n"
     ]
    },
    {
     "data": {
      "text/plain": [
       "array([[[ 0,  1,  2,  3,  4,  5,  6,  7,  8,  9, 10, 11]]])"
      ]
     },
     "execution_count": 18,
     "metadata": {},
     "output_type": "execute_result"
    }
   ],
   "source": [
    "newvec = np.arange(0,12,1)\n",
    "print(newvec.reshape(4,3,1))\n",
    "newvec.reshape(1,1,12)"
   ]
  },
  {
   "cell_type": "markdown",
   "metadata": {},
   "source": [
    "Expand Row vs Column"
   ]
  },
  {
   "cell_type": "code",
   "execution_count": 19,
   "metadata": {},
   "outputs": [
    {
     "name": "stdout",
     "output_type": "stream",
     "text": [
      "[1 2 3 4 5 6]\n"
     ]
    }
   ],
   "source": [
    "a = np.array([1, 2, 3, 4, 5, 6])\n",
    "print(a)"
   ]
  },
  {
   "cell_type": "code",
   "execution_count": 20,
   "metadata": {},
   "outputs": [
    {
     "name": "stdout",
     "output_type": "stream",
     "text": [
      "(1, 6)\n",
      "[[1 2 3 4 5 6]]\n"
     ]
    }
   ],
   "source": [
    "# You can use np.newaxis to add a new axis:\n",
    "\n",
    "a2 = a[np.newaxis]\n",
    "print(a2.shape)\n",
    "print(a2)"
   ]
  },
  {
   "cell_type": "markdown",
   "metadata": {},
   "source": [
    "Row"
   ]
  },
  {
   "cell_type": "code",
   "execution_count": 21,
   "metadata": {},
   "outputs": [
    {
     "name": "stdout",
     "output_type": "stream",
     "text": [
      "(1, 6)\n",
      "[[1 2 3 4 5 6]]\n",
      "[[1 2 3]\n",
      " [4 5 6]]\n"
     ]
    }
   ],
   "source": [
    "row_vector = a[np.newaxis, :]\n",
    "print(row_vector.shape)\n",
    "print(row_vector)\n",
    "\n",
    "print(a.reshape(2,3))"
   ]
  },
  {
   "cell_type": "markdown",
   "metadata": {},
   "source": [
    "Column"
   ]
  },
  {
   "cell_type": "code",
   "execution_count": 22,
   "metadata": {},
   "outputs": [
    {
     "name": "stdout",
     "output_type": "stream",
     "text": [
      "(6, 1)\n",
      "[[1]\n",
      " [2]\n",
      " [3]\n",
      " [4]\n",
      " [5]\n",
      " [6]]\n"
     ]
    }
   ],
   "source": [
    "col_vector = a[:, np.newaxis]\n",
    "print(col_vector.shape)\n",
    "print(col_vector)"
   ]
  },
  {
   "cell_type": "code",
   "execution_count": 23,
   "metadata": {},
   "outputs": [
    {
     "name": "stdout",
     "output_type": "stream",
     "text": [
      "[ 1  2  3  4  5  6  7  8  9 10 11 12]\n",
      "1\n",
      "(1, 12)\n",
      "d\n",
      " [[ 1  2  3  4  5  6  7  8  9 10 11 12]] \n",
      " (1, 12)\n",
      "e\n",
      " [[ 1]\n",
      " [ 2]\n",
      " [ 3]\n",
      " [ 4]\n",
      " [ 5]\n",
      " [ 6]\n",
      " [ 7]\n",
      " [ 8]\n",
      " [ 9]\n",
      " [10]\n",
      " [11]\n",
      " [12]] \n",
      " (12, 1)\n"
     ]
    }
   ],
   "source": [
    "a = np.array([1, 2, 3, 4, 5, 6])\n",
    "b=np.arange(7,13,1)\n",
    "ab = np.append(a,b)\n",
    "#abc = ab.reshape(2,2,3)\n",
    "print(ab)\n",
    "d=np.expand_dims(ab,axis=0)\n",
    "print(d.shape[0])\n",
    "print(d.shape)\n",
    "e=np.expand_dims(ab,axis=1)\n",
    "print('d\\n',d,'\\n',np.shape(d))\n",
    "print('e\\n',e,'\\n',np.shape(e))"
   ]
  },
  {
   "cell_type": "markdown",
   "metadata": {},
   "source": [
    "Bacaan lanjutan Axis\n",
    "https://www.sharpsightlabs.com/blog/numpy-axes-explained/"
   ]
  },
  {
   "cell_type": "markdown",
   "metadata": {},
   "source": [
    "Expand n_dims"
   ]
  },
  {
   "cell_type": "code",
   "execution_count": 24,
   "metadata": {},
   "outputs": [
    {
     "name": "stdout",
     "output_type": "stream",
     "text": [
      "[1 2 3 4 5 6]\n"
     ]
    }
   ],
   "source": [
    "a = np.array([1, 2, 3, 4, 5, 6])\n",
    "a.shape\n",
    "print(a)"
   ]
  },
  {
   "cell_type": "code",
   "execution_count": 25,
   "metadata": {},
   "outputs": [
    {
     "name": "stdout",
     "output_type": "stream",
     "text": [
      "[[1]\n",
      " [2]\n",
      " [3]\n",
      " [4]\n",
      " [5]\n",
      " [6]]\n"
     ]
    }
   ],
   "source": [
    "# You can use np.expand_dims to add an axis at index position 1 with:\n",
    "\n",
    "b = np.expand_dims(a, axis=1)\n",
    "b.shape\n",
    "print(b)"
   ]
  },
  {
   "cell_type": "code",
   "execution_count": 26,
   "metadata": {},
   "outputs": [
    {
     "name": "stdout",
     "output_type": "stream",
     "text": [
      "[[1 2 3 4 5 6]]\n"
     ]
    }
   ],
   "source": [
    "# You can add an axis at index position 0 with:\n",
    "\n",
    "c = np.expand_dims(a, axis=0)\n",
    "c.shape\n",
    "print(c)"
   ]
  },
  {
   "cell_type": "markdown",
   "metadata": {},
   "source": [
    "Latihan"
   ]
  },
  {
   "cell_type": "code",
   "execution_count": 27,
   "metadata": {},
   "outputs": [
    {
     "name": "stdout",
     "output_type": "stream",
     "text": [
      "[7]\n",
      "[2 7 9]\n",
      "[7 8 9]\n"
     ]
    }
   ],
   "source": [
    "arr = np.array([2,3,7,8,9])\n",
    "print(arr[2:5:3]) # -> 3 sebagai step\n",
    "print(arr[::2])\n",
    "print(arr[2:5:1])"
   ]
  },
  {
   "cell_type": "code",
   "execution_count": 28,
   "metadata": {},
   "outputs": [
    {
     "name": "stderr",
     "output_type": "stream",
     "text": [
      "C:\\Users\\Judan Syamsul Hadad\\AppData\\Local\\Temp\\ipykernel_16092\\1517445769.py:1: VisibleDeprecationWarning: Creating an ndarray from ragged nested sequences (which is a list-or-tuple of lists-or-tuples-or ndarrays with different lengths or shapes) is deprecated. If you meant to do this, you must specify 'dtype=object' when creating the ndarray.\n",
      "  arr = np.array([[2,3,7,8,9],[1,3,6,8]]) #-> error karena dimensinya ga sama di row kedua kurang 1 elemen\n"
     ]
    },
    {
     "ename": "IndexError",
     "evalue": "too many indices for array: array is 1-dimensional, but 2 were indexed",
     "output_type": "error",
     "traceback": [
      "\u001b[1;31m---------------------------------------------------------------------------\u001b[0m",
      "\u001b[1;31mIndexError\u001b[0m                                Traceback (most recent call last)",
      "\u001b[1;32me:\\hacktiv8\\ftds009\\learning_journal\\phase_0\\week_1\\d3pm_numpy.ipynb Cell 38'\u001b[0m in \u001b[0;36m<module>\u001b[1;34m\u001b[0m\n\u001b[0;32m      <a href='vscode-notebook-cell:/e%3A/hacktiv8/ftds009/learning_journal/phase_0/week_1/d3pm_numpy.ipynb#ch0000036?line=0'>1</a>\u001b[0m arr \u001b[39m=\u001b[39m np\u001b[39m.\u001b[39marray([[\u001b[39m2\u001b[39m,\u001b[39m3\u001b[39m,\u001b[39m7\u001b[39m,\u001b[39m8\u001b[39m,\u001b[39m9\u001b[39m],[\u001b[39m1\u001b[39m,\u001b[39m3\u001b[39m,\u001b[39m6\u001b[39m,\u001b[39m8\u001b[39m]]) \u001b[39m#-> error karena dimensinya ga sama di row kedua kurang 1 elemen\u001b[39;00m\n\u001b[1;32m----> <a href='vscode-notebook-cell:/e%3A/hacktiv8/ftds009/learning_journal/phase_0/week_1/d3pm_numpy.ipynb#ch0000036?line=1'>2</a>\u001b[0m \u001b[39mprint\u001b[39m(arr[\u001b[39m1\u001b[39;49m,\u001b[39m1\u001b[39;49m:\u001b[39m3\u001b[39;49m])\n",
      "\u001b[1;31mIndexError\u001b[0m: too many indices for array: array is 1-dimensional, but 2 were indexed"
     ]
    }
   ],
   "source": [
    "arr = np.array([[2,3,7,8,9],[1,3,6,8]]) #-> error karena dimensinya ga sama di row kedua kurang 1 elemen\n",
    "print(arr[1,1:3])"
   ]
  },
  {
   "cell_type": "code",
   "execution_count": null,
   "metadata": {},
   "outputs": [
    {
     "name": "stdout",
     "output_type": "stream",
     "text": [
      "[3 6]\n"
     ]
    }
   ],
   "source": [
    "arr = np.array([[2,3,7,8,9],[1,3,6,8,7]]) #-> ga error karena dimensinya sama\n",
    "print(arr[1,1:3])"
   ]
  },
  {
   "cell_type": "code",
   "execution_count": null,
   "metadata": {},
   "outputs": [
    {
     "name": "stdout",
     "output_type": "stream",
     "text": [
      "[7 6]\n"
     ]
    }
   ],
   "source": [
    "print(arr[0:2,2]) #ngambil semua 23789 sama 13689, baru ambil elemen ke-1 (2-1)"
   ]
  },
  {
   "cell_type": "code",
   "execution_count": null,
   "metadata": {},
   "outputs": [
    {
     "name": "stdout",
     "output_type": "stream",
     "text": [
      "[[1 3 6 8 7]]\n",
      "[[1 3 6 8 7]]\n",
      "[[2 3 7 8 9]\n",
      " [1 3 6 8 7]]\n",
      "* [[2 3 7 8 9]\n",
      " [1 3 6 8 7]]\n",
      "[2 1]\n",
      "[[2 3 7]\n",
      " [1 3 6]]\n",
      "[[2 7]\n",
      " [1 6]]\n"
     ]
    }
   ],
   "source": [
    "print(arr[1:4])\n",
    "print(arr[1:3]) #sama dengan atas karena isinya cuma dua row, ke-0 dan ke-1\n",
    "\n",
    "print(arr[0:3]) #kepanggil 2-2nya\n",
    "\n",
    "#yang diambil row aja, kalau mau dalamnya harus arr[0:2,x] dengan x elemen yang mau diambil, misal\n",
    "print('*',arr)\n",
    "print(arr[0:2,0])\n",
    "print(arr[0:2,0:3])\n",
    "print(arr[0:2,0:4:2])"
   ]
  },
  {
   "cell_type": "markdown",
   "metadata": {},
   "source": [
    "vstack hstack"
   ]
  },
  {
   "cell_type": "code",
   "execution_count": null,
   "metadata": {},
   "outputs": [
    {
     "name": "stdout",
     "output_type": "stream",
     "text": [
      "[[1 1]\n",
      " [2 2]] \n",
      "*\n",
      "[[3 3]\n",
      " [4 4]]\n"
     ]
    }
   ],
   "source": [
    "a1 = np.array([[1,1],[2,2]])\n",
    "a2 = np.array([[3,3],[4,4]])\n",
    "print(a1,'\\n*')\n",
    "print(a2)"
   ]
  },
  {
   "cell_type": "code",
   "execution_count": null,
   "metadata": {},
   "outputs": [
    {
     "name": "stdout",
     "output_type": "stream",
     "text": [
      "[[1 1 3 3]\n",
      " [2 2 4 4]] \n",
      "*\n",
      "[[1 1]\n",
      " [2 2]\n",
      " [3 3]\n",
      " [4 4]] \n",
      "*\n"
     ]
    }
   ],
   "source": [
    "print(np.hstack((a1,a2)),'\\n*')\n",
    "print(np.vstack((a1,a2)),'\\n*')"
   ]
  },
  {
   "cell_type": "markdown",
   "metadata": {},
   "source": [
    "unknown dim"
   ]
  },
  {
   "cell_type": "code",
   "execution_count": null,
   "metadata": {},
   "outputs": [
    {
     "name": "stdout",
     "output_type": "stream",
     "text": [
      "[[1 1 3 3]\n",
      " [2 2 4 4]\n",
      " [1 1 3 3]\n",
      " [2 2 4 4]]\n",
      "\n",
      "* [[[1 1 3 3]\n",
      "  [2 2 4 4]]\n",
      "\n",
      " [[1 1 3 3]\n",
      "  [2 2 4 4]]]\n"
     ]
    }
   ],
   "source": [
    "new_arr = np.hstack((a1,a2))\n",
    "new_arr = np.vstack((new_arr,new_arr))\n",
    "print(new_arr)\n",
    "new_arr3d = new_arr.reshape(2,2,-1) #otomatis -1 jadi 4 elemen\n",
    "print('\\n*',new_arr3d)"
   ]
  },
  {
   "cell_type": "markdown",
   "metadata": {},
   "source": [
    "Latihan"
   ]
  },
  {
   "cell_type": "code",
   "execution_count": null,
   "metadata": {},
   "outputs": [
    {
     "name": "stdout",
     "output_type": "stream",
     "text": [
      "None\n"
     ]
    }
   ],
   "source": [
    "def convert(fahr):\n",
    "    cels = fahr * 1.8 + 32.0\n",
    "\n",
    "print(convert(32))"
   ]
  },
  {
   "cell_type": "code",
   "execution_count": null,
   "metadata": {},
   "outputs": [
    {
     "name": "stdout",
     "output_type": "stream",
     "text": [
      "Temperature in celsius (C) =  (89.6, (-253, 15))\n"
     ]
    },
    {
     "data": {
      "text/plain": [
       "(-253, 15)"
      ]
     },
     "execution_count": 224,
     "metadata": {},
     "output_type": "execute_result"
    }
   ],
   "source": [
    "def convert(fahr,kelv):\n",
    "    cels = fahr * 1.8 + 32.0\n",
    "    cels2 = kelv - 273,15\n",
    "    return cels, cels2\n",
    "print(\"Temperature in celsius (C) = \",convert(32,20))\n",
    "ctemp = convert(32,20)\n",
    "ctemp[0]\n",
    "ctemp[1]\n",
    "ctemp[1]"
   ]
  },
  {
   "cell_type": "code",
   "execution_count": null,
   "metadata": {},
   "outputs": [
    {
     "name": "stdout",
     "output_type": "stream",
     "text": [
      "[72, 295.3722222222222, 22.22222222222222]\n"
     ]
    },
    {
     "data": {
      "text/plain": [
       "list"
      ]
     },
     "execution_count": 227,
     "metadata": {},
     "output_type": "execute_result"
    }
   ],
   "source": [
    "def temp_converter(ftemp):\n",
    "    ctemp = (ftemp-32)*(5/9)\n",
    "    ktemp = ctemp + 273.15\n",
    "    return[ftemp,ktemp,ctemp]\n",
    "\n",
    "print(temp_converter(72))"
   ]
  },
  {
   "cell_type": "code",
   "execution_count": null,
   "metadata": {},
   "outputs": [
    {
     "name": "stdout",
     "output_type": "stream",
     "text": [
      "22.22222222222222\n"
     ]
    }
   ],
   "source": [
    "def fahr_to_celsius(temp):\n",
    "    return (temp-32) * (5/9)\n",
    "\n",
    "print(fahr_to_celsius(72))"
   ]
  },
  {
   "cell_type": "code",
   "execution_count": null,
   "metadata": {},
   "outputs": [
    {
     "name": "stdout",
     "output_type": "stream",
     "text": [
      "jojon\n",
      "jojon\n"
     ]
    }
   ],
   "source": [
    "def myfunc():\n",
    "    st='jojon'\n",
    "    y=35\n",
    "    return st,y\n",
    "\n",
    "#(myfunc()[0])\n",
    "a,b = myfunc()\n",
    "print(a)\n",
    "c = myfunc()\n",
    "print(c[0])"
   ]
  },
  {
   "cell_type": "markdown",
   "metadata": {},
   "source": [
    "SUM AXIS"
   ]
  },
  {
   "cell_type": "code",
   "execution_count": 35,
   "metadata": {},
   "outputs": [
    {
     "name": "stdout",
     "output_type": "stream",
     "text": [
      "[3 3]\n",
      "[2 4]\n"
     ]
    }
   ],
   "source": [
    "arrsum = np.array([[1,1],[2,2]])\n",
    "sum_ke_bawah = np.sum(arrsum, axis=0) #axis = 0 ke bawah\n",
    "sum_ke_samping = np.sum(arrsum, axis=1) #axis = 1 ke samping\n",
    "print(sum_ke_bawah)\n",
    "print(sum_ke_samping)"
   ]
  },
  {
   "cell_type": "markdown",
   "metadata": {},
   "source": [
    "MAX"
   ]
  },
  {
   "cell_type": "code",
   "execution_count": 51,
   "metadata": {},
   "outputs": [
    {
     "name": "stdout",
     "output_type": "stream",
     "text": [
      "[[1 1]\n",
      " [2 2]\n",
      " [3 3]\n",
      " [5 7]]\n",
      "7\n",
      "[5 7]\n",
      "[1 2 3 7]\n",
      "[[1 2 3 5]\n",
      " [1 2 3 7]]\n"
     ]
    }
   ],
   "source": [
    "maxarrsum = sum_ke_bawah + sum_ke_samping\n",
    "vstarrsum = np.vstack((arrsum,sum_ke_bawah,maxarrsum))\n",
    "print(vstarrsum)\n",
    "print(np.max(vstarrsum))\n",
    "print(np.max(vstarrsum,axis=0))\n",
    "print(np.max(vstarrsum,axis=1))"
   ]
  },
  {
   "cell_type": "markdown",
   "metadata": {},
   "source": [
    "TRANSPOSE"
   ]
  },
  {
   "cell_type": "code",
   "execution_count": 52,
   "metadata": {},
   "outputs": [
    {
     "name": "stdout",
     "output_type": "stream",
     "text": [
      "[[1 2 3 5]\n",
      " [1 2 3 7]]\n"
     ]
    }
   ],
   "source": [
    "print(vstarrsum.T)"
   ]
  },
  {
   "cell_type": "markdown",
   "metadata": {},
   "source": [
    "FLATTEN"
   ]
  },
  {
   "cell_type": "code",
   "execution_count": 53,
   "metadata": {},
   "outputs": [
    {
     "name": "stdout",
     "output_type": "stream",
     "text": [
      "[1 1 2 2 3 3 5 7]\n"
     ]
    }
   ],
   "source": [
    "vstarrflat = vstarrsum.flatten()\n",
    "print(vstarrflat)"
   ]
  }
 ],
 "metadata": {
  "interpreter": {
   "hash": "c511a689884ea87b05d7e6308bcd3bc07b8326d80ebf1c46c0d8c6a4a82d4d0a"
  },
  "kernelspec": {
   "display_name": "Python 3.10.2 64-bit",
   "language": "python",
   "name": "python3"
  },
  "language_info": {
   "codemirror_mode": {
    "name": "ipython",
    "version": 3
   },
   "file_extension": ".py",
   "mimetype": "text/x-python",
   "name": "python",
   "nbconvert_exporter": "python",
   "pygments_lexer": "ipython3",
   "version": "3.10.2"
  },
  "orig_nbformat": 4
 },
 "nbformat": 4,
 "nbformat_minor": 2
}
