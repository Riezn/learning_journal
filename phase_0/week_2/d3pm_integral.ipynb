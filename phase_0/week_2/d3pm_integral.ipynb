{
 "cells": [
  {
   "cell_type": "markdown",
   "metadata": {},
   "source": [
    "# Integral"
   ]
  },
  {
   "cell_type": "markdown",
   "metadata": {},
   "source": [
    "## Symbolic"
   ]
  },
  {
   "cell_type": "code",
   "execution_count": 2,
   "metadata": {},
   "outputs": [],
   "source": [
    "import sympy as sy\n"
   ]
  },
  {
   "cell_type": "code",
   "execution_count": 3,
   "metadata": {},
   "outputs": [
    {
     "data": {
      "text/latex": [
       "$\\displaystyle 2 x^{2} + 4 x - 1$"
      ],
      "text/plain": [
       "2*x**2 + 4*x - 1"
      ]
     },
     "execution_count": 3,
     "metadata": {},
     "output_type": "execute_result"
    }
   ],
   "source": [
    "x = sy.Symbol('x')\n",
    "f = 2*x**2+4*x-1\n",
    "f"
   ]
  },
  {
   "cell_type": "code",
   "execution_count": 4,
   "metadata": {},
   "outputs": [
    {
     "data": {
      "text/latex": [
       "$\\displaystyle \\frac{2 x^{3}}{3} + 2 x^{2} - x$"
      ],
      "text/plain": [
       "2*x**3/3 + 2*x**2 - x"
      ]
     },
     "execution_count": 4,
     "metadata": {},
     "output_type": "execute_result"
    }
   ],
   "source": [
    "sy.integrate(f)"
   ]
  },
  {
   "cell_type": "markdown",
   "metadata": {},
   "source": [
    "## Numeric"
   ]
  },
  {
   "cell_type": "code",
   "execution_count": 9,
   "metadata": {},
   "outputs": [],
   "source": [
    "from scipy import integrate\n",
    "import numpy as np"
   ]
  },
  {
   "cell_type": "code",
   "execution_count": 6,
   "metadata": {},
   "outputs": [],
   "source": [
    "def f(x):\n",
    "  return 2*x**2+4*x-1"
   ]
  },
  {
   "cell_type": "code",
   "execution_count": 7,
   "metadata": {},
   "outputs": [
    {
     "name": "stdout",
     "output_type": "stream",
     "text": [
      "(117.0, 1.2989609388114332e-12)\n"
     ]
    }
   ],
   "source": [
    "A = integrate.quad(f,2,5)\n",
    "print(A)"
   ]
  },
  {
   "cell_type": "code",
   "execution_count": 11,
   "metadata": {},
   "outputs": [],
   "source": [
    "x = np.linspace(2,5)\n",
    "y = f(x)"
   ]
  },
  {
   "cell_type": "code",
   "execution_count": 12,
   "metadata": {},
   "outputs": [
    {
     "data": {
      "text/plain": [
       "117.00374843815077"
      ]
     },
     "execution_count": 12,
     "metadata": {},
     "output_type": "execute_result"
    }
   ],
   "source": [
    "B = integrate.trapz(y,x)\n",
    "B"
   ]
  },
  {
   "cell_type": "markdown",
   "metadata": {},
   "source": [
    "## Case"
   ]
  },
  {
   "cell_type": "markdown",
   "metadata": {},
   "source": [
    "### Gross Income"
   ]
  },
  {
   "cell_type": "code",
   "execution_count": 15,
   "metadata": {},
   "outputs": [
    {
     "data": {
      "text/html": [
       "<div>\n",
       "<style scoped>\n",
       "    .dataframe tbody tr th:only-of-type {\n",
       "        vertical-align: middle;\n",
       "    }\n",
       "\n",
       "    .dataframe tbody tr th {\n",
       "        vertical-align: top;\n",
       "    }\n",
       "\n",
       "    .dataframe thead th {\n",
       "        text-align: right;\n",
       "    }\n",
       "</style>\n",
       "<table border=\"1\" class=\"dataframe\">\n",
       "  <thead>\n",
       "    <tr style=\"text-align: right;\">\n",
       "      <th></th>\n",
       "      <th>Invoice ID</th>\n",
       "      <th>Branch</th>\n",
       "      <th>City</th>\n",
       "      <th>Customer type</th>\n",
       "      <th>Gender</th>\n",
       "      <th>Product line</th>\n",
       "      <th>Unit price</th>\n",
       "      <th>Quantity</th>\n",
       "      <th>Tax 5%</th>\n",
       "      <th>Total</th>\n",
       "      <th>Date</th>\n",
       "      <th>Time</th>\n",
       "      <th>Payment</th>\n",
       "      <th>cogs</th>\n",
       "      <th>gross margin percentage</th>\n",
       "      <th>gross income</th>\n",
       "      <th>Rating</th>\n",
       "    </tr>\n",
       "  </thead>\n",
       "  <tbody>\n",
       "    <tr>\n",
       "      <th>0</th>\n",
       "      <td>765-26-6951</td>\n",
       "      <td>A</td>\n",
       "      <td>Yangon</td>\n",
       "      <td>Normal</td>\n",
       "      <td>Male</td>\n",
       "      <td>Sports and travel</td>\n",
       "      <td>72.61</td>\n",
       "      <td>6</td>\n",
       "      <td>21.783</td>\n",
       "      <td>457.443</td>\n",
       "      <td>1/1/2019</td>\n",
       "      <td>10:39</td>\n",
       "      <td>Credit card</td>\n",
       "      <td>435.66</td>\n",
       "      <td>4.761905</td>\n",
       "      <td>21.783</td>\n",
       "      <td>6.9</td>\n",
       "    </tr>\n",
       "    <tr>\n",
       "      <th>1</th>\n",
       "      <td>651-88-7328</td>\n",
       "      <td>A</td>\n",
       "      <td>Yangon</td>\n",
       "      <td>Normal</td>\n",
       "      <td>Female</td>\n",
       "      <td>Fashion accessories</td>\n",
       "      <td>65.74</td>\n",
       "      <td>9</td>\n",
       "      <td>29.583</td>\n",
       "      <td>621.243</td>\n",
       "      <td>1/1/2019</td>\n",
       "      <td>13:55</td>\n",
       "      <td>Cash</td>\n",
       "      <td>591.66</td>\n",
       "      <td>4.761905</td>\n",
       "      <td>29.583</td>\n",
       "      <td>7.7</td>\n",
       "    </tr>\n",
       "    <tr>\n",
       "      <th>2</th>\n",
       "      <td>416-17-9926</td>\n",
       "      <td>A</td>\n",
       "      <td>Yangon</td>\n",
       "      <td>Member</td>\n",
       "      <td>Female</td>\n",
       "      <td>Electronic accessories</td>\n",
       "      <td>74.22</td>\n",
       "      <td>10</td>\n",
       "      <td>37.110</td>\n",
       "      <td>779.310</td>\n",
       "      <td>1/1/2019</td>\n",
       "      <td>14:42</td>\n",
       "      <td>Credit card</td>\n",
       "      <td>742.20</td>\n",
       "      <td>4.761905</td>\n",
       "      <td>37.110</td>\n",
       "      <td>4.3</td>\n",
       "    </tr>\n",
       "    <tr>\n",
       "      <th>3</th>\n",
       "      <td>530-90-9855</td>\n",
       "      <td>A</td>\n",
       "      <td>Yangon</td>\n",
       "      <td>Member</td>\n",
       "      <td>Male</td>\n",
       "      <td>Home and lifestyle</td>\n",
       "      <td>47.59</td>\n",
       "      <td>8</td>\n",
       "      <td>19.036</td>\n",
       "      <td>399.756</td>\n",
       "      <td>1/1/2019</td>\n",
       "      <td>14:47</td>\n",
       "      <td>Cash</td>\n",
       "      <td>380.72</td>\n",
       "      <td>4.761905</td>\n",
       "      <td>19.036</td>\n",
       "      <td>5.7</td>\n",
       "    </tr>\n",
       "    <tr>\n",
       "      <th>4</th>\n",
       "      <td>182-52-7000</td>\n",
       "      <td>A</td>\n",
       "      <td>Yangon</td>\n",
       "      <td>Member</td>\n",
       "      <td>Female</td>\n",
       "      <td>Sports and travel</td>\n",
       "      <td>27.04</td>\n",
       "      <td>4</td>\n",
       "      <td>5.408</td>\n",
       "      <td>113.568</td>\n",
       "      <td>1/1/2019</td>\n",
       "      <td>20:26</td>\n",
       "      <td>Ewallet</td>\n",
       "      <td>108.16</td>\n",
       "      <td>4.761905</td>\n",
       "      <td>5.408</td>\n",
       "      <td>6.9</td>\n",
       "    </tr>\n",
       "  </tbody>\n",
       "</table>\n",
       "</div>"
      ],
      "text/plain": [
       "    Invoice ID Branch    City Customer type  Gender            Product line  \\\n",
       "0  765-26-6951      A  Yangon        Normal    Male       Sports and travel   \n",
       "1  651-88-7328      A  Yangon        Normal  Female     Fashion accessories   \n",
       "2  416-17-9926      A  Yangon        Member  Female  Electronic accessories   \n",
       "3  530-90-9855      A  Yangon        Member    Male      Home and lifestyle   \n",
       "4  182-52-7000      A  Yangon        Member  Female       Sports and travel   \n",
       "\n",
       "   Unit price  Quantity  Tax 5%    Total      Date   Time      Payment  \\\n",
       "0       72.61         6  21.783  457.443  1/1/2019  10:39  Credit card   \n",
       "1       65.74         9  29.583  621.243  1/1/2019  13:55         Cash   \n",
       "2       74.22        10  37.110  779.310  1/1/2019  14:42  Credit card   \n",
       "3       47.59         8  19.036  399.756  1/1/2019  14:47         Cash   \n",
       "4       27.04         4   5.408  113.568  1/1/2019  20:26      Ewallet   \n",
       "\n",
       "     cogs  gross margin percentage  gross income  Rating  \n",
       "0  435.66                 4.761905        21.783     6.9  \n",
       "1  591.66                 4.761905        29.583     7.7  \n",
       "2  742.20                 4.761905        37.110     4.3  \n",
       "3  380.72                 4.761905        19.036     5.7  \n",
       "4  108.16                 4.761905         5.408     6.9  "
      ]
     },
     "execution_count": 15,
     "metadata": {},
     "output_type": "execute_result"
    }
   ],
   "source": [
    "#Case Menghitung Total Pendapatan tahun 2019 di Supermarket Cabang Yangon\n",
    "import pandas as pd\n",
    "\n",
    "data = pd.read_csv('https://raw.githubusercontent.com/fahmimnalfrzki/ds-masterclass-h8-vol2/main/data/supermarket_sales%20-%20Sheet1.csv')\n",
    "data = data[data['City']=='Yangon'].sort_values(['Date','Time']).reset_index(drop=True)\n",
    "data.head()"
   ]
  },
  {
   "cell_type": "code",
   "execution_count": 16,
   "metadata": {},
   "outputs": [
    {
     "data": {
      "text/plain": [
       "<AxesSubplot:>"
      ]
     },
     "execution_count": 16,
     "metadata": {},
     "output_type": "execute_result"
    },
    {
     "data": {
      "image/png": "[encoded data removed]",
      "text/plain": [
       "<Figure size 432x288 with 1 Axes>"
      ]
     },
     "metadata": {
      "needs_background": "light"
     },
     "output_type": "display_data"
    }
   ],
   "source": [
    "data['gross income'].plot(kind='line')"
   ]
  },
  {
   "cell_type": "code",
   "execution_count": 17,
   "metadata": {},
   "outputs": [
    {
     "name": "stdout",
     "output_type": "stream",
     "text": [
      "Total Gross Income in 2019: 5033.7964999999995\n"
     ]
    }
   ],
   "source": [
    "x = data.index #ga bisa pakai date time karena bukan numerik\n",
    "y = data['gross income']\n",
    "\n",
    "total_gross_income_2019 = integrate.trapz(y,x)\n",
    "print('Total Gross Income in 2019:',total_gross_income_2019)"
   ]
  },
  {
   "cell_type": "code",
   "execution_count": 18,
   "metadata": {},
   "outputs": [
    {
     "name": "stdout",
     "output_type": "stream",
     "text": [
      "<class 'pandas.core.frame.DataFrame'>\n",
      "RangeIndex: 340 entries, 0 to 339\n",
      "Data columns (total 17 columns):\n",
      " #   Column                   Non-Null Count  Dtype         \n",
      "---  ------                   --------------  -----         \n",
      " 0   Invoice ID               340 non-null    object        \n",
      " 1   Branch                   340 non-null    object        \n",
      " 2   City                     340 non-null    object        \n",
      " 3   Customer type            340 non-null    object        \n",
      " 4   Gender                   340 non-null    object        \n",
      " 5   Product line             340 non-null    object        \n",
      " 6   Unit price               340 non-null    float64       \n",
      " 7   Quantity                 340 non-null    int64         \n",
      " 8   Tax 5%                   340 non-null    float64       \n",
      " 9   Total                    340 non-null    float64       \n",
      " 10  Date                     340 non-null    datetime64[ns]\n",
      " 11  Time                     340 non-null    object        \n",
      " 12  Payment                  340 non-null    object        \n",
      " 13  cogs                     340 non-null    float64       \n",
      " 14  gross margin percentage  340 non-null    float64       \n",
      " 15  gross income             340 non-null    float64       \n",
      " 16  Rating                   340 non-null    float64       \n",
      "dtypes: datetime64[ns](1), float64(7), int64(1), object(8)\n",
      "memory usage: 45.3+ KB\n"
     ]
    }
   ],
   "source": [
    "data['Date'] = data['Date'].astype('datetime64[ns]')\n",
    "data.info()"
   ]
  },
  {
   "cell_type": "code",
   "execution_count": 19,
   "metadata": {},
   "outputs": [],
   "source": [
    "data['Month'] = data['Date'].dt.month"
   ]
  },
  {
   "cell_type": "code",
   "execution_count": 20,
   "metadata": {},
   "outputs": [
    {
     "data": {
      "text/html": [
       "<div>\n",
       "<style scoped>\n",
       "    .dataframe tbody tr th:only-of-type {\n",
       "        vertical-align: middle;\n",
       "    }\n",
       "\n",
       "    .dataframe tbody tr th {\n",
       "        vertical-align: top;\n",
       "    }\n",
       "\n",
       "    .dataframe thead th {\n",
       "        text-align: right;\n",
       "    }\n",
       "</style>\n",
       "<table border=\"1\" class=\"dataframe\">\n",
       "  <thead>\n",
       "    <tr style=\"text-align: right;\">\n",
       "      <th></th>\n",
       "      <th>Unit price</th>\n",
       "      <th>Quantity</th>\n",
       "      <th>Tax 5%</th>\n",
       "      <th>Total</th>\n",
       "      <th>cogs</th>\n",
       "      <th>gross margin percentage</th>\n",
       "      <th>gross income</th>\n",
       "      <th>Rating</th>\n",
       "    </tr>\n",
       "    <tr>\n",
       "      <th>Month</th>\n",
       "      <th></th>\n",
       "      <th></th>\n",
       "      <th></th>\n",
       "      <th></th>\n",
       "      <th></th>\n",
       "      <th></th>\n",
       "      <th></th>\n",
       "      <th></th>\n",
       "    </tr>\n",
       "  </thead>\n",
       "  <tbody>\n",
       "    <tr>\n",
       "      <th>1</th>\n",
       "      <td>6349.53</td>\n",
       "      <td>685</td>\n",
       "      <td>1841.9585</td>\n",
       "      <td>38681.1285</td>\n",
       "      <td>36839.17</td>\n",
       "      <td>566.666667</td>\n",
       "      <td>1841.9585</td>\n",
       "      <td>842.3</td>\n",
       "    </tr>\n",
       "    <tr>\n",
       "      <th>2</th>\n",
       "      <td>5430.93</td>\n",
       "      <td>493</td>\n",
       "      <td>1421.9105</td>\n",
       "      <td>29860.1205</td>\n",
       "      <td>28438.21</td>\n",
       "      <td>447.619048</td>\n",
       "      <td>1421.9105</td>\n",
       "      <td>658.7</td>\n",
       "    </tr>\n",
       "    <tr>\n",
       "      <th>3</th>\n",
       "      <td>6845.03</td>\n",
       "      <td>681</td>\n",
       "      <td>1793.2915</td>\n",
       "      <td>37659.1215</td>\n",
       "      <td>35865.83</td>\n",
       "      <td>604.761905</td>\n",
       "      <td>1793.2915</td>\n",
       "      <td>888.2</td>\n",
       "    </tr>\n",
       "  </tbody>\n",
       "</table>\n",
       "</div>"
      ],
      "text/plain": [
       "       Unit price  Quantity     Tax 5%       Total      cogs  \\\n",
       "Month                                                          \n",
       "1         6349.53       685  1841.9585  38681.1285  36839.17   \n",
       "2         5430.93       493  1421.9105  29860.1205  28438.21   \n",
       "3         6845.03       681  1793.2915  37659.1215  35865.83   \n",
       "\n",
       "       gross margin percentage  gross income  Rating  \n",
       "Month                                                 \n",
       "1                   566.666667     1841.9585   842.3  \n",
       "2                   447.619048     1421.9105   658.7  \n",
       "3                   604.761905     1793.2915   888.2  "
      ]
     },
     "execution_count": 20,
     "metadata": {},
     "output_type": "execute_result"
    }
   ],
   "source": [
    "data_bulanan = data.groupby('Month').sum()\n",
    "data_bulanan"
   ]
  },
  {
   "cell_type": "code",
   "execution_count": 21,
   "metadata": {},
   "outputs": [
    {
     "name": "stdout",
     "output_type": "stream",
     "text": [
      "Total Gross Income on Jan - Mar: 3239.5355\n"
     ]
    }
   ],
   "source": [
    "x = data_bulanan.index\n",
    "y = data_bulanan['gross income']\n",
    "\n",
    "total = integrate.trapz(y,x)\n",
    "print('Total Gross Income on Jan - Mar:',total)"
   ]
  },
  {
   "cell_type": "code",
   "execution_count": 22,
   "metadata": {},
   "outputs": [
    {
     "data": {
      "text/plain": [
       "5057.1605"
      ]
     },
     "execution_count": 22,
     "metadata": {},
     "output_type": "execute_result"
    }
   ],
   "source": [
    "data_bulanan['gross income'].sum()"
   ]
  },
  {
   "cell_type": "markdown",
   "metadata": {},
   "source": [
    "### Luas Lingkaran"
   ]
  },
  {
   "cell_type": "code",
   "execution_count": 29,
   "metadata": {},
   "outputs": [],
   "source": [
    "from scipy.integrate import trapz"
   ]
  },
  {
   "cell_type": "code",
   "execution_count": 24,
   "metadata": {},
   "outputs": [
    {
     "data": {
      "text/plain": [
       "array([-30.        , -29.69849246, -29.39698492, -29.09547739,\n",
       "       -28.79396985, -28.49246231, -28.19095477, -27.88944724,\n",
       "       -27.5879397 , -27.28643216, -26.98492462, -26.68341709,\n",
       "       -26.38190955, -26.08040201, -25.77889447, -25.47738693,\n",
       "       -25.1758794 , -24.87437186, -24.57286432, -24.27135678,\n",
       "       -23.96984925, -23.66834171, -23.36683417, -23.06532663,\n",
       "       -22.7638191 , -22.46231156, -22.16080402, -21.85929648,\n",
       "       -21.55778894, -21.25628141, -20.95477387, -20.65326633,\n",
       "       -20.35175879, -20.05025126, -19.74874372, -19.44723618,\n",
       "       -19.14572864, -18.84422111, -18.54271357, -18.24120603,\n",
       "       -17.93969849, -17.63819095, -17.33668342, -17.03517588,\n",
       "       -16.73366834, -16.4321608 , -16.13065327, -15.82914573,\n",
       "       -15.52763819, -15.22613065, -14.92462312, -14.62311558,\n",
       "       -14.32160804, -14.0201005 , -13.71859296, -13.41708543,\n",
       "       -13.11557789, -12.81407035, -12.51256281, -12.21105528,\n",
       "       -11.90954774, -11.6080402 , -11.30653266, -11.00502513,\n",
       "       -10.70351759, -10.40201005, -10.10050251,  -9.79899497,\n",
       "        -9.49748744,  -9.1959799 ,  -8.89447236,  -8.59296482,\n",
       "        -8.29145729,  -7.98994975,  -7.68844221,  -7.38693467,\n",
       "        -7.08542714,  -6.7839196 ,  -6.48241206,  -6.18090452,\n",
       "        -5.87939698,  -5.57788945,  -5.27638191,  -4.97487437,\n",
       "        -4.67336683,  -4.3718593 ,  -4.07035176,  -3.76884422,\n",
       "        -3.46733668,  -3.16582915,  -2.86432161,  -2.56281407,\n",
       "        -2.26130653,  -1.95979899,  -1.65829146,  -1.35678392,\n",
       "        -1.05527638,  -0.75376884,  -0.45226131,  -0.15075377,\n",
       "         0.15075377,   0.45226131,   0.75376884,   1.05527638,\n",
       "         1.35678392,   1.65829146,   1.95979899,   2.26130653,\n",
       "         2.56281407,   2.86432161,   3.16582915,   3.46733668,\n",
       "         3.76884422,   4.07035176,   4.3718593 ,   4.67336683,\n",
       "         4.97487437,   5.27638191,   5.57788945,   5.87939698,\n",
       "         6.18090452,   6.48241206,   6.7839196 ,   7.08542714,\n",
       "         7.38693467,   7.68844221,   7.98994975,   8.29145729,\n",
       "         8.59296482,   8.89447236,   9.1959799 ,   9.49748744,\n",
       "         9.79899497,  10.10050251,  10.40201005,  10.70351759,\n",
       "        11.00502513,  11.30653266,  11.6080402 ,  11.90954774,\n",
       "        12.21105528,  12.51256281,  12.81407035,  13.11557789,\n",
       "        13.41708543,  13.71859296,  14.0201005 ,  14.32160804,\n",
       "        14.62311558,  14.92462312,  15.22613065,  15.52763819,\n",
       "        15.82914573,  16.13065327,  16.4321608 ,  16.73366834,\n",
       "        17.03517588,  17.33668342,  17.63819095,  17.93969849,\n",
       "        18.24120603,  18.54271357,  18.84422111,  19.14572864,\n",
       "        19.44723618,  19.74874372,  20.05025126,  20.35175879,\n",
       "        20.65326633,  20.95477387,  21.25628141,  21.55778894,\n",
       "        21.85929648,  22.16080402,  22.46231156,  22.7638191 ,\n",
       "        23.06532663,  23.36683417,  23.66834171,  23.96984925,\n",
       "        24.27135678,  24.57286432,  24.87437186,  25.1758794 ,\n",
       "        25.47738693,  25.77889447,  26.08040201,  26.38190955,\n",
       "        26.68341709,  26.98492462,  27.28643216,  27.5879397 ,\n",
       "        27.88944724,  28.19095477,  28.49246231,  28.79396985,\n",
       "        29.09547739,  29.39698492,  29.69849246,  30.        ])"
      ]
     },
     "execution_count": 24,
     "metadata": {},
     "output_type": "execute_result"
    }
   ],
   "source": [
    "R=30\n",
    "x=np.linspace(-R,R,200)\n",
    "x"
   ]
  },
  {
   "cell_type": "code",
   "execution_count": 26,
   "metadata": {},
   "outputs": [],
   "source": [
    "upper = np.sqrt(R**2 - x**2)\n",
    "lower = -upper"
   ]
  },
  {
   "cell_type": "code",
   "execution_count": 27,
   "metadata": {},
   "outputs": [
    {
     "data": {
      "text/plain": [
       "[<matplotlib.lines.Line2D at 0x2175f3c3910>]"
      ]
     },
     "execution_count": 27,
     "metadata": {},
     "output_type": "execute_result"
    },
    {
     "data": {
      "image/png": "[encoded data removed]",
      "text/plain": [
       "<Figure size 432x432 with 1 Axes>"
      ]
     },
     "metadata": {
      "needs_background": "light"
     },
     "output_type": "display_data"
    }
   ],
   "source": [
    "import matplotlib.pyplot as plt\n",
    "fig,ax = plt.subplots(figsize=(6,6))\n",
    "ax.plot(x,upper)\n",
    "ax.plot(x,lower)"
   ]
  },
  {
   "cell_type": "code",
   "execution_count": 31,
   "metadata": {},
   "outputs": [
    {
     "name": "stdout",
     "output_type": "stream",
     "text": [
      "2826.367344907366\n"
     ]
    }
   ],
   "source": [
    "area = trapz(upper,x) - trapz(lower,x)\n",
    "\n",
    "print(area)"
   ]
  }
 ],
 "metadata": {
  "interpreter": {
   "hash": "c511a689884ea87b05d7e6308bcd3bc07b8326d80ebf1c46c0d8c6a4a82d4d0a"
  },
  "kernelspec": {
   "display_name": "Python 3.10.2 64-bit",
   "language": "python",
   "name": "python3"
  },
  "language_info": {
   "codemirror_mode": {
    "name": "ipython",
    "version": 3
   },
   "file_extension": ".py",
   "mimetype": "text/x-python",
   "name": "python",
   "nbconvert_exporter": "python",
   "pygments_lexer": "ipython3",
   "version": "3.10.2"
  },
  "orig_nbformat": 4
 },
 "nbformat": 4,
 "nbformat_minor": 2
}
