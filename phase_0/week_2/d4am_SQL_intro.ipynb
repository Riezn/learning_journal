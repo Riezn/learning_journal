{
 "cells": [
  {
   "cell_type": "markdown",
   "metadata": {},
   "source": [
    "# SQL"
   ]
  },
  {
   "cell_type": "markdown",
   "metadata": {},
   "source": [
    "1. DDL – Data Definition Language\n",
    "2. DQl – Data Query Language\n",
    "3. DML – Data Manipulation Language\n",
    "4. DCL – Data Control Language"
   ]
  },
  {
   "cell_type": "markdown",
   "metadata": {},
   "source": [
    "## DML"
   ]
  },
  {
   "cell_type": "markdown",
   "metadata": {},
   "source": [
    "```\n",
    "-- Membuat tabel teachers\n",
    "CREATE TABLE teachers (\n",
    "    id INT NOT NULL PRIMARY KEY AUTO_INCREMENT,\n",
    "    first_name varchar(25) NOT NULL,\n",
    "    last_name varchar(50),\n",
    "    school varchar(50) NOT NULL,\n",
    "    hire_date date,\n",
    "    salary numeric\n",
    "    );\n",
    "\n",
    "-- Menambahkan kolom age\n",
    "ALTER TABLE teachers ADD age INT;\n",
    "\n",
    "-- Menghapus kolom age\n",
    "ALTER TABLE teachers DROP COLUMN age;\n",
    "\n",
    "-- Mengganti tipe data kolom salary \n",
    "ALTER TABLE teachers MODIFY COLUMN salary INT;\n",
    "\n",
    "-- Mengganti nama tabel \n",
    "ALTER TABLE teachers RENAME TO guru;\n",
    "ALTER TABLE guru RENAME TO teachers;\n",
    "\n",
    "-- Insert data\n",
    "INSERT INTO teachers (id,first_name, last_name, school, hire_date, salary)\n",
    "    VALUES (1,'Janet', 'Smith', 'MIT', '2011-10-30', 36200),\n",
    "           (2,'Lee', 'Reynolds', 'MIT', '1993-05-22', 65000),\n",
    "           (3,'Samuel', 'Cole', 'Cambridge University', '2005-08-01', 43500),\n",
    "           (4,'Samantha', 'Bush', 'Cambridge University', '2011-10-30', 36200),\n",
    "           (5,'Betty', 'Diaz', 'Cambridge University', '2005-08-30', 43500),\n",
    "           (6,'Kathleen', 'Roush', 'MIT', '2010-10-22', 38500),\n",
    "           (7,'James', 'Diaz', 'Harvard University', '2003-07-18', 61000),\n",
    "           (8,'Zack', 'Smith', 'Harvard University', '2000-12-29', 55500),\n",
    "           (9,'Luis', 'Gonzales', 'Standford University', '2002-12-01', 50000),\n",
    "           (10,'Frank', 'Abbers', 'Standford University', '1999-01-30', 66000);\n",
    "           \n",
    "-- Cek data \n",
    "SELECT * FROM teachers;\n",
    "\n",
    "-- Hapus data\n",
    "TRUNCATE TABLE teachers;\n",
    "SELECT * FROM teachers;\n",
    "\n",
    "-- Hapus tabel \n",
    "DROP TABLE teachers;\n",
    "```"
   ]
  },
  {
   "cell_type": "markdown",
   "metadata": {},
   "source": [
    "## DDL"
   ]
  },
  {
   "cell_type": "markdown",
   "metadata": {},
   "source": [
    "```\n",
    "-- Membuat tabel teachers\n",
    "CREATE TABLE teachers (\n",
    "    id INT NOT NULL PRIMARY KEY AUTO_INCREMENT,\n",
    "    first_name varchar(25) NOT NULL,\n",
    "    last_name varchar(50),\n",
    "    school varchar(50) NOT NULL,\n",
    "    hire_date date,\n",
    "    salary numeric\n",
    "    );\n",
    "-- Insert data\n",
    "INSERT INTO teachers (id,first_name, last_name, school, hire_date, salary)\n",
    "    VALUES (1,'Janet', 'Smith', 'MIT', '2011-10-30', 36200),\n",
    "           (2,'Lee', 'Reynolds', 'MIT', '1993-05-22', 65000),\n",
    "           (3,'Samuel', 'Cole', 'Cambridge University', '2005-08-01', 43500),\n",
    "           (4,'Samantha', 'Bush', 'Cambridge University', '2011-10-30', 36200),\n",
    "           (5,'Betty', 'Diaz', 'Cambridge University', '2005-08-30', 43500),\n",
    "           (6,'Kathleen', 'Roush', 'MIT', '2010-10-22', 38500),\n",
    "           (7,'James', 'Diaz', 'Harvard University', '2003-07-18', 61000),\n",
    "           (8,'Zack', 'Smith', 'Harvard University', '2000-12-29', 55500),\n",
    "           (9,'Luis', 'Gonzales', 'Standford University', '2002-12-01', 50000),\n",
    "           (10,'Frank', 'Abbers', 'Standford University', '1999-01-30', 66000);\n",
    "           \n",
    "-- Cek data \n",
    "SELECT * FROM teachers;\n",
    "\n",
    "INSERT INTO teachers (first_name, last_name, school, hire_date, salary)\n",
    "    VALUES ('Samuel', 'Abbers', 'Standford University', '2006-01-30', 32000),\n",
    "           ('Jessica', 'Abbers', 'Standford University', '2005-01-30', 33000),\n",
    "           ('Tom', 'Massi', 'Harvard University', '1999-09-09', 39500),\n",
    "           ('Esteban', 'Brown', 'MIT', '2007-01-30', 36000),\n",
    "           ('Carlos', 'Alonso', 'Standford University', '2001-01-30', 44000);\n",
    "           \n",
    "-- Cek data \n",
    "SELECT * FROM teachers;\n",
    "\n",
    "-- Hapus data di baris spesifik  \n",
    "DELETE FROM teachers WHERE id=10;\n",
    "\n",
    "SELECT first_name, school, salary FROM teachers order by first_name desc;\n",
    "\n",
    "SELECT count(*) AS 'jumlah guru' FROM teachers;\n",
    "\n",
    "SELECT * from teachers where school='MIT' AND salary>40000;\n",
    "\n",
    "SELECT * from teachers where school in ('MIT','Harvard University');\n",
    "\n",
    "SELECT DISTINCT school from teachers;\n",
    "\n",
    "SELECT count(DISTINCT school) from teachers;\n",
    "\n",
    "select * from teachers where (school like 'Cambridge' and salary > 45000);\n",
    "```"
   ]
  }
 ],
 "metadata": {
  "interpreter": {
   "hash": "c511a689884ea87b05d7e6308bcd3bc07b8326d80ebf1c46c0d8c6a4a82d4d0a"
  },
  "kernelspec": {
   "display_name": "Python 3.10.2 64-bit",
   "language": "python",
   "name": "python3"
  },
  "language_info": {
   "codemirror_mode": {
    "name": "ipython",
    "version": 3
   },
   "file_extension": ".py",
   "mimetype": "text/x-python",
   "name": "python",
   "nbconvert_exporter": "python",
   "pygments_lexer": "ipython3",
   "version": "3.10.2"
  },
  "orig_nbformat": 4
 },
 "nbformat": 4,
 "nbformat_minor": 2
}
