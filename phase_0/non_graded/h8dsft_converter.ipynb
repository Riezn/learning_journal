{
 "cells": [
  {
   "cell_type": "code",
   "execution_count": 30,
   "metadata": {},
   "outputs": [
    {
     "name": "stdout",
     "output_type": "stream",
     "text": [
      "(546.3, 0.0)\n",
      "(273.15, -273.15)\n"
     ]
    }
   ],
   "source": [
    "#Konversi Kelvin dari dan ke Celsius\n",
    "def kelvcels(input_temp):\n",
    "    \"\"\"\n",
    "    Function untuk konversi Kelvin ke Celsius dan Celsius ke Kelvin\n",
    "    \"\"\"\n",
    "    tempk = input_temp + 273.15 #output Kelvin\n",
    "    tempc = input_temp - 273.15 #output derajat Celsius\n",
    "    return tempk, tempc #dua output untuk dicek di konversi ke Fahrenheit"
   ]
  },
  {
   "cell_type": "code",
   "execution_count": 62,
   "metadata": {},
   "outputs": [
    {
     "name": "stdout",
     "output_type": "stream",
     "text": [
      "Unit temperatur Anda adalah derajat Celsius\n",
      "Temperatur awal Anda adalah 0.0 degC\n",
      "Setara dengan 32.00 degF\n"
     ]
    }
   ],
   "source": [
    "#Konversi ke Fahrenheit dari Kelvin atau Celsius\n",
    "def convtofahr(input_temp):\n",
    "    \"\"\"\n",
    "    Function untuk konversi dari input temperatur ke output Fahrenheit dengan memilih unit input temperatur berupa Celsius atau Kelvin\n",
    "    \"\"\"\n",
    "    \n",
    "    #Mengubah input ke Celsius dan Kelvin\n",
    "    tempk, tempc = kelvcels(input_temp)\n",
    "    \n",
    "    #Pemilihan unit dan input temperatur (Celsius atau Kelvin)\n",
    "    while True:\n",
    "        unit_temp = str(input(\"Masukkan unit temperatur (Celsius atau Kelvin): \")) #user memilih Celsius atau Kelvin\n",
    "        if unit_temp.lower() == \"celsius\": #Output jika memilih Celsius\n",
    "            print(\"Unit temperatur Anda adalah derajat Celsius\")\n",
    "            print(f\"Temperatur awal Anda adalah {input_temp} degC\")\n",
    "            interim_tempc = input_temp #meneruskan input_temp yang sudah dalam Celsius untuk konversi ke Fahrenheit\n",
    "            break\n",
    "        elif unit_temp.lower() == \"kelvin\": #Output jika memilih Kelvin\n",
    "            print(\"Unit temperatur Anda adalah Kelvin\")\n",
    "            print(f\"Temperatur awal Anda adalah {input_temp} K\")\n",
    "            interim_tempc = tempc #meneruskan tempc yang merupakan hasil konversi Kelvin ke Celsius dari function kelvcels untuk konversi ke Fahrenheit\n",
    "            break\n",
    "        else: #Ulang sampai unit yang dimasukkan Kelvin atau Celsius\n",
    "            print(\"Unit temperatur hanya tersedia dalam Kelvin atau Celsius\")\n",
    "            continue\n",
    "    fahro = interim_tempc * 9 / 5 + 32 #Konversi Celsius ke Fahrenheit\n",
    "    return fahro\n",
    "\n",
    "\n",
    "x = float(input(\"Masukkan nilai temperatur yang akan dikonversi: \")) #Tidak mempertimbangkan Hukum Fisika (>0 K atau >-273.15 degC)\n",
    "print(f\"Setara dengan {convtofahr(x):.2f} degF\")\n",
    "    "
   ]
  },
  {
   "cell_type": "code",
   "execution_count": 59,
   "metadata": {},
   "outputs": [
    {
     "name": "stdout",
     "output_type": "stream",
     "text": [
      "Input temperatur Anda adalah 0.00 degF\n",
      "Unit temperatur Anda adalah derajat Kelvin\n",
      "Temperatur hasil konversi adalah 255.37 K\n"
     ]
    },
    {
     "data": {
      "text/plain": [
       "255.3722222222222"
      ]
     },
     "execution_count": 59,
     "metadata": {},
     "output_type": "execute_result"
    }
   ],
   "source": [
    "def convfrfahr(fahri):\n",
    "    \"\"\"\n",
    "    Function untuk konversi dari input Fahrenheit ke output Kelvin atau Celsius sesuai pilihan user\n",
    "    \"\"\"\n",
    "    celso = (fahri - 32) * 5 / 9\n",
    "    kelvo = kelvcels(celso)[0]\n",
    "\n",
    "    #Pemilihan unit dan input temperatur (Celsius atau Kelvin)\n",
    "    while True:\n",
    "        unit_temp = str(input(\"Pilih unit untuk output temperatur (Celsius atau Kelvin): \")) #user memilih output dalam Celsius atau Kelvin\n",
    "        if unit_temp.lower() == \"celsius\": #Output jika memilih Celsius\n",
    "            print(\"Unit temperatur Anda adalah derajat Celsius\")\n",
    "            print(f\"Temperatur hasil konversi adalah {celso:.2f} degC\")\n",
    "            return celso\n",
    "        elif unit_temp.lower() == \"kelvin\": #Output jika memilih Kelvin\n",
    "            print(\"Unit temperatur Anda adalah derajat Kelvin\")\n",
    "            print(f\"Temperatur hasil konversi adalah {kelvo:.2f} K\")\n",
    "            return kelvo\n",
    "        else: #Ulang sampai unit yang dimasukkan Kelvin atau Celsius\n",
    "            print(\"Unit temperatur hanya tersedia dalam Kelvin atau Celsius\")\n",
    "            continue\n",
    "\n",
    "x = float(input(\"Masukkan nilai temperatur yang akan dikonversi: \")) #Tidak mempertimbangkan Hukum Fisika (>−459.67 degF)\n",
    "print(f\"Input temperatur Anda adalah {x:.2f} degF\")\n",
    "convfrfahr(0)"
   ]
  },
  {
   "cell_type": "markdown",
   "metadata": {},
   "source": [
    "Tambahan Input Limitation dengan Pertimbangan Hukum Fisika"
   ]
  },
  {
   "cell_type": "code",
   "execution_count": 42,
   "metadata": {},
   "outputs": [
    {
     "name": "stdout",
     "output_type": "stream",
     "text": [
      "Unit temperatur Anda adalah derajat Celsius\n",
      "Tempratur harus di atas 0 K atau di atas -273.15 degC\n",
      "Input tempratur Anda adalah 0.0 degC\n"
     ]
    }
   ],
   "source": [
    "#Pemilihan unit temperatur (Celsius atau Kelvin)\n",
    "#Hanya untuk convtofahr dan harus sedikit merombak susunan kode\n",
    "\n",
    "while True:\n",
    "    unit_temp = str(input(\"Masukkan unit temperatur (Celsius atau Kelvin): \"))\n",
    "    if unit_temp.lower() == \"celsius\":\n",
    "        print(\"Unit temperatur Anda adalah derajat Celsius\")\n",
    "        break\n",
    "    elif unit_temp.lower() == \"kelvin\":\n",
    "        print(\"Unit temperatur Anda adalah Kelvin\")\n",
    "        break\n",
    "    else:\n",
    "        print(\"Unit temperatur hanya tersedia dalam Kelvin atau Celsius\")\n",
    "        continue\n",
    "\n",
    "#Input Temperatur dalam float harus di atas 0 K atau -273.15 degC\n",
    "while True:\n",
    "    input_temp = float(input(\"Masukkan nilai temperatur yang akan dikonversi: \"))\n",
    "    if input_temp >= 0 and unit_temp.lower() == \"kelvin\":\n",
    "        print(f\"Input temperatur Anda adalah {input_temp} K\")\n",
    "        break\n",
    "    elif input_temp >= -273.15 and unit_temp.lower() == \"celsius\":\n",
    "        print(f\"Input temperatur Anda adalah {input_temp} degC\")\n",
    "        break\n",
    "    else:\n",
    "        print(\"temperatur harus di atas 0 K atau di atas -273.15 degC\")\n",
    "        continue"
   ]
  },
  {
   "cell_type": "code",
   "execution_count": null,
   "metadata": {},
   "outputs": [],
   "source": [
    "#Input temperatur dalam float harus di atas −459.67 degF\n",
    "#Hanya untuk convfrfahr\n",
    "\n",
    "while True:\n",
    "    input_temp = float(input(\"Masukkan nilai temperatur yang akan dikonversi: \"))\n",
    "    if input_temp >= -459.67:\n",
    "        print(f\"Input temperatur Anda adalah {input_temp} degF\")\n",
    "        break\n",
    "    else:\n",
    "        print(\"Temperatur harus di atas -459.67 degF\")\n",
    "        continue"
   ]
  }
 ],
 "metadata": {
  "interpreter": {
   "hash": "c511a689884ea87b05d7e6308bcd3bc07b8326d80ebf1c46c0d8c6a4a82d4d0a"
  },
  "kernelspec": {
   "display_name": "Python 3.10.2 64-bit",
   "language": "python",
   "name": "python3"
  },
  "language_info": {
   "codemirror_mode": {
    "name": "ipython",
    "version": 3
   },
   "file_extension": ".py",
   "mimetype": "text/x-python",
   "name": "python",
   "nbconvert_exporter": "python",
   "pygments_lexer": "ipython3",
   "version": "3.10.2"
  },
  "orig_nbformat": 4
 },
 "nbformat": 4,
 "nbformat_minor": 2
}
